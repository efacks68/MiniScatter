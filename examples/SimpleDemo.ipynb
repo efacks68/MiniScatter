{
 "cells": [
  {
   "cell_type": "markdown",
   "metadata": {},
   "source": [
    "# SimpleDemo\n",
    "\n",
    "The purpose of this notebook is to give a quick demonstration of how to use the MiniScatter Python interface, including running single simulations, getting the data, caching, and scans."
   ]
  },
  {
   "cell_type": "markdown",
   "metadata": {},
   "source": [
    "## Code setup"
   ]
  },
  {
   "cell_type": "code",
   "execution_count": 1,
   "metadata": {},
   "outputs": [
    {
     "name": "stdout",
     "output_type": "stream",
     "text": [
      "Welcome to JupyROOT 6.20/04\n"
     ]
    }
   ],
   "source": [
    "import numpy as np\n",
    "import matplotlib.pyplot as plt\n",
    "from scipy import stats\n",
    "import ROOT\n",
    "import os"
   ]
  },
  {
   "cell_type": "code",
   "execution_count": 2,
   "metadata": {},
   "outputs": [],
   "source": [
    "#Setup MiniScatter -- modify the path to where you built MiniScatter!\n",
    "import sys\n",
    "MiniScatter_path=\"../build/.\"\n",
    "sys.path.append(MiniScatter_path)\n",
    "\n",
    "import miniScatterDriver\n",
    "import miniScatterScanner\n",
    "import miniScatterPlots"
   ]
  },
  {
   "cell_type": "code",
   "execution_count": 3,
   "metadata": {},
   "outputs": [],
   "source": [
    "#Enable zooming etc. on MATPLOTLIB plots inside JuPyter (not in JupyterLab!)\n",
    "\n",
    "# %matplotlib notebook\n",
    "\n",
    "#If necessary, set different figsizes (otherwise too small on hi-res screens)\n",
    "plt.rcParams['figure.figsize'] = [8, 5]\n",
    "plt.rcParams['figure.dpi'] = 100\n"
   ]
  },
  {
   "cell_type": "markdown",
   "metadata": {},
   "source": [
    "## Simulation setup"
   ]
  },
  {
   "cell_type": "code",
   "execution_count": 4,
   "metadata": {},
   "outputs": [],
   "source": [
    "### Basic simulation parameters ###\n",
    "\n",
    "QUIET   = False #Reduced output?\n",
    "TRYLOAD = True  #Try to load already existing data instead of recomputing?\n",
    "NUM_THREADS = 8 #Number of parallel threads to use for scans\n",
    "#Where to store temporary data for scans (a fast file system, NOT EOS/AFS)\n",
    "TMPFOLDER = \"/tmp/miniScatter/SimpleDemo_thicknessScan\"\n",
    "\n",
    "#When making multiple scans, it's nice to first create a `baseSimSetup` and then modify it for each simulation\n",
    "# Note: each argument here corresponds roughly to a command line argument.\n",
    "# Look inside miniScatterDriver.runScatter() to see how.\n",
    "\n",
    "baseSimSetup = {}\n",
    "#baseSimSetup[\"PHYS\"] = \"QGSP_BERT__SS\" #Use the __SS physics lists for thin foils\n",
    "baseSimSetup[\"PHYS\"]  = \"QGSP_BERT\"\n",
    "baseSimSetup[\"N\"]     = 1000 #Just a few events here! Remember that thicker targets are slower\n",
    "\n",
    "baseSimSetup[\"ENERGY\"] = 215.0 #[MeV]\n",
    "\n",
    "#Use a distribution defined by Twiss parameters instead of a pencil beam?\n",
    "#EPS   = 3.0 #[um]\n",
    "#BETA  = 1.4 #[m]\n",
    "#ALPHA = 0.0\n",
    "#baseSimSetup[\"COVAR\"] = (EPS,BETA,ALPHA)\n",
    "\n",
    "#Use a flat distribution or cut the tails of the Gaussian?\n",
    "#baseSimSetup[\"BEAM_RCUT\"] = 3.0\n",
    "\n",
    "#Where to start the beam.\n",
    "#baseSimSetup[\"ZOFFSET_BACKTRACK\"] = True\n",
    "baseSimSetup[\"ZOFFSET\"]           = 0.0 #Auto\n",
    "\n",
    "#Beam particle type\n",
    "baseSimSetup[\"BEAM\"]    = \"e-\"\n",
    "\n",
    "baseSimSetup[\"WORLDSIZE\"] = 1000.0 #Make the world wider\n",
    "\n",
    "#Target is 10 mm of aluminium\n",
    "baseSimSetup[\"THICK\"] = 10\n",
    "baseSimSetup[\"MAT\"] = \"G4_Al\"\n",
    "\n",
    "#Detector distance from target center [mm] \n",
    "baseSimSetup[\"DIST\"] = 3000.0 \n",
    "\n",
    "#Some output settings\n",
    "baseSimSetup[\"QUICKMODE\"] = False #Include slow plots\n",
    "baseSimSetup[\"MINIROOT\"]  = False #Skip TTRees in the .root files\n",
    "\n",
    "baseSimSetup[\"EDEP_DZ\"]   = 1.0\n",
    "baseSimSetup[\"CUTOFF_RADIUS\"] = 100.0 #Larger radial cutoff\n",
    "\n",
    "#Store the .root files in a subfolder from where this script is running,\n",
    "# normally MiniScatter/examples, in order to keep things together\n",
    "baseSimSetup[\"OUTFOLDER\"] = os.path.join(os.getcwd(),\"SimpleDemo\")\n"
   ]
  },
  {
   "cell_type": "markdown",
   "metadata": {},
   "source": [
    "## Just a simple simulation\n",
    "\n",
    "Here we run a short simulation and load the data. No caching"
   ]
  },
  {
   "cell_type": "code",
   "execution_count": 5,
   "metadata": {},
   "outputs": [
    {
     "name": "stdout",
     "output_type": "stream",
     "text": [
      "Running command line: './MiniScatter -t 10 -m G4_Al -d 3000.0 -w 1000.0 -p QGSP_BERT -n 1000 -e 215.0 -b e- -z 0.0 -f simple1 -o /home/kyrsjo/code/MiniScatter/examples/SimpleDemo --cutoffRadius 100.0 --edepDZ 1.0'\n",
      "RunFolder = '/home/kyrsjo/code/MiniScatter/build'\n",
      "logName   = '/home/kyrsjo/code/MiniScatter/build/MiniScatterLog_2020-07-09T11:42:11.629053.txt'\n",
      "-\n",
      "Event# 0\n",
      "Event# 500\n",
      "-\n",
      "Done!\n"
     ]
    }
   ],
   "source": [
    "#Run the simulation\n",
    "\n",
    "simSetup_simple1 = baseSimSetup.copy()\n",
    "#Give the .root file a name\n",
    "simSetup_simple1[\"OUTNAME\"] = \"simple1\"\n",
    "\n",
    "miniScatterDriver.runScatter(simSetup_simple1, quiet=QUIET)"
   ]
  },
  {
   "cell_type": "code",
   "execution_count": 6,
   "metadata": {},
   "outputs": [
    {
     "name": "stdout",
     "output_type": "stream",
     "text": [
      "Loading data...\n",
      "Done!\n",
      "\n",
      "TWISS:\n",
      "dict_keys(['init', 'target_exit', 'target_exit_cutoff', 'tracker', 'tracker_cutoff', 'tracker_cutoffPDG-11', 'tracker_cutoffPDGother', 'tracker_cutoffPDG11', 'tracker_cutoffPDG22', 'tracker_cutoffPDG2212'])\n",
      " |-  dict_keys(['x', 'y'])\n",
      " |    |-  dict_keys(['eps', 'beta', 'alpha', 'posAve', 'angAve', 'posVar', 'angVar', 'coVar'])\n",
      " |    |-  dict_keys(['eps', 'beta', 'alpha', 'posAve', 'angAve', 'posVar', 'angVar', 'coVar'])\n",
      "\n",
      "twiss_simple1['target_exit']['x']['alpha'] = -0.1405129145655844\n",
      "\n",
      "\n",
      "NUMPART:\n",
      "dict_keys(['target', 'target_cutoff', 'tracker', 'tracker_cutoff'])\n",
      "numPart_simple1['target'] = {-11: 9, 11: 1106, 22: 1237, 2212: 1}\n",
      "\n",
      "\n",
      "OBJECTS:\n",
      "dict_keys(['targetEdep', 'target_edep_dens', 'target_edep_rdens', 'metadata'])\n",
      "objects_simple1['targetEdep'] = Name: targetEdep-localClone Title: targetEdep NbinsX: 1000\n"
     ]
    }
   ],
   "source": [
    "#Load the data\n",
    "print(\"Loading data...\")\n",
    "(twiss_simple1, numPart_simple1, objects_simple1) = \\\n",
    "    miniScatterDriver.getData(filename=os.path.join(simSetup_simple1[\"OUTFOLDER\"],simSetup_simple1[\"OUTNAME\"])+\".root\",\\\n",
    "                              quiet=QUIET, getObjects=[\"targetEdep\",\"target_edep_dens\",\"target_edep_rdens\",\"metadata\"])\n",
    "print(\"Done!\")\n",
    "print()\n",
    "\n",
    "#Look at the catch\n",
    "print (\"TWISS:\")\n",
    "print (twiss_simple1.keys())\n",
    "print (\" |- \", twiss_simple1['init'].keys())\n",
    "print (\" |    |- \", twiss_simple1['init']['x'].keys())\n",
    "print (\" |    |- \", twiss_simple1['init']['x'].keys())\n",
    "print()\n",
    "print(\"twiss_simple1['target_exit']['x']['alpha'] =\", twiss_simple1['target_exit']['x']['alpha'])\n",
    "print()\n",
    "print()\n",
    "\n",
    "print(\"NUMPART:\")\n",
    "print(numPart_simple1.keys())\n",
    "print(\"numPart_simple1['target'] =\", numPart_simple1['target'])\n",
    "print()\n",
    "print()\n",
    "\n",
    "print(\"OBJECTS:\")\n",
    "print(objects_simple1.keys())\n",
    "print(\"objects_simple1['targetEdep'] =\", objects_simple1['targetEdep'])"
   ]
  },
  {
   "cell_type": "markdown",
   "metadata": {},
   "source": [
    "Note: Here, only 3 of the many possible objects were loaded from the .root file.\n",
    "To see all of them, enter the folder `MiniScatter/examples/SimpleDemo` and run `rootls simple1.root`.\n",
    "\n",
    "Typical output:"
   ]
  },
  {
   "cell_type": "code",
   "execution_count": 7,
   "metadata": {},
   "outputs": [
    {
     "name": "stdout",
     "output_type": "stream",
     "text": [
      "\u001b[1mTH1D              \u001b[0mJul 09 11:42 2020 init_E                                \"Initial particle energy\"\n",
      "\u001b[1mTH2D              \u001b[0mJul 09 11:42 2020 init_x                                \"Initial phase space (x)\"\n",
      "\u001b[1mTVectorT<double>  \u001b[0mJul 09 11:42 2020 init_x_TWISS                          \"\"\n",
      "\u001b[1mTH2D              \u001b[0mJul 09 11:42 2020 init_xy                               \"Initial phase space (x,y)\"\n",
      "\u001b[1mTH2D              \u001b[0mJul 09 11:42 2020 init_y                                \"Initial phase space (y)\"\n",
      "\u001b[1mTVectorT<double>  \u001b[0mJul 09 11:42 2020 init_y_TWISS                          \"\"\n",
      "\u001b[1mTTree             \u001b[0mJul 09 11:42 2020 magnetEdeps                           \"Magnet Edeps tree\"\n",
      "  \u001b[1mCluster INCLUSIVE ranges:\n",
      "\u001b[0m   - # 0: [0, 998]\n",
      "   - # 1: [999, 999]\n",
      "  \u001b[1mThe total number of clusters is 2\n",
      "\u001b[0m\u001b[1mTVectorT<double>  \u001b[0mJul 09 11:42 2020 metadata                              \"\"\n",
      "\u001b[1mTVectorT<double>  \u001b[0mJul 09 11:42 2020 target_cutoff_ParticleTypes_numpart   \"\"\n",
      "\u001b[1mTVectorT<double>  \u001b[0mJul 09 11:42 2020 target_cutoff_ParticleTypes_PDG       \"\"\n",
      "\u001b[1mTH3D              \u001b[0mJul 09 11:42 2020 target_edep_dens                      \"Target energy deposition density [MeV/bin]\"\n",
      "\u001b[1mTH2D              \u001b[0mJul 09 11:42 2020 target_edep_rdens                     \"Target radial energy deposition density [MeV/bin]\"\n",
      "\u001b[1mTH1D              \u001b[0mJul 09 11:42 2020 target_exit_angle                     \"Exit angle from target\"\n",
      "\u001b[1mTH1D              \u001b[0mJul 09 11:42 2020 target_exit_cutoff_energy_PDG-11      \"Particle energy when exiting target (positrons) (r < Rcut, E > Ecut)\"\n",
      "\u001b[1mTH1D              \u001b[0mJul 09 11:42 2020 target_exit_cutoff_energy_PDG11       \"Particle energy when exiting target (electrons) (r < Rcut, E > Ecut)\"\n",
      "\u001b[1mTH1D              \u001b[0mJul 09 11:42 2020 target_exit_cutoff_energy_PDG22       \"Particle energy when exiting target (photons) (r < Rcut, E > Ecut)\"\n",
      "\u001b[1mTH1D              \u001b[0mJul 09 11:42 2020 target_exit_cutoff_energy_PDG2212     \"Particle energy when exiting target (protons) (r < Rcut, E > Ecut)\"\n",
      "\u001b[1mTH1D              \u001b[0mJul 09 11:42 2020 target_exit_cutoff_energy_PDGother    \"Particle energy when exiting target (other) (r < Rcut)\"\n",
      "\u001b[1mTH2D              \u001b[0mJul 09 11:42 2020 target_exit_cutoff_x                  \"Target exit phase space (x) (charged, energy > Ecut, r < Rcut)\"\n",
      "\u001b[1mTVectorT<double>  \u001b[0mJul 09 11:42 2020 target_exit_cutoff_x_TWISS            \"\"\n",
      "\u001b[1mTH2D              \u001b[0mJul 09 11:42 2020 target_exit_cutoff_y                  \"Target exit phase space (y) (charged, energy > Ecut, r < Rcut)\"\n",
      "\u001b[1mTVectorT<double>  \u001b[0mJul 09 11:42 2020 target_exit_cutoff_y_TWISS            \"\"\n",
      "\u001b[1mTH1D              \u001b[0mJul 09 11:42 2020 target_exit_energy_PDG-11             \"Particle energy when exiting target (positrons)\"\n",
      "\u001b[1mTH1D              \u001b[0mJul 09 11:42 2020 target_exit_energy_PDG11              \"Particle energy when exiting target (electrons)\"\n",
      "\u001b[1mTH1D              \u001b[0mJul 09 11:42 2020 target_exit_energy_PDG22              \"Particle energy when exiting target (photons)\"\n",
      "\u001b[1mTH1D              \u001b[0mJul 09 11:42 2020 target_exit_energy_PDG2212            \"Particle energy when exiting target (protons)\"\n",
      "\u001b[1mTH1D              \u001b[0mJul 09 11:42 2020 target_exit_energy_PDGother           \"Particle energy when exiting target (other)\"\n",
      "\u001b[1mTH1D              \u001b[0mJul 09 11:42 2020 target_exit_rpos_cutoff_PDG-11        \"target exit rpos (positrons, energy > E_cut)\"\n",
      "\u001b[1mTH1D              \u001b[0mJul 09 11:42 2020 target_exit_rpos_cutoff_PDG11         \"target exit rpos (electrons, energy > E_cut)\"\n",
      "\u001b[1mTH1D              \u001b[0mJul 09 11:42 2020 target_exit_rpos_cutoff_PDG22         \"target exit rpos (photons, energy > E_cut)\"\n",
      "\u001b[1mTH1D              \u001b[0mJul 09 11:42 2020 target_exit_rpos_cutoff_PDG2212       \"target exit rpos (protons, energy > E_cut)\"\n",
      "\u001b[1mTH1D              \u001b[0mJul 09 11:42 2020 target_exit_rpos_cutoff_PDGother      \"target exit rpos (other, energy > E_cut)\"\n",
      "\u001b[1mTH1D              \u001b[0mJul 09 11:42 2020 target_exit_rpos_PDG-11               \"target exit rpos (positrons)\"\n",
      "\u001b[1mTH1D              \u001b[0mJul 09 11:42 2020 target_exit_rpos_PDG11                \"target exit rpos (electrons)\"\n",
      "\u001b[1mTH1D              \u001b[0mJul 09 11:42 2020 target_exit_rpos_PDG22                \"target exit rpos (photons)\"\n",
      "\u001b[1mTH1D              \u001b[0mJul 09 11:42 2020 target_exit_rpos_PDG2212              \"target exit rpos (protons)\"\n",
      "\u001b[1mTH1D              \u001b[0mJul 09 11:42 2020 target_exit_rpos_PDGother             \"target exit rpos (other)\"\n",
      "\u001b[1mTH2D              \u001b[0mJul 09 11:42 2020 target_exit_x                         \"Target exit phase space (x)\"\n",
      "\u001b[1mTVectorT<double>  \u001b[0mJul 09 11:42 2020 target_exit_x_TWISS                   \"\"\n",
      "\u001b[1mTH2D              \u001b[0mJul 09 11:42 2020 target_exit_y                         \"Target exit phase space (y)\"\n",
      "\u001b[1mTVectorT<double>  \u001b[0mJul 09 11:42 2020 target_exit_y_TWISS                   \"\"\n",
      "\u001b[1mTVectorT<double>  \u001b[0mJul 09 11:42 2020 target_ParticleTypes_numpart          \"\"\n",
      "\u001b[1mTVectorT<double>  \u001b[0mJul 09 11:42 2020 target_ParticleTypes_PDG              \"\"\n",
      "\u001b[1mTH1D              \u001b[0mJul 09 11:42 2020 targetEdep                            \"targetEdep\"\n",
      "\u001b[1mTH1D              \u001b[0mJul 09 11:42 2020 targetEdep_IEL                        \"targetEdep_IEL\"\n",
      "\u001b[1mTH1D              \u001b[0mJul 09 11:42 2020 targetEdep_NIEL                       \"targetEdep_NIEL\"\n",
      "\u001b[1mTTree             \u001b[0mJul 09 11:42 2020 TargetExit                            \"TargetExit tree\"\n",
      "  TargetExitBranch  \"x/D:y:z:px:py:pz:E:PDG/I:charge:eventID\"  160538\n",
      "  \u001b[1mCluster INCLUSIVE ranges:\n",
      "\u001b[0m   - # 0: [0, 2352]\n",
      "  \u001b[1mThe total number of clusters is 1\n",
      "\u001b[0m\u001b[1mTH1D              \u001b[0mJul 09 11:42 2020 tracker_cutoff_energy_PDG-11          \"Particle energy when hitting tracker (positrons) (r < Rcut)\"\n",
      "\u001b[1mTH1D              \u001b[0mJul 09 11:42 2020 tracker_cutoff_energy_PDG11           \"Particle energy when hitting tracker (electrons) (r < Rcut)\"\n",
      "\u001b[1mTH1D              \u001b[0mJul 09 11:42 2020 tracker_cutoff_energy_PDG22           \"Particle energy when hitting tracker (photons) (r < Rcut)\"\n",
      "\u001b[1mTH1D              \u001b[0mJul 09 11:42 2020 tracker_cutoff_energy_PDG2212         \"Particle energy when hitting tracker (protons) (r < Rcut)\"\n",
      "\u001b[1mTH1D              \u001b[0mJul 09 11:42 2020 tracker_cutoff_energy_PDGother        \"Particle energy when hitting tracker (other) (r < Rcut)\"\n",
      "\u001b[1mTVectorT<double>  \u001b[0mJul 09 11:42 2020 tracker_cutoff_ParticleTypes_numpart  \"\"\n",
      "\u001b[1mTVectorT<double>  \u001b[0mJul 09 11:42 2020 tracker_cutoff_ParticleTypes_PDG      \"\"\n",
      "\u001b[1mTH2D              \u001b[0mJul 09 11:42 2020 tracker_cutoff_x                      \"tracker phase space (x) (charged, energy > Ecut, r < Rcut)\"\n",
      "\u001b[1mTH2D              \u001b[0mJul 09 11:42 2020 tracker_cutoff_x_PDG-11               \"tracker phase space (x) (positrons, energy > Ecut, r < Rcut)\"\n",
      "\u001b[1mTVectorT<double>  \u001b[0mJul 09 11:42 2020 tracker_cutoff_x_PDG-11_TWISS         \"\"\n",
      "\u001b[1mTH2D              \u001b[0mJul 09 11:42 2020 tracker_cutoff_x_PDG11                \"tracker phase space (x) (electrons, energy > Ecut, r < Rcut)\"\n",
      "\u001b[1mTVectorT<double>  \u001b[0mJul 09 11:42 2020 tracker_cutoff_x_PDG11_TWISS          \"\"\n",
      "\u001b[1mTH2D              \u001b[0mJul 09 11:42 2020 tracker_cutoff_x_PDG22                \"tracker phase space (x) (photons, energy > Ecut, r < Rcut)\"\n",
      "\u001b[1mTH2D              \u001b[0mJul 09 11:42 2020 tracker_cutoff_x_PDG2212              \"tracker phase space (x) (protons, energy > Ecut, r < Rcut)\"\n",
      "\u001b[1mTVectorT<double>  \u001b[0mJul 09 11:42 2020 tracker_cutoff_x_PDG2212_TWISS        \"\"\n",
      "\u001b[1mTVectorT<double>  \u001b[0mJul 09 11:42 2020 tracker_cutoff_x_PDG22_TWISS          \"\"\n",
      "\u001b[1mTH2D              \u001b[0mJul 09 11:42 2020 tracker_cutoff_x_PDGother             \"tracker phase space (x) (other, energy > Ecut, r < Rcut)\"\n",
      "\u001b[1mTVectorT<double>  \u001b[0mJul 09 11:42 2020 tracker_cutoff_x_PDGother_TWISS       \"\"\n",
      "\u001b[1mTVectorT<double>  \u001b[0mJul 09 11:42 2020 tracker_cutoff_x_TWISS                \"\"\n",
      "\u001b[1mTH2D              \u001b[0mJul 09 11:42 2020 tracker_cutoff_y                      \"tracker phase space (y) (charged, energy > Ecut, r < Rcut)\"\n",
      "\u001b[1mTH2D              \u001b[0mJul 09 11:42 2020 tracker_cutoff_y_PDG-11               \"tracker phase space (y) (positrons, energy > Ecut, r < Rcut)\"\n",
      "\u001b[1mTVectorT<double>  \u001b[0mJul 09 11:42 2020 tracker_cutoff_y_PDG-11_TWISS         \"\"\n",
      "\u001b[1mTH2D              \u001b[0mJul 09 11:42 2020 tracker_cutoff_y_PDG11                \"tracker phase space (y) (electrons, energy > Ecut, r < Rcut)\"\n",
      "\u001b[1mTVectorT<double>  \u001b[0mJul 09 11:42 2020 tracker_cutoff_y_PDG11_TWISS          \"\"\n",
      "\u001b[1mTH2D              \u001b[0mJul 09 11:42 2020 tracker_cutoff_y_PDG22                \"tracker phase space (y) (photons, energy > Ecut, r < Rcut)\"\n",
      "\u001b[1mTH2D              \u001b[0mJul 09 11:42 2020 tracker_cutoff_y_PDG2212              \"tracker phase space (y) (protons, energy > Ecut, r < Rcut)\"\n",
      "\u001b[1mTVectorT<double>  \u001b[0mJul 09 11:42 2020 tracker_cutoff_y_PDG2212_TWISS        \"\"\n",
      "\u001b[1mTVectorT<double>  \u001b[0mJul 09 11:42 2020 tracker_cutoff_y_PDG22_TWISS          \"\"\n",
      "\u001b[1mTH2D              \u001b[0mJul 09 11:42 2020 tracker_cutoff_y_PDGother             \"tracker phase space (y) (other, energy > Ecut, r < Rcut)\"\n",
      "\u001b[1mTVectorT<double>  \u001b[0mJul 09 11:42 2020 tracker_cutoff_y_PDGother_TWISS       \"\"\n",
      "\u001b[1mTVectorT<double>  \u001b[0mJul 09 11:42 2020 tracker_cutoff_y_TWISS                \"\"\n",
      "\u001b[1mTH1D              \u001b[0mJul 09 11:42 2020 tracker_energy                        \"Energy of all particles hitting tracker\"\n",
      "\u001b[1mTH1D              \u001b[0mJul 09 11:42 2020 tracker_energy_PDG-11                 \"Particle energy when hitting tracker (positrons)\"\n",
      "\u001b[1mTH1D              \u001b[0mJul 09 11:42 2020 tracker_energy_PDG11                  \"Particle energy when hitting tracker (electrons)\"\n",
      "\u001b[1mTH1D              \u001b[0mJul 09 11:42 2020 tracker_energy_PDG22                  \"Particle energy when hitting tracker (photons)\"\n",
      "\u001b[1mTH1D              \u001b[0mJul 09 11:42 2020 tracker_energy_PDG2212                \"Particle energy when hitting tracker (protons)\"\n",
      "\u001b[1mTH1D              \u001b[0mJul 09 11:42 2020 tracker_energy_PDGother               \"Particle energy when hitting tracker (other)\"\n",
      "\u001b[1mTH2D              \u001b[0mJul 09 11:42 2020 tracker_hitpos                        \"tracker hit position\"\n",
      "\u001b[1mTH2D              \u001b[0mJul 09 11:42 2020 tracker_hitpos_cutoff                 \"tracker hit position (charged, energy > Ecut)\"\n",
      "\u001b[1mTH1D              \u001b[0mJul 09 11:42 2020 tracker_numParticles                  \"tracker numParticles\"\n",
      "\u001b[1mTVectorT<double>  \u001b[0mJul 09 11:42 2020 tracker_ParticleTypes_numpart         \"\"\n",
      "\u001b[1mTVectorT<double>  \u001b[0mJul 09 11:42 2020 tracker_ParticleTypes_PDG             \"\"\n",
      "\u001b[1mTH1D              \u001b[0mJul 09 11:42 2020 tracker_rpos_cutoff_PDG-11            \"tracker rpos (positrons, energy > E_cut)\"\n",
      "\u001b[1mTH1D              \u001b[0mJul 09 11:42 2020 tracker_rpos_cutoff_PDG11             \"tracker rpos (electrons, energy > E_cut)\"\n",
      "\u001b[1mTH1D              \u001b[0mJul 09 11:42 2020 tracker_rpos_cutoff_PDG22             \"tracker rpos (photos, energy > E_cut)\"\n",
      "\u001b[1mTH1D              \u001b[0mJul 09 11:42 2020 tracker_rpos_cutoff_PDG2212           \"tracker rpos (protons, energy > E_cut)\"\n",
      "\u001b[1mTH1D              \u001b[0mJul 09 11:42 2020 tracker_rpos_cutoff_PDGother          \"tracker rpos (other, energy > E_cut)\"\n",
      "\u001b[1mTH1D              \u001b[0mJul 09 11:42 2020 tracker_rpos_PDG-11                   \"tracker rpos (positrons)\"\n",
      "\u001b[1mTH1D              \u001b[0mJul 09 11:42 2020 tracker_rpos_PDG11                    \"tracker rpos (electrons)\"\n",
      "\u001b[1mTH1D              \u001b[0mJul 09 11:42 2020 tracker_rpos_PDG22                    \"tracker rpos (photons)\"\n",
      "\u001b[1mTH1D              \u001b[0mJul 09 11:42 2020 tracker_rpos_PDG2212                  \"tracker rpos (protons)\"\n",
      "\u001b[1mTH1D              \u001b[0mJul 09 11:42 2020 tracker_rpos_PDGother                 \"tracker rpos (other)\"\n",
      "\u001b[1mTH2D              \u001b[0mJul 09 11:42 2020 tracker_x                             \"tracker phase space (x)\"\n",
      "\u001b[1mTVectorT<double>  \u001b[0mJul 09 11:42 2020 tracker_x_TWISS                       \"\"\n",
      "\u001b[1mTH2D              \u001b[0mJul 09 11:42 2020 tracker_y                             \"tracker phase space (y)\"\n",
      "\u001b[1mTVectorT<double>  \u001b[0mJul 09 11:42 2020 tracker_y_TWISS                       \"\"\n",
      "\u001b[1mTTree             \u001b[0mJul 09 11:42 2020 TrackerHits                           \"TrackerHits tree\"\n",
      "  TrackerHitsBranch  \"x/D:y:z:px:py:pz:E:PDG/I:charge:eventID\"  144547\n",
      "  \u001b[1mCluster INCLUSIVE ranges:\n",
      "\u001b[0m   - # 0: [0, 2118]\n",
      "  \u001b[1mThe total number of clusters is 1\n",
      "\u001b[0m"
     ]
    }
   ],
   "source": [
    "! rootls -t SimpleDemo/simple1.root"
   ]
  },
  {
   "cell_type": "code",
   "execution_count": 8,
   "metadata": {},
   "outputs": [
    {
     "data": {
      "image/png": "[encoded data removed]",
      "text/plain": [
       "<IPython.core.display.Image object>"
      ]
     },
     "metadata": {},
     "output_type": "display_data"
    }
   ],
   "source": [
    "canvas = ROOT.TCanvas()\n",
    "objects_simple1['targetEdep'].Draw()\n",
    "canvas.Draw()"
   ]
  },
  {
   "cell_type": "code",
   "execution_count": 9,
   "metadata": {},
   "outputs": [
    {
     "name": "stdout",
     "output_type": "stream",
     "text": [
      "Found a file at '/home/kyrsjo/code/MiniScatter/examples/SimpleDemo/simple1.root', loading!\n"
     ]
    }
   ],
   "source": [
    "# Run & load in one step, with results caching\n",
    "(twiss_simple1, numPart_simple1, objects_simple1) = \\\n",
    "    miniScatterDriver.getData_tryLoad(simSetup_simple1, tryload=TRYLOAD,\\\n",
    "    getObjects=[\"targetEdep\",\"target_edep_dens\",\"target_edep_rdens\",\"metadata\"])"
   ]
  },
  {
   "cell_type": "markdown",
   "metadata": {},
   "source": [
    "## A parameter scan\n",
    "\n",
    "As an example, let's look at the number of positrons coming out of a Tungsten target as a function of thickness, and their energy distributions."
   ]
  },
  {
   "cell_type": "code",
   "execution_count": 10,
   "metadata": {},
   "outputs": [
    {
     "name": "stdout",
     "output_type": "stream",
     "text": [
      "thickScan_W = [  0.5         11.55555556  22.61111111  33.66666667  44.72222222\n",
      "  55.77777778  66.83333333  77.88888889  88.94444444 100.        ] [mm]\n",
      "\n",
      "LoadFile filename and status: 'SaveSim_THICK_SimpleDemo-TargetThickness-W.h5' False\n",
      "THICK = 0.5 (1/10)\n",
      "Running command line: './MiniScatter -t 0.5 -m G4_W -d 3000.0 -w 1000.0 -p QGSP_BERT -n 10000 -e 215.0 -b e- -z 0.0 -s 1 -f output_THICK=0.5 -o /tmp/miniScatter/SimpleDemo_thicknessScan --cutoffRadius 100.0 --edepDZ 1.0'\n",
      "THICK = 11.555555555555555 (2/10)\n",
      "THICK = 22.61111111111111 (3/10)\n",
      "Running command line: './MiniScatter -t 22.61111111111111 -m G4_W -d 3000.0 -w 1000.0 -p QGSP_BERT -n 10000 -e 215.0 -b e- -z 0.0 -s 3 -f output_THICK=22.61111111111111 -o /tmp/miniScatter/SimpleDemo_thicknessScan --cutoffRadius 100.0 --edepDZ 1.0'\n",
      "Running command line: './MiniScatter -t 11.555555555555555 -m G4_W -d 3000.0 -w 1000.0 -p QGSP_BERT -n 10000 -e 215.0 -b e- -z 0.0 -s 2 -f output_THICK=11.555555555555555 -o /tmp/miniScatter/SimpleDemo_thicknessScan --cutoffRadius 100.0 --edepDZ 1.0'\n",
      "THICK = 33.666666666666664 (4/10)\n",
      "Running command line: './MiniScatter -t 33.666666666666664 -m G4_W -d 3000.0 -w 1000.0 -p QGSP_BERT -n 10000 -e 215.0 -b e- -z 0.0 -s 4 -f output_THICK=33.666666666666664 -o /tmp/miniScatter/SimpleDemo_thicknessScan --cutoffRadius 100.0 --edepDZ 1.0'THICK = 44.72222222222222 (5/10)\n",
      "Running command line: './MiniScatter -t 44.72222222222222 -m G4_W -d 3000.0 -w 1000.0 -p QGSP_BERT -n 10000 -e 215.0 -b e- -z 0.0 -s 5 -f output_THICK=44.72222222222222 -o /tmp/miniScatter/SimpleDemo_thicknessScan --cutoffRadius 100.0 --edepDZ 1.0'\n",
      "\n",
      "THICK = 55.77777777777778 (6/10)\n",
      "Running command line: './MiniScatter -t 55.77777777777778 -m G4_W -d 3000.0 -w 1000.0 -p QGSP_BERT -n 10000 -e 215.0 -b e- -z 0.0 -s 6 -f output_THICK=55.77777777777778 -o /tmp/miniScatter/SimpleDemo_thicknessScan --cutoffRadius 100.0 --edepDZ 1.0'THICK = 66.83333333333333 (7/10)\n",
      "\n",
      "Running command line: './MiniScatter -t 66.83333333333333 -m G4_W -d 3000.0 -w 1000.0 -p QGSP_BERT -n 10000 -e 215.0 -b e- -z 0.0 -s 7 -f output_THICK=66.83333333333333 -o /tmp/miniScatter/SimpleDemo_thicknessScan --cutoffRadius 100.0 --edepDZ 1.0'THICK = 77.88888888888889 (8/10)\n",
      "\n",
      "Running command line: './MiniScatter -t 77.88888888888889 -m G4_W -d 3000.0 -w 1000.0 -p QGSP_BERT -n 10000 -e 215.0 -b e- -z 0.0 -s 8 -f output_THICK=77.88888888888889 -o /tmp/miniScatter/SimpleDemo_thicknessScan --cutoffRadius 100.0 --edepDZ 1.0'\n",
      "\n",
      "Done!\n",
      "Deleting '/tmp/miniScatter/SimpleDemo_thicknessScan/output_THICK=0.5.root'.\n",
      "THICK = 88.94444444444444 (9/10)\n",
      "Running command line: './MiniScatter -t 88.94444444444444 -m G4_W -d 3000.0 -w 1000.0 -p QGSP_BERT -n 10000 -e 215.0 -b e- -z 0.0 -s 9 -f output_THICK=88.94444444444444 -o /tmp/miniScatter/SimpleDemo_thicknessScan --cutoffRadius 100.0 --edepDZ 1.0'\n",
      "\n",
      "Done!\n",
      "Deleting '/tmp/miniScatter/SimpleDemo_thicknessScan/output_THICK=11.555555555555555.root'.\n",
      "THICK = 100.0 (10/10)\n",
      "Running command line: './MiniScatter -t 100.0 -m G4_W -d 3000.0 -w 1000.0 -p QGSP_BERT -n 10000 -e 215.0 -b e- -z 0.0 -s 10 -f output_THICK=100.0 -o /tmp/miniScatter/SimpleDemo_thicknessScan --cutoffRadius 100.0 --edepDZ 1.0'\n",
      "\n",
      "Done!\n",
      "Deleting '/tmp/miniScatter/SimpleDemo_thicknessScan/output_THICK=22.61111111111111.root'.\n",
      "\n",
      "Done!\n",
      "Deleting '/tmp/miniScatter/SimpleDemo_thicknessScan/output_THICK=33.666666666666664.root'.\n",
      "\n",
      "Done!\n",
      "Deleting '/tmp/miniScatter/SimpleDemo_thicknessScan/output_THICK=44.72222222222222.root'.\n",
      "\n",
      "Done!\n",
      "Deleting '/tmp/miniScatter/SimpleDemo_thicknessScan/output_THICK=55.77777777777778.root'.\n",
      "\n",
      "Done!\n",
      "Deleting '/tmp/miniScatter/SimpleDemo_thicknessScan/output_THICK=66.83333333333333.root'.\n",
      "\n",
      "Done!\n",
      "Deleting '/tmp/miniScatter/SimpleDemo_thicknessScan/output_THICK=77.88888888888889.root'.\n",
      "\n",
      "Done!\n",
      "Deleting '/tmp/miniScatter/SimpleDemo_thicknessScan/output_THICK=88.94444444444444.root'.\n",
      "\n",
      "Done!\n",
      "Deleting '/tmp/miniScatter/SimpleDemo_thicknessScan/output_THICK=100.0.root'.\n",
      "Simulation complete, saving data to h5 for later retrival.\n"
     ]
    }
   ],
   "source": [
    "baseSimSetup_W = baseSimSetup.copy()\n",
    "baseSimSetup_W[\"MAT\"] = \"G4_W\"\n",
    "baseSimSetup_W[\"N\"]   = baseSimSetup_W[\"N\"]*10 #Make more events for nicer plots, but this takes time...\n",
    "del baseSimSetup_W[\"THICK\"] #Can't have the key we're scanning in the baseSimSetup\n",
    "del baseSimSetup_W[\"OUTFOLDER\"] #Can't have OUTFOLDER in baseSimSetup\n",
    "\n",
    "thickScan_W = np.linspace(0.5,100,10)\n",
    "print (\"thickScan_W =\",thickScan_W, \"[mm]\")\n",
    "print()\n",
    "\n",
    "#Note: TRYLOAD is forced off, in order to force computation\n",
    "(twiss_W, numPart_W, objects_W, analysis_output_W) = \\\n",
    "    miniScatterScanner.ScanMiniScatter(\"THICK\",thickScan_W,baseSimSetup_W, \\\n",
    "                                       NUM_THREADS=NUM_THREADS,tryLoad=False,\\\n",
    "                                       COMMENT=\"SimpleDemo-TargetThickness-W\", QUIET=QUIET,\\\n",
    "                                       tmpFolder=TMPFOLDER, getObjects=['target_exit_energy_PDG-11', 'targetEdep'])\n"
   ]
  },
  {
   "cell_type": "code",
   "execution_count": 11,
   "metadata": {},
   "outputs": [
    {
     "name": "stdout",
     "output_type": "stream",
     "text": [
      "LoadFile filename and status: 'SaveSim_THICK_SimpleDemo-TargetThickness-W.h5' True\n",
      "Loading...\n",
      "Scan variable ranges match, let's load!\n",
      "Auxillary ROOT file SaveSim_THICK_SimpleDemo-TargetThickness-W.root loaded.\n",
      "Loaded! That was fast.\n"
     ]
    }
   ],
   "source": [
    "#Explicitly try to load the data we just created\n",
    "(twiss_W, numPart_W, objects_W, analysis_output_W) = \\\n",
    "    miniScatterScanner.ScanMiniScatter(\"THICK\",thickScan_W,baseSimSetup_W, \\\n",
    "                                       NUM_THREADS=NUM_THREADS,tryLoad=True,\\\n",
    "                                       COMMENT=\"SimpleDemo-TargetThickness-W\", QUIET=QUIET,\\\n",
    "                                       tmpFolder=TMPFOLDER, getObjects=['target_exit_energy_PDG-11', 'targetEdep'])\n"
   ]
  },
  {
   "cell_type": "code",
   "execution_count": 12,
   "metadata": {},
   "outputs": [
    {
     "name": "stdout",
     "output_type": "stream",
     "text": [
      "dict_keys(['target', 'target_cutoff', 'tracker', 'tracker_cutoff'])\n"
     ]
    }
   ],
   "source": [
    "print(numPart_W.keys())"
   ]
  },
  {
   "cell_type": "code",
   "execution_count": 13,
   "metadata": {},
   "outputs": [
    {
     "name": "stdout",
     "output_type": "stream",
     "text": [
      "dict_keys(['init', 'target_exit_cutoff', 'target_exit', 'tracker_cutoffPDG-11', 'tracker_cutoffPDG11', 'tracker_cutoffPDG2212', 'tracker_cutoffPDG22', 'tracker_cutoffPDGother', 'tracker_cutoff', 'tracker'])\n"
     ]
    }
   ],
   "source": [
    "print(twiss_W.keys())"
   ]
  },
  {
   "cell_type": "code",
   "execution_count": 14,
   "metadata": {},
   "outputs": [
    {
     "name": "stdout",
     "output_type": "stream",
     "text": [
      "[ 167 5287 1793  630  242  115   51   33   29   31]\n"
     ]
    },
    {
     "data": {
      "image/png": "[encoded data removed]",
      "text/plain": [
       "<Figure size 800x500 with 1 Axes>"
      ]
     },
     "metadata": {
      "needs_background": "light"
     },
     "output_type": "display_data"
    }
   ],
   "source": [
    "#Let's look at the catch!\n",
    "print(numPart_W['target'][-11])\n",
    "\n",
    "plt.figure()\n",
    "plt.plot(thickScan_W,numPart_W['target'][-11]/baseSimSetup_W['N'])\n",
    "plt.show()"
   ]
  },
  {
   "cell_type": "code",
   "execution_count": 15,
   "metadata": {},
   "outputs": [
    {
     "name": "stdout",
     "output_type": "stream",
     "text": [
      "dict_keys(['target_exit_energy_PDG-11', 'targetEdep'])\n",
      "[<ROOT.TH1D object (\"target_exit_energy_PDG-11_THICK_0_SimpleDemo-TargetThickness-W\") at 0x5585339e7260>, <ROOT.TH1D object (\"target_exit_energy_PDG-11_THICK_1_SimpleDemo-TargetThickness-W\") at 0x55852f5af6e0>, <ROOT.TH1D object (\"target_exit_energy_PDG-11_THICK_2_SimpleDemo-TargetThickness-W\") at 0x55852f59c820>, <ROOT.TH1D object (\"target_exit_energy_PDG-11_THICK_3_SimpleDemo-TargetThickness-W\") at 0x5585340fae00>, <ROOT.TH1D object (\"target_exit_energy_PDG-11_THICK_4_SimpleDemo-TargetThickness-W\") at 0x5585340fb6d0>, <ROOT.TH1D object (\"target_exit_energy_PDG-11_THICK_5_SimpleDemo-TargetThickness-W\") at 0x5585340fa4a0>, <ROOT.TH1D object (\"target_exit_energy_PDG-11_THICK_6_SimpleDemo-TargetThickness-W\") at 0x558534104e10>, <ROOT.TH1D object (\"target_exit_energy_PDG-11_THICK_7_SimpleDemo-TargetThickness-W\") at 0x558534109890>, <ROOT.TH1D object (\"target_exit_energy_PDG-11_THICK_8_SimpleDemo-TargetThickness-W\") at 0x55853410a100>, <ROOT.TH1D object (\"target_exit_energy_PDG-11_THICK_9_SimpleDemo-TargetThickness-W\") at 0x55853410eb30>]\n",
      "\n"
     ]
    }
   ],
   "source": [
    "#Histograms\n",
    "print(objects_W.keys())\n",
    "print(objects_W['target_exit_energy_PDG-11'])\n",
    "print()"
   ]
  },
  {
   "cell_type": "code",
   "execution_count": 16,
   "metadata": {},
   "outputs": [
    {
     "data": {
      "image/png": "[encoded data removed]",
      "text/plain": [
       "<IPython.core.display.Image object>"
      ]
     },
     "metadata": {},
     "output_type": "display_data"
    }
   ],
   "source": [
    "canvas = ROOT.TCanvas()\n",
    "hasDrawn = False\n",
    "edepLegend = None\n",
    "for iThick in range(len(thickScan_W)):\n",
    "    objects_W['targetEdep'][iThick].SetLineColor(iThick+1)\n",
    "    objects_W['targetEdep'][iThick].GetYaxis().SetRangeUser(0,1500)  \n",
    "    objects_W['targetEdep'][iThick].SetStats(False)\n",
    "    if hasDrawn:\n",
    "        option='same'\n",
    "    else:\n",
    "        option = ''\n",
    "        edepLegend = ROOT.TLegend(0.1,0.9, 0.25, 0.5)\n",
    "        \n",
    "    objects_W['targetEdep'][iThick].Draw(option)\n",
    "    hasDrawn = True\n",
    "    \n",
    "    edepLegend.AddEntry(objects_W['targetEdep'][iThick], \"{:.2f} mm\".format(thickScan_W[iThick]))\n",
    "edepLegend.Draw()\n",
    "canvas.Draw()"
   ]
  },
  {
   "cell_type": "code",
   "execution_count": 17,
   "metadata": {},
   "outputs": [
    {
     "name": "stdout",
     "output_type": "stream",
     "text": [
      "167.0\n",
      "5287.0\n",
      "1793.0\n",
      "630.0\n",
      "242.0\n",
      "115.0\n",
      "51.0\n",
      "33.0\n",
      "29.0\n",
      "31.0\n"
     ]
    },
    {
     "data": {
      "image/png": "[encoded data removed]",
      "text/plain": [
       "<IPython.core.display.Image object>"
      ]
     },
     "metadata": {},
     "output_type": "display_data"
    }
   ],
   "source": [
    "canvas = ROOT.TCanvas()\n",
    "hasDrawn = False\n",
    "for iThick in range(len(thickScan_W)):\n",
    "    count = objects_W['target_exit_energy_PDG-11'][iThick].Integral()\n",
    "    print(count)\n",
    "    if count < 1000:\n",
    "        continue\n",
    "    objects_W['target_exit_energy_PDG-11'][iThick].SetLineColor(iThick+1)\n",
    "    objects_W['target_exit_energy_PDG-11'][iThick].GetXaxis().SetRangeUser(0,20)\n",
    "    objects_W['target_exit_energy_PDG-11'][iThick].Scale(1/count)\n",
    "    \n",
    "    if hasDrawn:\n",
    "        option='same'\n",
    "    else:\n",
    "        option = ''\n",
    "        \n",
    "    objects_W['target_exit_energy_PDG-11'][iThick].Draw(option)\n",
    "    hasDrawn = True\n",
    "canvas.Draw()\n",
    "\n",
    "if not hasDrawn:\n",
    "    print(\"Insufficient statistics\")"
   ]
  },
  {
   "cell_type": "code",
   "execution_count": null,
   "metadata": {},
   "outputs": [],
   "source": []
  }
 ],
 "metadata": {
  "kernelspec": {
   "display_name": "Python 3",
   "language": "python",
   "name": "python3"
  },
  "language_info": {
   "codemirror_mode": {
    "name": "ipython",
    "version": 3
   },
   "file_extension": ".py",
   "mimetype": "text/x-python",
   "name": "python",
   "nbconvert_exporter": "python",
   "pygments_lexer": "ipython3",
   "version": "3.6.8"
  }
 },
 "nbformat": 4,
 "nbformat_minor": 4
}
