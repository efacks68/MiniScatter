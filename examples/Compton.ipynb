{
 "cells": [
  {
   "cell_type": "markdown",
   "id": "8bf48a0c-4c67-4640-ab36-e926317e63e9",
   "metadata": {},
   "source": [
    "# Compton Scattering\n",
    "\n",
    "This example demonstrates the beam angle feature by simulating a Compton scattering teaching experiment.\n",
    "We will here measure the photon energy as a function of scattering angle.\n",
    "The photon energy is measured in a (crudely simulated) NaI spectrometer, and the scattering angle is controlled by setting the angle of the initial photon beam together with the collimator.\n",
    "\n",
    "The photons will come from a Cs137 source, which $\\beta^+$-decays to Ba137, which has a strong line at 661.657 keV.\n",
    "We will only use the 661.657 keV line.\n"
   ]
  },
  {
   "cell_type": "code",
   "execution_count": null,
   "id": "0d275beb-1c8a-462c-9435-fe7e2e158fdc",
   "metadata": {},
   "outputs": [],
   "source": []
  },
  {
   "cell_type": "markdown",
   "id": "33db9a03-36e4-4e7f-9fb7-f57e068c8c83",
   "metadata": {},
   "source": [
    "## Code setup"
   ]
  },
  {
   "cell_type": "code",
   "execution_count": 1,
   "id": "4ef1fe5b-33ef-434f-a631-239915b7027a",
   "metadata": {},
   "outputs": [
    {
     "name": "stdout",
     "output_type": "stream",
     "text": [
      "Welcome to JupyROOT 6.24/06\n"
     ]
    }
   ],
   "source": [
    "import numpy as np\n",
    "import matplotlib.pyplot as plt\n",
    "#from scipy import stats\n",
    "import ROOT\n",
    "import os\n",
    "import copy"
   ]
  },
  {
   "cell_type": "code",
   "execution_count": 2,
   "id": "c68effaf-55ba-463e-b167-a8c2407d6078",
   "metadata": {},
   "outputs": [],
   "source": [
    "#%matplotlib notebook\n",
    "\n",
    "# plt.rcParams['figure.figsize'] = [8, 5]\n",
    "plt.rcParams['figure.dpi'] = 100\n",
    "# \n",
    "# #colorCycle = plt.rcParams['axes.prop_cycle']\n",
    "# plt.rcParams['figure.max_open_warning'] = 100"
   ]
  },
  {
   "cell_type": "code",
   "execution_count": null,
   "id": "8bafde51-2229-4f27-bb8d-43ff9b4d4f55",
   "metadata": {},
   "outputs": [],
   "source": []
  },
  {
   "cell_type": "code",
   "execution_count": 3,
   "id": "ea92f312-b410-45ad-af0e-1fd1ef2a5003",
   "metadata": {},
   "outputs": [],
   "source": [
    "# %%javascript\n",
    "# IPython.OutputArea.prototype._should_scroll = function(lines) {\n",
    "#     return false;\n",
    "# }"
   ]
  },
  {
   "cell_type": "code",
   "execution_count": 4,
   "id": "3fb2ad8c-ebed-4dac-9f23-9bbb3572660f",
   "metadata": {},
   "outputs": [],
   "source": [
    "#Setup MiniScatter\n",
    "import sys\n",
    "MiniScatter_path=\"../build/.\"\n",
    "sys.path.append(MiniScatter_path)\n",
    "\n",
    "import miniScatterDriver\n",
    "import miniScatterScanner\n",
    "import miniScatterPlots"
   ]
  },
  {
   "cell_type": "code",
   "execution_count": null,
   "id": "95e33f0e-076a-4f17-acfd-f0789f86ec4e",
   "metadata": {},
   "outputs": [],
   "source": []
  },
  {
   "cell_type": "markdown",
   "id": "1e2ba2f1-9f40-4619-93fe-a5f3923255c3",
   "metadata": {},
   "source": [
    "## Physics setup"
   ]
  },
  {
   "cell_type": "code",
   "execution_count": 5,
   "id": "1cd801b7-4473-42f1-b62f-679d8db114f7",
   "metadata": {},
   "outputs": [],
   "source": [
    "### Basic simulation parameters ###\n",
    "\n",
    "QUIET = False\n",
    "TRYLOAD = True #Try to load already existing data instead of recomputing?\n",
    "NUM_THREADS = 16\n",
    "\n",
    "baseSimSetup = {}\n",
    "baseSimSetup[\"PHYS\"] = \"QGSP_BERT_EMZ\"\n",
    "\n",
    "#Note: With 10M particles, it takes about 30 minutes to run a simulation\n",
    "baseSimSetup[\"N\"] = 10000000\n",
    "\n",
    "baseSimSetup[\"BEAM\"] = 'gamma';\n",
    "baseSimSetup[\"ENERGY\"] = 661.657e-3;\n",
    "\n",
    "baseSimSetup[\"BGMAT\"] = \"G4_AIR\";\n",
    "\n",
    "#Disable the default target\n",
    "baseSimSetup[\"THICK\"] = 0.0\n",
    "baseSimSetup[\"ZOFFSET\"]=-500.0 #[mm]\n",
    "baseSimSetup[\"BEAMANGLE\"] = 45.0 #[deg]\n",
    "\n",
    "# \"Beamline\" elements\n",
    "baseSimSetup[\"MAGNET\"] = []\n",
    "#Target pin\n",
    "m1 = {}\n",
    "m1[\"pos\"]      = 0.0\n",
    "m1[\"type\"]     = \"TARGETR\"\n",
    "m1[\"length\"]   = 80.0 #[mm] Make it symmetric, same amount above and below axis\n",
    "m1[\"gradient\"] = 0.0\n",
    "m1[\"keyval\"] = {}\n",
    "m1[\"keyval\"][\"material\"] = \"G4_STAINLESS-STEEL\"\n",
    "m1[\"keyval\"][\"radius\"]    = 7.0 #[mm]\n",
    "m1[\"keyval\"][\"xRot\"]      = 90.0 #[deg] Standing on an end, round side facing the sky not the beam\n",
    "baseSimSetup[\"MAGNET\"].append(m1)\n",
    "\n",
    "m2 = {}\n",
    "m2[\"type\"]     = \"COLLIMATORHV\"\n",
    "m2[\"length\"]   = 150.0 #[mm] Make it symmetric, same amount above and below axis\n",
    "m2[\"pos\"]      = m2[\"length\"]/2+70.0 #[mm]\n",
    "m2[\"gradient\"] = 0.0\n",
    "m2[\"keyval\"] = {}\n",
    "m2[\"keyval\"][\"material\"] = \"G4_Fe\"\n",
    "m2[\"keyval\"][\"gap\"]    = 14.0 #[mm]\n",
    "m2[\"keyval\"][\"jawThick\"] = 55.0 #[mm]\n",
    "m2[\"keyval\"][\"jawHeight\"] = 125.0 #[mm] 2x axis height above table\n",
    "m2[\"keyval\"][\"HV\"] = 'H'\n",
    "baseSimSetup[\"MAGNET\"].append(m2)\n",
    "\n",
    "m3 = {}\n",
    "m3[\"type\"]     = \"SHIELDEDSCINTILLATOR\"\n",
    "m3[\"length\"]   = 254.0 #[mm]\n",
    "m3[\"pos\"]      = m3[\"length\"]/2.0+m2[\"length\"]/2.0+m2[\"pos\"] #[mm]\n",
    "m3[\"gradient\"] = 0.0\n",
    "m3[\"keyval\"] = {}\n",
    "m3[\"keyval\"][\"scintMat\"]  = 'G4_SODIUM_IODIDE'\n",
    "m3[\"keyval\"][\"shieldMat\"] = 'G4_Pb'\n",
    "m3[\"keyval\"][\"rScint\"]    = 25.0 #[mm]\n",
    "m3[\"keyval\"][\"lScint\"]    = 50.0 #[mm]\n",
    "m3[\"keyval\"][\"zScint\"]    =  -m3[\"length\"]/2.0+50.0+m3[\"keyval\"][\"lScint\"]/2.0\n",
    "m3[\"keyval\"][\"riShield\"]    = 58/2.0 #[mm]\n",
    "m3[\"keyval\"][\"roShield\"]    = 125/2.0 #[mm]\n",
    "baseSimSetup[\"MAGNET\"].append(m3)\n",
    "\n",
    "baseSimSetup[\"WORLDSIZE\"] = 1000.0 #[mm], x-y size of the world. Make it big.\n",
    "\n",
    "baseSimSetup[\"DIST\"] = 'NONE' #Perfect-detector position [mm] \n",
    "\n",
    "baseSimSetup[\"QUICKMODE\"] = False #Include slow plots\n",
    "baseSimSetup[\"MINIROOT\"]  = True #Skip TTRees in the .root files\n",
    "\n",
    "#Lowest energy particles to consider for analysis\n",
    "#E_CUTOFF = baseSimSetup[\"ENERGY\"]*0.9;\n",
    "\n",
    "#Store the .root files in a subfolder from MiniScatter/examples, to be easy to find\n",
    "baseSimSetup[\"OUTFOLDER\"]=os.path.join(os.getcwd(),\"Compton\")\n"
   ]
  },
  {
   "cell_type": "code",
   "execution_count": 6,
   "id": "c03179a2-f055-4d29-9993-fcfbd61578c7",
   "metadata": {},
   "outputs": [
    {
     "name": "stdout",
     "output_type": "stream",
     "text": [
      "Found a file at '/mn/kvant/u5/kyrrens/code/MiniScatter-2/examples/Compton/test0.root', loading!\n"
     ]
    }
   ],
   "source": [
    "# Test simulation at 0 degrees\n",
    "baseSimSetup_test = baseSimSetup.copy()\n",
    "baseSimSetup_test[\"BEAMANGLE\"] = 0.0 #[deg]\n",
    "baseSimSetup_test[\"OUTNAME\"] = \"test0\"\n",
    "baseSimSetup_test[\"N\"] = 100000\n",
    "\n",
    "(twiss_test, numPart_test, objects_test) = \\\n",
    "    miniScatterDriver.getData_tryLoad(baseSimSetup_test, tryload=TRYLOAD,\\\n",
    "    getObjects=[\"magnet_1_edep\",\"magnet_3_edep\",\"metadata\"])"
   ]
  },
  {
   "cell_type": "code",
   "execution_count": 7,
   "id": "2df8ff18-19ab-4bf2-988b-534902036850",
   "metadata": {},
   "outputs": [
    {
     "data": {
      "image/png": "[encoded data removed]",
      "text/plain": [
       "<IPython.core.display.Image object>"
      ]
     },
     "metadata": {},
     "output_type": "display_data"
    }
   ],
   "source": [
    "c1 = ROOT.TCanvas()\n",
    "ROOT.gPad.SetLogy()\n",
    "objects_test[\"magnet_3_edep\"].Draw()\n",
    "c1.Draw()"
   ]
  },
  {
   "cell_type": "code",
   "execution_count": 8,
   "id": "905407b3-aac5-4ed6-825a-69d675cf1807",
   "metadata": {},
   "outputs": [
    {
     "name": "stdout",
     "output_type": "stream",
     "text": [
      "Found a file at '/mn/kvant/u5/kyrrens/code/MiniScatter-2/examples/Compton/test20.root', loading!\n"
     ]
    }
   ],
   "source": [
    "# Test simulation at 20 degrees\n",
    "baseSimSetup_test20 = baseSimSetup.copy()\n",
    "\n",
    "baseSimSetup_test20[\"BEAMANGLE\"] = 20.0 #[deg]\n",
    "baseSimSetup_test20[\"OUTNAME\"] = \"test20\"\n",
    "\n",
    "(twiss_test20, numPart_test20, objects_test20) = \\\n",
    "    miniScatterDriver.getData_tryLoad(baseSimSetup_test20, tryload=TRYLOAD,\\\n",
    "    getObjects=[\"magnet_1_edep\",\"magnet_3_edep\",\"metadata\"])"
   ]
  },
  {
   "cell_type": "code",
   "execution_count": 9,
   "id": "8d9e8c6c-5883-40f5-af5c-8d2d1bf82acd",
   "metadata": {},
   "outputs": [
    {
     "data": {
      "image/png": "[encoded data removed]",
      "text/plain": [
       "<IPython.core.display.Image object>"
      ]
     },
     "metadata": {},
     "output_type": "display_data"
    }
   ],
   "source": [
    "c1 = ROOT.TCanvas()\n",
    "ROOT.gPad.SetLogy()\n",
    "objects_test20[\"magnet_3_edep\"].Draw()\n",
    "c1.Draw()"
   ]
  },
  {
   "cell_type": "code",
   "execution_count": 10,
   "id": "8b7ed17f-78a2-4e34-a76e-bf33655a2701",
   "metadata": {},
   "outputs": [
    {
     "name": "stdout",
     "output_type": "stream",
     "text": [
      "LoadFile filename and status: 'SaveSim_BEAMANGLE_angleScan.h5' True\n",
      "Loading...\n",
      "Scan variable ranges match, let's load!\n",
      "Auxillary ROOT file SaveSim_BEAMANGLE_angleScan.root loaded.\n",
      "Loaded! That was fast.\n"
     ]
    }
   ],
   "source": [
    "#Angle scan\n",
    "baseSimSetup_angleScan = copy.deepcopy(baseSimSetup)\n",
    "\n",
    "angleScan = [0,5,10,20,30,40,50,60,70,80];\n",
    "\n",
    "del baseSimSetup_angleScan[\"BEAMANGLE\"]\n",
    "del baseSimSetup_angleScan[\"OUTFOLDER\"]\n",
    "\n",
    "(twiss_angleScan, numpart_angleScan, objects_angleScan, analysisOutput_angleScan) =\\\n",
    "    miniScatterScanner.ScanMiniScatter(\"BEAMANGLE\",angleScan,\\\n",
    "                                       baseSimSetup_angleScan, COMMENT=\"angleScan\",\\\n",
    "                                       tryLoad=TRYLOAD, getObjects=[\"magnet_3_edep\"],\\\n",
    "                                       NUM_THREADS=NUM_THREADS)\n",
    "                                   "
   ]
  },
  {
   "cell_type": "code",
   "execution_count": 11,
   "id": "9651d614-d6dc-4423-8115-71758e93178c",
   "metadata": {},
   "outputs": [
    {
     "data": {
      "image/png": "[encoded data removed]",
      "text/plain": [
       "<IPython.core.display.Image object>"
      ]
     },
     "metadata": {},
     "output_type": "display_data"
    }
   ],
   "source": [
    "c1 = ROOT.TCanvas()\n",
    "ROOT.gPad.SetLogy()\n",
    "leg = ROOT.TLegend(0.4, 0.5, 0.6,0.9)\n",
    "\n",
    "#meanEdep_rScan = []\n",
    "\n",
    "#colors = [ROOT.kBlue, ROOT.kRed, ROOT.kGreen, ROOT.kOrange, ROOT.kGray, ROOT.kPurple, ROOT.kMagenta, ]\n",
    "\n",
    "for obj,i in zip(objects_angleScan[\"magnet_3_edep\"],range(len(objects_angleScan[\"magnet_3_edep\"]))):\n",
    "    #meanEdep_angleScan.append(obj.GetMean())\n",
    "    if i == 0:\n",
    "        obj.Draw()\n",
    "        obj.SetStats(False)\n",
    "        obj.SetTitle(\"\")\n",
    "    else:\n",
    "        obj.Draw(\"same\")\n",
    "    obj.SetLineColor(i+1)\n",
    "    leg.AddEntry(obj,str(angleScan[i]))\n",
    "leg.Draw()\n",
    "c1.Draw()\n"
   ]
  },
  {
   "cell_type": "code",
   "execution_count": null,
   "id": "9c3e5aaf-edb4-4fac-9489-ac1186eb5827",
   "metadata": {},
   "outputs": [],
   "source": []
  }
 ],
 "metadata": {
  "kernelspec": {
   "display_name": "Python 3",
   "language": "python",
   "name": "python3"
  },
  "language_info": {
   "codemirror_mode": {
    "name": "ipython",
    "version": 3
   },
   "file_extension": ".py",
   "mimetype": "text/x-python",
   "name": "python",
   "nbconvert_exporter": "python",
   "pygments_lexer": "ipython3",
   "version": "3.6.8"
  }
 },
 "nbformat": 4,
 "nbformat_minor": 5
}
