{
 "cells": [
  {
   "cell_type": "markdown",
   "id": "814453a6-5b91-4ca9-a7a6-83807d1e0b68",
   "metadata": {},
   "source": [
    "# LoadParticles\n",
    "\n",
    "This demo is an example for how to use the `--beamFile` argument from Python.\n",
    "We will load the file `test.csv`."
   ]
  },
  {
   "cell_type": "code",
   "execution_count": 1,
   "id": "065896e0-1855-48f2-a938-193d3e78b2df",
   "metadata": {},
   "outputs": [],
   "source": [
    "import pandas as pd\n"
   ]
  },
  {
   "cell_type": "code",
   "execution_count": 2,
   "id": "cdb5d486-5b08-433d-b4da-cf8af5b006b0",
   "metadata": {},
   "outputs": [
    {
     "name": "stdout",
     "output_type": "stream",
     "text": [
      "7\n"
     ]
    },
    {
     "data": {
      "text/html": [
       "<div>\n",
       "<style scoped>\n",
       "    .dataframe tbody tr th:only-of-type {\n",
       "        vertical-align: middle;\n",
       "    }\n",
       "\n",
       "    .dataframe tbody tr th {\n",
       "        vertical-align: top;\n",
       "    }\n",
       "\n",
       "    .dataframe thead th {\n",
       "        text-align: right;\n",
       "    }\n",
       "</style>\n",
       "<table border=\"1\" class=\"dataframe\">\n",
       "  <thead>\n",
       "    <tr style=\"text-align: right;\">\n",
       "      <th></th>\n",
       "      <th>particle_type</th>\n",
       "      <th>x [mm]</th>\n",
       "      <th>xp</th>\n",
       "      <th>y [mm]</th>\n",
       "      <th>yp</th>\n",
       "      <th>z[mm]</th>\n",
       "      <th>Ek [MeV]</th>\n",
       "    </tr>\n",
       "  </thead>\n",
       "  <tbody>\n",
       "    <tr>\n",
       "      <th>0</th>\n",
       "      <td>e-</td>\n",
       "      <td>1</td>\n",
       "      <td>0</td>\n",
       "      <td>1</td>\n",
       "      <td>0</td>\n",
       "      <td>-10</td>\n",
       "      <td>220</td>\n",
       "    </tr>\n",
       "    <tr>\n",
       "      <th>1</th>\n",
       "      <td>e+</td>\n",
       "      <td>1</td>\n",
       "      <td>0</td>\n",
       "      <td>1</td>\n",
       "      <td>0</td>\n",
       "      <td>-10</td>\n",
       "      <td>220</td>\n",
       "    </tr>\n",
       "    <tr>\n",
       "      <th>2</th>\n",
       "      <td>gamma</td>\n",
       "      <td>-1</td>\n",
       "      <td>0</td>\n",
       "      <td>1</td>\n",
       "      <td>0</td>\n",
       "      <td>-10</td>\n",
       "      <td>220</td>\n",
       "    </tr>\n",
       "    <tr>\n",
       "      <th>3</th>\n",
       "      <td>gamma</td>\n",
       "      <td>-1</td>\n",
       "      <td>0</td>\n",
       "      <td>1</td>\n",
       "      <td>0</td>\n",
       "      <td>-10</td>\n",
       "      <td>220</td>\n",
       "    </tr>\n",
       "    <tr>\n",
       "      <th>4</th>\n",
       "      <td>proton</td>\n",
       "      <td>1</td>\n",
       "      <td>0</td>\n",
       "      <td>-1</td>\n",
       "      <td>0</td>\n",
       "      <td>-10</td>\n",
       "      <td>220</td>\n",
       "    </tr>\n",
       "    <tr>\n",
       "      <th>5</th>\n",
       "      <td>neutron</td>\n",
       "      <td>1</td>\n",
       "      <td>0</td>\n",
       "      <td>-1</td>\n",
       "      <td>0</td>\n",
       "      <td>-10</td>\n",
       "      <td>220</td>\n",
       "    </tr>\n",
       "    <tr>\n",
       "      <th>6</th>\n",
       "      <td>ion::6;12</td>\n",
       "      <td>1</td>\n",
       "      <td>0</td>\n",
       "      <td>-1</td>\n",
       "      <td>0</td>\n",
       "      <td>-10</td>\n",
       "      <td>220</td>\n",
       "    </tr>\n",
       "  </tbody>\n",
       "</table>\n",
       "</div>"
      ],
      "text/plain": [
       "  particle_type  x [mm]  xp  y [mm]  yp  z[mm]  Ek [MeV]\n",
       "0            e-       1   0       1   0    -10       220\n",
       "1            e+       1   0       1   0    -10       220\n",
       "2         gamma      -1   0       1   0    -10       220\n",
       "3         gamma      -1   0       1   0    -10       220\n",
       "4        proton       1   0      -1   0    -10       220\n",
       "5       neutron       1   0      -1   0    -10       220\n",
       "6     ion::6;12       1   0      -1   0    -10       220"
      ]
     },
     "execution_count": 2,
     "metadata": {},
     "output_type": "execute_result"
    }
   ],
   "source": [
    "test_data = pd.read_csv('test.csv', names=('particle_type','x [mm]', 'xp', 'y [mm]', 'yp', 'z[mm]', 'Ek [MeV]'))\n",
    "print(len(test_data))\n",
    "test_data"
   ]
  },
  {
   "cell_type": "code",
   "execution_count": 3,
   "id": "ee92a086-2114-4258-b6e4-0b0d09823480",
   "metadata": {},
   "outputs": [
    {
     "name": "stdout",
     "output_type": "stream",
     "text": [
      "Welcome to JupyROOT 6.24/06\n"
     ]
    }
   ],
   "source": [
    "import numpy as np\n",
    "import matplotlib.pyplot as plt\n",
    "#from scipy import stats\n",
    "import ROOT\n",
    "import os"
   ]
  },
  {
   "cell_type": "code",
   "execution_count": 4,
   "id": "7e107650-9e09-4ac7-89d5-54181d4527dd",
   "metadata": {},
   "outputs": [],
   "source": [
    "#Setup MiniScatter -- modify the path to where you built MiniScatter!\n",
    "import sys\n",
    "MiniScatter_path=\"../build/.\"\n",
    "sys.path.append(MiniScatter_path)\n",
    "\n",
    "import miniScatterDriver\n",
    "import miniScatterScanner\n",
    "import miniScatterPlots"
   ]
  },
  {
   "cell_type": "code",
   "execution_count": 5,
   "id": "b0699556-94a3-471a-a9ed-62f3f99cce02",
   "metadata": {},
   "outputs": [],
   "source": [
    "### Basic simulation parameters ###\n",
    "\n",
    "QUIET   = False #Reduced output?\n",
    "TRYLOAD = True  #Try to load already existing data instead of recomputing?\n",
    "#Where to store temporary data for scans (a fast file system, NOT EOS/AFS)\n",
    "TMPFOLDER = \"/tmp/miniScatter/LoadParticles\"\n",
    "\n",
    "baseSimSetup = {}\n",
    "#baseSimSetup[\"PHYS\"] = \"QGSP_BERT__SS\" #Use the __SS physics lists for thin foils\n",
    "baseSimSetup[\"PHYS\"]  = \"QGSP_BERT\"\n",
    "\n",
    "baseSimSetup[\"N\"]     = len(test_data) #Just a few events here! Remember that thicker targets are slower\n",
    "baseSimSetup[\"BEAMFILE\"] = os.path.join(os.getcwd(),\"test.csv\")\n",
    "\n",
    "baseSimSetup[\"ENERGY\"] = 200.0 #[MeV]\n",
    "\n",
    "#Use a flat distribution or cut the tails of the Gaussian?\n",
    "#baseSimSetup[\"BEAM_RCUT\"] = 3.0\n",
    "\n",
    "#Where to start the beam.\n",
    "#baseSimSetup[\"ZOFFSET_BACKTRACK\"] = True\n",
    "baseSimSetup[\"ZOFFSET\"]           = 0.0 #Auto\n",
    "\n",
    "#Beam particle type\n",
    "baseSimSetup[\"BEAM\"]    = \"e-\"\n",
    "\n",
    "baseSimSetup[\"WORLDSIZE\"] = 100.0 #Make the world wider\n",
    "\n",
    "#Target is 10 mm of aluminium\n",
    "baseSimSetup[\"THICK\"] = 10\n",
    "baseSimSetup[\"MAT\"] = \"G4_Al\"\n",
    "\n",
    "#Detector distance from target center [mm] \n",
    "baseSimSetup[\"DIST\"] = 300.0 \n",
    "\n",
    "#Some output settings\n",
    "baseSimSetup[\"QUICKMODE\"] = False #Include slow plots\n",
    "baseSimSetup[\"MINIROOT\"]  = False #Skip TTRees in the .root files\n",
    "\n",
    "baseSimSetup[\"EDEP_DZ\"]   = 1.0\n",
    "baseSimSetup[\"CUTOFF_RADIUS\"] = 100.0 #Larger radial cutoff\n",
    "\n",
    "#Store the .root files in a subfolder from where this script is running,\n",
    "# normally MiniScatter/examples, in order to keep things together\n",
    "baseSimSetup[\"OUTFOLDER\"] = os.path.join(os.getcwd(),\"LoadParticles\")\n"
   ]
  },
  {
   "cell_type": "code",
   "execution_count": 6,
   "id": "fa2cbabf-58af-4bf7-872c-59ae8bc51590",
   "metadata": {},
   "outputs": [
    {
     "name": "stdout",
     "output_type": "stream",
     "text": [
      "Did not find any pre-computed data at '/mn/kvant/u5/kyrrens/code/MiniScatter/examples/LoadParticles/loaded.root', computing now.\n",
      "Running command line: './MiniScatter --thick 10 --mat G4_Al --dist 300.0 --worldsize 100.0 --phys QGSP_BERT --numEvents 7 --energy 200.0 --beam e- --zoffset 0.0 --beamFile /mn/kvant/u5/kyrrens/code/MiniScatter/examples/test.csv --outname loaded --outfolder /mn/kvant/u5/kyrrens/code/MiniScatter/examples/LoadParticles --cutoffRadius 100.0 --edepDZ 1.0'\n",
      "RunFolder = '/mn/kvant/u5/kyrrens/code/MiniScatter/build'\n",
      "logName   = '/mn/kvant/u5/kyrrens/code/MiniScatter/examples/LoadParticles/loaded.txt'\n",
      "|\n",
      "Event# 0\n",
      "\\\n",
      "Done!\n"
     ]
    }
   ],
   "source": [
    "simSetup_loaded = baseSimSetup.copy()\n",
    "#Give the .root file a name\n",
    "simSetup_loaded[\"OUTNAME\"] = \"loaded\"\n",
    "\n",
    "# Run & load in one step, with results caching\n",
    "(twiss_loaded, twiss_loaded, objects_loaded) = \\\n",
    "    miniScatterDriver.getData_tryLoad(simSetup_loaded, tryload=TRYLOAD,\\\n",
    "    getObjects=[\"targetEdep\",\"target_edep_dens\",\"target_edep_rdens\",\"metadata\"])"
   ]
  },
  {
   "cell_type": "code",
   "execution_count": 7,
   "id": "7280543b-2919-4455-8acc-073900e23dcd",
   "metadata": {},
   "outputs": [
    {
     "data": {
      "image/png": "[encoded data removed]",
      "text/plain": [
       "<IPython.core.display.Image object>"
      ]
     },
     "metadata": {},
     "output_type": "display_data"
    }
   ],
   "source": [
    "canvas = ROOT.TCanvas()\n",
    "objects_loaded[\"target_edep_dens\"].Draw()\n",
    "canvas.Draw()"
   ]
  },
  {
   "cell_type": "code",
   "execution_count": null,
   "id": "c20769fc-e94f-455e-9f83-813142d065bb",
   "metadata": {},
   "outputs": [],
   "source": []
  }
 ],
 "metadata": {
  "kernelspec": {
   "display_name": "Python 3",
   "language": "python",
   "name": "python3"
  },
  "language_info": {
   "codemirror_mode": {
    "name": "ipython",
    "version": 3
   },
   "file_extension": ".py",
   "mimetype": "text/x-python",
   "name": "python",
   "nbconvert_exporter": "python",
   "pygments_lexer": "ipython3",
   "version": "3.6.8"
  }
 },
 "nbformat": 4,
 "nbformat_minor": 5
}
