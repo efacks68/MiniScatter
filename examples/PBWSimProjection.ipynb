{
 "cells": [
  {
   "cell_type": "code",
   "execution_count": 1,
   "id": "175daf8b-f599-42f9-acf4-71e405fac3c8",
   "metadata": {},
   "outputs": [
    {
     "name": "stdout",
     "output_type": "stream",
     "text": [
      "Welcome to JupyROOT 6.24/06\n"
     ]
    }
   ],
   "source": [
    "import numpy as np\n",
    "import sys, os, ROOT"
   ]
  },
  {
   "cell_type": "code",
   "execution_count": 2,
   "id": "683a8c0b-92d0-4101-82f1-36df5cd151b8",
   "metadata": {},
   "outputs": [],
   "source": [
    "loadParts=True\n",
    "ifplot=False\n",
    "engplot=False\n",
    "import matplotlib.pyplot as plt"
   ]
  },
  {
   "cell_type": "code",
   "execution_count": 3,
   "id": "e60283bb-5c1d-421c-be2f-c170b291547f",
   "metadata": {
    "tags": []
   },
   "outputs": [],
   "source": [
    "def numLines(beamFile):\n",
    "    import csv\n",
    "    with open(beamFile+\".csv\") as csv_file:\n",
    "        csv_reader = csv.reader(csv_file, delimiter=',')\n",
    "        N = 0\n",
    "        for row in csv_reader:\n",
    "            N += 1\n",
    "        csv_file.close()\n",
    "    from datetime import datetime\n",
    "    dt = datetime.now()\n",
    "    print(\"There are \",N,\"lines\"+dt.strftime(\"%H-%M-%S\"))\n",
    "    return N"
   ]
  },
  {
   "cell_type": "code",
   "execution_count": 4,
   "id": "32201590-5508-4bb7-8eb0-9df3b0e6aeb8",
   "metadata": {},
   "outputs": [],
   "source": [
    "def converter(hIn):\n",
    "    xax = np.zeros(hIn.GetXaxis().GetNbins()+1)\n",
    "    for i in range(len(xax)-1):\n",
    "        xax[i] = hIn.GetXaxis().GetBinLowEdge(i+1)\n",
    "    xax[-1] = hIn.GetXaxis().GetBinUpEdge(hIn.GetXaxis().GetNbins())\n",
    "    \n",
    "    yax = np.zeros(hIn.GetYaxis().GetNbins()+1)\n",
    "    for i in range(len(yax)-1):\n",
    "        yax[i] = hIn.GetYaxis().GetBinLowEdge(i+1)\n",
    "    yax[-1] = hIn.GetYaxis().GetBinUpEdge(hIn.GetYaxis().GetNbins())\n",
    "    \n",
    "    #print(xax)\n",
    "    #print(yax)\n",
    "    \n",
    "    hOut = np.zeros( (len(yax),len(xax)) )\n",
    "    #print (hOut)\n",
    "\n",
    "    for xi in range(hIn.GetXaxis().GetNbins()):\n",
    "        for yi in range(hIn.GetYaxis().GetNbins()):\n",
    "            bx = hIn.GetBin(xi+1,yi+1)\n",
    "            hOut[yi,xi] = hIn.GetBinContent(bx)\n",
    "    \n",
    "    #print(hOut)\n",
    "    plt.imshow(hOut,origin='lower')\n",
    "    \n",
    "    return (hOut,xax,yax)"
   ]
  },
  {
   "cell_type": "code",
   "execution_count": 5,
   "id": "bd95f343-1f42-4cf0-abd9-ced11a7506a0",
   "metadata": {},
   "outputs": [],
   "source": [
    "\n",
    "Ibetax = 1006.80 #[m] original:1000m\n",
    "Ialphx = -60.44 #original: -50\n",
    "Inemtx = 0.11315 #[mm-mrad]\n",
    "Ibetay = 129.72 #[m] original: 200m\n",
    "Ialphy = -7.72 #original: -7\n",
    "Inemty = 0.12155 #[mm-mrad]\n",
    "thick = 0\n",
    "energy=570\n",
    "Engcut = 95.0\n",
    "material=[\"G4_Al\"]\n",
    "beam=\"proton\"\n",
    "beamAngle=0\n",
    "N=1e5\n",
    "zoff = \"*-50\"\n",
    "file =  \"PBW_570MeV_beta1007,130m_RMamp0,0mm_N1.4e+07_NpB500_NPls1e+03\"\n",
    "PBIP = False #slows down, only use when needed\n",
    "picPWD = \"/uio/hume/student-u52/ericdf/Documents/UiO/Forske/ESSProjects/PBWScattering/Pictures/\"\n",
    "csvPWD = \"/scratch2/ericdf/PBWScatter/CSVs/\" #put all CSVs in Scratch to save my disk space!\n",
    "beamFile = csvPWD + file\n",
    "if not os.path.isfile(beamFile+\".csv\"):\n",
    "    raise Exception(\"CSV not found!\")\n",
    "physList =\"QGSP_BERT_EMZ\""
   ]
  },
  {
   "cell_type": "code",
   "execution_count": 6,
   "id": "37a864a7-4712-4896-a4d6-4de41047d170",
   "metadata": {},
   "outputs": [
    {
     "name": "stdout",
     "output_type": "stream",
     "text": [
      "There are  14385000 lines14-23-26\n",
      "/scratch2/ericdf/PBWScatter/ \t /scratch2/ericdf/PBWScatter/CSVs/PBW_570MeV_beta1007,130m_RMamp0,0mm_N1.4e+07_NpB500_NPls1e+03_runW_QBZ\n",
      "PBW_570MeV_beta1007,130m_RMamp0,0mm_N1.4e+07_NpB500_NPls1e+03_runW_QBZ\n",
      "{'PHYS': 'QGSP_BERT_EMZ', 'N': 14385000, 'ZOFFSET': '*-50', 'BEAMFILE': '/scratch2/ericdf/PBWScatter/CSVs/PBW_570MeV_beta1007,130m_RMamp0,0mm_N1.4e+07_NpB500_NPls1e+03.csv', 'ENERGY': 570, 'COVAR': (0.11315, 1006.8, -60.44, 0.12155, 129.72, -7.72), 'WORLDSIZE': 1000.0, 'POSLIM': 100, 'QUICKMODE': False, 'MINIROOT': False, 'ANASCATTER': True, 'EDEP_DZ': 1.0, 'CUTOFF_RADIUS': 1000.0, 'CUTOFF_ENERGYFRACTION': 95.0, 'THICK': 0.0, 'DIST': [4400], 'MAGNET': [{'pos': 24.125, 'type': 'PBW', 'length': 0, 'gradient': 0.0, 'keyval': {'material': ['G4_Al'], 'radius': 88.0, 'al1Thick': 1.0, 'waterThick': 2.0, 'al2Thick': 1.25}}], 'OUTFOLDER': '/scratch2/ericdf/PBWScatter/', 'OUTNAME': 'PBW_570MeV_beta1007,130m_RMamp0,0mm_N1.4e+07_NpB500_NPls1e+03_runW_QBZ'}\n"
     ]
    }
   ],
   "source": [
    "#constants for below use\n",
    "QUIET     = False #Reduced output, doesn't show events\n",
    "saveParts = False\n",
    "\n",
    "exitDistributions = False #slows down\n",
    "\n",
    "#particle characteristic values\n",
    "if beam == \"proton\":\n",
    "    partA = 938.27209 #[MeV/c2]\n",
    "    partZ = 1\n",
    "elif beam == \"electron\":\n",
    "    partA = 0.511 #[MeV/c2]\n",
    "    partZ = 1\n",
    "c = 2.99792e8 #[m/s]\n",
    "MeV = 1e6*1.602e-19 \n",
    "um = 1e-6 #[m] #need to convert to real units as the equations use real units.\n",
    "m = 1 #[m]\n",
    "mm = 1e-3 #[m]\n",
    "ummrad = um*1e-3\n",
    "gamma_rel = 1 + energy/partA #from PrintTwissParameters\n",
    "beta_rel = np.sqrt(gamma_rel*gamma_rel -1 )/gamma_rel\n",
    "\n",
    "#Get rid of Normalized Emittance!\n",
    "Igemtx = Inemtx/(beta_rel*gamma_rel)\n",
    "Igemty = Inemty/(beta_rel*gamma_rel)\n",
    "\n",
    "#Setup MiniScatter -- modify the path to where you built MiniScatter!\n",
    "MiniScatter_path=\"../../MiniScatter/build/.\"\n",
    "sys.path.append(MiniScatter_path) #uncomment this if this is your first time running this.\n",
    "#print(os.getcwd())\n",
    "if os.getcwd() != \"/uio/hume/student-u52/ericdf/Documents/UiO/Forske/ESSProjects/PBWScattering/MiniScatter/build/\":\n",
    "    os.chdir(\"/uio/hume/student-u52/ericdf/Documents/UiO/Forske/ESSProjects/PBWScattering/MiniScatter/build/\")\n",
    "#print(os.getcwd())\n",
    "\n",
    "import miniScatterDriver\n",
    "#import miniScatterScanner\n",
    "#import miniScatterPlots\n",
    "\n",
    "### Basic simulation parameters ###\n",
    "TRYLOAD = True  #Try to load already existing data instead of recomputing, only if using getData_TryLoad function.\n",
    "NUM_THREADS = 8 #Number of parallel threads to use for scans\n",
    "#Where to store temporary data for scans (a fast file system, NOT EOS/AFS)\n",
    "TMPFOLDER = \"/tmp/miniScatter/SimpleDemo_thicknessScan\"\n",
    "\n",
    "#When making multiple scans, it's nice to first create a `baseSimSetup` and then modify it for each simulation\n",
    "# Note: each argument here corresponds roughly to a command line argument.\n",
    "# Look inside miniScatterDriver.runScatter() to see how.\n",
    "\n",
    "baseSimSetup = {}\n",
    "#baseSimSetup[\"PHYS\"] = \"QGSP_BERT__SS\" #Use the __SS physics lists for thin foils due to checking each atom cross section\n",
    "baseSimSetup[\"PHYS\"]  = \"QGSP_BERT_EMZ\" #better for scattering through 1mm sheets\n",
    "\n",
    "#Particle Beam definitions\n",
    "#baseSimSetup[\"BEAM_RCUT\"] = 3.0\n",
    "#Where to start the beam [mm]\n",
    "#baseSimSetup[\"ZOFFSET_BACKTRACK\"] = True\n",
    "baseSimSetup[\"N\"]         = N #need N regardless of beam origin\n",
    "baseSimSetup[\"ZOFFSET\"]   = zoff\n",
    "\n",
    "#For loading particles\n",
    "if loadParts == True:\n",
    "    picPWD = \"/uio/hume/student-u52/ericdf/Documents/UiO/Forske/ESSProjects/PBWScattering/Pictures/\"\n",
    "    parts = numLines(beamFile)\n",
    "    baseSimSetup[\"N\"]        = parts #change to match file particles. Used for file name\n",
    "    baseSimSetup[\"BEAMFILE\"] = beamFile+\".csv\" # number of particles >= N\n",
    "    baseSimSetup[\"ENERGY\"]   = energy #570 #[MeV] #ESS beam energy update 15.8\n",
    "else:\n",
    "    baseSimSetup[\"BEAM\"]    = beam\n",
    "    baseSimSetup[\"ENERGY\"] = energy #570 #[MeV] #ESS beam energy update 15.8\n",
    "\n",
    "#Use a distribution defined by Twiss parameters for ESS beam ~where PBW is\n",
    "# 3 variables = symmetric, 6 variables = asymetric\n",
    "EPSX   = Inemtx #[um]\n",
    "BETAX  = Ibetax #[m]\n",
    "ALPHAX = Ialphx #[mm-mrad]\n",
    "EPSY   = Inemty #[um]\n",
    "BETAY  = Ibetay #[m]\n",
    "ALPHAY = Ialphy #[mm-mrad]\n",
    "baseSimSetup[\"COVAR\"] = (EPSX,BETAX,ALPHAX,EPSY,BETAY,ALPHAY)\n",
    "\n",
    "#Beam particle type\n",
    "Rcut = 1000.0\n",
    "baseSimSetup[\"WORLDSIZE\"] = Rcut #Make the world wider for seeing where particles go\n",
    "baseSimSetup[\"POSLIM\"] = 100 #XY histogram Position Limit for a few, check RootFileWriter.cc\n",
    "#Beam Angle\n",
    "#Defined by the beam size at BPM94 (TBD) compared to size at BPM93 (~0)\n",
    "if beamAngle != 0:\n",
    "    dBPM93to94 = 3031 #[mm]\n",
    "    #beamAngle = np.arctan(sizeAtBPM94/dBPM93to94) #rad?\n",
    "    modThick = thick / np.cos(beamAngle) \n",
    "    print(beamAngle,modThick)\n",
    "#Some more output settings\n",
    "baseSimSetup[\"QUICKMODE\"] = False #Include slow plots\n",
    "baseSimSetup[\"MINIROOT\"]  = False #Skip TTRees in the .root files\n",
    "baseSimSetup[\"ANASCATTER\"] = True #don't do Analytical Scatter Angle Test\n",
    "baseSimSetup[\"EDEP_DZ\"]   = 1.0 #Z bin width for energy deposit histogram\n",
    "baseSimSetup[\"CUTOFF_RADIUS\"] = Rcut #Larger radial cutoff #Decreased 10 May\n",
    "baseSimSetup[\"CUTOFF_ENERGYFRACTION\"] = Engcut #Minimum percent of full Energy to use in cutoff calculations\n",
    "#print(baseSimSetup)\n",
    "\n",
    "#Define material nickname\n",
    "#radiation lengths are from https://pdg.lbl.gov/2019/AtomicNuclearProperties/\n",
    "if material == \"G4_Galactic\":\n",
    "    mat = \"Vacuum\"\n",
    "    radLen = 1e24 #[mm] basically infinity\n",
    "    atomZ = 0.1\n",
    "    atomA = 0.1\n",
    "elif material == \"G4_Al\":\n",
    "    mat = \"Al\"\n",
    "    radLen = 88.97 #[mm]\n",
    "    atomZ = 13\n",
    "    atomA = 26.981\n",
    "elif material == \"G4_AIR\":\n",
    "    mat = \"Air\"\n",
    "    radLen = 3.122e5 #[mm] -taken from 80% N2 gas(3.260e5mm) and 20% O2 gas (2.571e5mm)\n",
    "    atomZ = 2 #the lbl page says Z/A = 0.49919, so 2/4 is close enough\n",
    "    atomA = 4\n",
    "elif material == \"G4_Au\":\n",
    "    mat = \"Au\"\n",
    "    radLen = 3.344\n",
    "    atomZ = 79\n",
    "    atomA = 196.966\n",
    "\n",
    "if thick!=0.0:\n",
    "    baseSimSetup[\"THICK\"] = thick\n",
    "    baseSimSetup[\"MAT\"] = material\n",
    "    #Valid choices: G4_Al, G4_Au, G4_C, G4_Cu, G4_Pb, G4_Ti, G4_Si, G4_W, G4_U, G4_Fe, G4_MYLAR, G4_KAPTON,\n",
    "    #G4_STAINLESS-STEEL, G4_WATER,G4_SODIUM_IODIDE, G4_Galactic, G4_AIR, Sapphire, ChromoxPure, ChromoxScreen\n",
    "\n",
    "    #Detector distance from target center [mm] Default is 50mm behind Target\n",
    "    #For multiple detector locations, make a list, e.g. [-5,5,5000] but they stack in TTree.\n",
    "    baseSimSetup[\"DIST\"] = [4400] #Detector location. only at ESS Target location\n",
    "    outname = \"simplePBW_\"+str(baseSimSetup[\"THICK\"])+\"mm\"+mat+\"_{:.0f}MeV_emtx{:.0f}um\".format(baseSimSetup[\"ENERGY\"],Ibetax*1e3)\n",
    "    if loadParts:\n",
    "        import re\n",
    "        name = re.sub(\".+(PBW)\",mat,beamFile)\n",
    "      #print(name)\n",
    "        outname = name + \"_run\"\n",
    "    else:\n",
    "        outname = \"simplePBW_\"+str(baseSimSetup[\"THICK\"])+\"mm\"+mat+\"_{:.0f}MeV_emtx{:.0f}um\".format(baseSimSetup[\"ENERGY\"],Ibetax*1e3)\n",
    "\n",
    "else:\n",
    "    baseSimSetup[\"THICK\"] = 0.0\n",
    "    baseSimSetup[\"DIST\"] = [4400] #Detector locations. At ESS Target location \n",
    "    baseSimSetup[\"MAGNET\"] = []\n",
    "    #How to construct a magnet for miniScatterDriver, as per kyrsjo/MiniScatter/blob/master/examples/SiRi DeltaE-E detector.ipynb\n",
    "    #Specialized PBW magnet!\n",
    "    m1 = {}\n",
    "    m1[\"pos\"]      = 24.125 #[mm] Minimum position is 24.125mm for r=88m,t=4.25,arcPhi=120!!\n",
    "    m1[\"type\"]     = \"PBW\"\n",
    "    m1[\"length\"]   = 0 #[mm] Must be 0!\n",
    "    m1[\"gradient\"] = 0.0\n",
    "    m1[\"keyval\"] = {}\n",
    "    m1[\"keyval\"][\"material\"]   = material\n",
    "    m1[\"keyval\"][\"radius\"]     = 88.0 #[mm]\n",
    "    m1[\"keyval\"][\"al1Thick\"]   = 1.0 #[mm]\n",
    "    m1[\"keyval\"][\"waterThick\"] = 2.0 #[mm]\n",
    "    m1[\"keyval\"][\"al2Thick\"]   = 1.25 #[mm]\n",
    "    baseSimSetup[\"MAGNET\"].append(m1)\n",
    "\n",
    "    m1Len = baseSimSetup[\"MAGNET\"][0][\"keyval\"][\"al1Thick\"]\n",
    "    m3Len = baseSimSetup[\"MAGNET\"][0][\"keyval\"][\"al2Thick\"]\n",
    "    mat = \"Real\"\n",
    "    radLenAl = 88.97 #[mm] Al\n",
    "    radLenH2O = 360.8 #[mm] liquid Water \n",
    "    #from https://cds.cern.ch/record/1279627/files/PH-EP-Tech-Note-2010-013.pdf\n",
    "\n",
    "    if PBIP:\n",
    "        #PBIP Magnet\n",
    "        m2 = {}\n",
    "        m2[\"pos\"] = 1874.0 #[mm]\n",
    "        m2[\"type\"] = \"COLLIMATOR1\"\n",
    "        m2[\"length\"]   = 450.0 #[mm] Must be 0!\n",
    "        m2[\"gradient\"] = 0.0\n",
    "        m2[\"keyval\"] = {}\n",
    "        m2[\"keyval\"][\"material\"] = \"G4_Al\"\n",
    "        m2[\"keyval\"][\"radius\"]   = 100.0 #[mm]\n",
    "        m2[\"keyval\"][\"width\"]    = 800.0 #[mm]\n",
    "        m2[\"keyval\"][\"height\"]   = 800.0 #[mm]\n",
    "        baseSimSetup[\"MAGNET\"].append(m2)\n",
    "\n",
    "    if loadParts:\n",
    "      #outname = \"PBW_{:.0f}MeV_eX{:.0f}um,eY{:.0f}um_bX{:.0f}m,bY{:.0f}m_aX{:.0f},aY{:.0f}_N{:.0e}_mult16\".format(baseSimSetup[\"ENERGY\"],Inemtx*1e3,Inemty*1e3,Ibetax,Ibetay,Ialphx,Ialphy,baseSimSetup[\"N\"])\n",
    "      outname = beamFile+\"_runW\"\n",
    "    \n",
    "    else:\n",
    "        outname = \"PBW_{:.0f}MeV_eX{:.0f}um,eY{:.0f}um_bX{:.0f}m,bY{:.0f}m_aX{:.0f},aY{:.0f}_t{:.0f}mm_N{:.0e}\".format(baseSimSetup[\"ENERGY\"],Inemtx*1e3,Inemty*1e3,Ibetax,Ibetay,Ialphx,Ialphy,thick,baseSimSetup[\"N\"])\n",
    "        #outname = \"PBW_{:.0f}MeV_eX{:.0f}_N{:.0e}_{:.0f}mmRcut\".format(baseSimSetup[\"ENERGY\"],Inemtx*1e3,baseSimSetup[\"N\"],Rcut)\n",
    "        #outname = \"PBW_{:.0f}MeV_eX{:.0f}_N{:.0e}_{:.2f}mmAl1{:.2f}mmAl2\".format(baseSimSetup[\"ENERGY\"],Inemtx*1e3,baseSimSetup[\"N\"],m1Len,m3Len)\n",
    "        #outname = \"PBW_{:.0f}MeV_ESS\".format(baseSimSetup[\"ENERGY\"])\n",
    "\n",
    "if PBIP:\n",
    "    outname = outname + \"_PBIP\"\n",
    "\n",
    "if physList == \"QGSP_BERT_EMZ\":\n",
    "    outname = outname + \"_QBZ\"\n",
    "elif physList == \"FTFP_BERT_EMZ\":\n",
    "    outname = outname + \"_FBZ\"\n",
    "\n",
    "#Find which folder root file is in\n",
    "if os.path.isfile(\"/scratch2/ericdf/PBWScatter/\"+outname+\".root\"):\n",
    "    baseSimSetup[\"OUTFOLDER\"] = os.path.join(\"/scratch2/ericdf/PBWScatter/\")\n",
    "elif os.path.isfile(\"/scratch2/ericdf/PBWScatter/heplab01/\"+outname+\".root\"):\n",
    "    baseSimSetup[\"OUTFOLDER\"] = os.path.join(\"/scratch2/ericdf/PBWScatter/heplab01/\")\n",
    "elif os.path.isfile(\"/scratch2/ericdf/PBWScatter/heplab04/\"+outname+\".root\"):\n",
    "    baseSimSetup[\"OUTFOLDER\"] = os.path.join(\"/scratch2/ericdf/PBWScatter/heplab04/\")\n",
    "elif os.path.isfile(\"/scratch2/ericdf/PBWScatter/old/\"+outname+\".root\"):\n",
    "    baseSimSetup[\"OUTFOLDER\"] = os.path.join(\"/scratch2/ericdf/PBWScatter/old/\")\n",
    "else:\n",
    "    baseSimSetup[\"OUTFOLDER\"] = os.path.join(\"/scratch2/ericdf/PBWScatter/\")\n",
    "print(baseSimSetup[\"OUTFOLDER\"],\"\\t\",outname)\n",
    "    \n",
    "#Store the .root files in a subfolder from where this script is running,\n",
    "# normally MiniScatter/examples, in order to keep things together\n",
    "\n",
    "#Remove upper directories that may have come with beamFile for appending outname to scratch folder\n",
    "import re\n",
    "if re.search(\"/PBW_\",outname):\n",
    "    #print(\"\\n\",outname,\"\\n\")\n",
    "    outname = re.sub(\".+(?=(PBW_))\",\"\",outname)\n",
    "    #print(\"removed\",outname)\n",
    "#Store the .root files in a subfolder from where this script is running,\n",
    "# normally MiniScatter/examples, in order to keep things together\n",
    "baseSimSetup[\"OUTFOLDER\"] = os.path.join(\"/scratch2/ericdf/PBWScatter/\") \n",
    "#put in Scratch of HepLab0# for faster processing, as per Kyrre\n",
    "\n",
    "#copy so it is if running multiple scans in a Jupyter notebook\n",
    "simSetup_simple1 = baseSimSetup.copy()\n",
    "\n",
    "print(outname)\n",
    "simSetup_simple1[\"OUTNAME\"] = outname\n",
    "\n",
    "#Variables for automation\n",
    "savepath = \"/uio/hume/student-u52/ericdf/Documents/UiO/Forske/ESSProjects/PBWScattering/Pictures/\" #Eric's files location\n",
    "savename=savepath+outname #base savename for plots downstream, brings directly to my directory\n",
    "savedfile=os.path.join(simSetup_simple1[\"OUTFOLDER\"],simSetup_simple1[\"OUTNAME\"])+\".root\"\n",
    "\n",
    "print(simSetup_simple1)"
   ]
  },
  {
   "cell_type": "code",
   "execution_count": 7,
   "id": "3e77fc91-c945-44a0-8a2f-e4db7681c9c3",
   "metadata": {},
   "outputs": [
    {
     "name": "stdout",
     "output_type": "stream",
     "text": [
      "Found a file at '/scratch2/ericdf/PBWScatter/PBW_570MeV_beta1007,130m_RMamp0,0mm_N1.4e+07_NpB500_NPls1e+03_runW_QBZ.root', loading!\n"
     ]
    }
   ],
   "source": [
    "(twiss_PBW, numPart_PBW, objects_PBW) = \\\n",
    "    miniScatterDriver.getData_tryLoad(simSetup_simple1, tryload=TRYLOAD,getObjects=[\"tracker_cutoff_xy_PDG2212\"])"
   ]
  },
  {
   "cell_type": "code",
   "execution_count": 8,
   "id": "feaf85ba-117b-4779-a0da-5082a81a2501",
   "metadata": {},
   "outputs": [],
   "source": [
    "#cc1 = ROOT.TCanvas()\n",
    "targ=objects_PBW[\"tracker_cutoff_xy_PDG2212\"]\n",
    "#targ.Draw()\n",
    "#cc1.Draw()"
   ]
  },
  {
   "cell_type": "code",
   "execution_count": 9,
   "id": "fed0c4dc-2782-4105-ba17-5379758c4664",
   "metadata": {},
   "outputs": [
    {
     "name": "stdout",
     "output_type": "stream",
     "text": [
      "Y Axis\n"
     ]
    }
   ],
   "source": [
    "print(\"Y Axis\")"
   ]
  },
  {
   "cell_type": "code",
   "execution_count": 10,
   "id": "0113f7d8-4bb8-44ed-8c57-7df648d9328d",
   "metadata": {},
   "outputs": [],
   "source": [
    "yval = 150\n",
    "#targ.GetXaxis().SetRangeUser(-2,2)\n",
    "#targ.GetYaxis().SetRangeUser(-yval,yval)\n",
    "#print(targ.GetYaxis().FindBin(-yval))\n",
    "#targ.GetYaxis().SetRangeUser(0,2)\n",
    "#targ.GetXaxis().SetRangeUser(-140,140)\n",
    "#targy = targ"
   ]
  },
  {
   "cell_type": "code",
   "execution_count": 11,
   "id": "d0833508-d228-442b-81ad-96e33e4fdbe4",
   "metadata": {},
   "outputs": [],
   "source": [
    "#targY = targ.Clone()\n",
    "projY = targ.ProjectionY(\"y\",targ.GetYaxis().FindBin(-2),targ.GetYaxis().FindBin(2))\n",
    "#cc2 = ROOT.TCanvas()\n",
    "#projY.Draw()\n",
    "#cc2.Draw()\n",
    "#cc2.SetLogy()"
   ]
  },
  {
   "cell_type": "code",
   "execution_count": 12,
   "id": "be0964d9-f81c-445a-b198-18b1cab8be72",
   "metadata": {},
   "outputs": [
    {
     "name": "stdout",
     "output_type": "stream",
     "text": [
      "\n",
      "****************************************\n",
      "Minimizer is Minuit / Migrad\n",
      "Chi2                      =      10518.5\n",
      "NDf                       =          329\n",
      "Edm                       =  8.04412e-09\n",
      "NCalls                    =           67\n",
      "Constant                  =       158477   +/-   137.493     \n",
      "Mean                      =  -0.00507183   +/-   0.0073688   \n",
      "Sigma                     =       10.785   +/-   0.00576596   \t (limited)\n",
      "\n",
      " FCN=10518.5 FROM MIGRAD    STATUS=CONVERGED      66 CALLS          67 TOTAL\n",
      "                     EDM=8.04412e-09    STRATEGY= 1      ERROR MATRIX ACCURATE \n",
      "  EXT PARAMETER                                   STEP         FIRST   \n",
      "  NO.   NAME      VALUE            ERROR          SIZE      DERIVATIVE \n",
      "   1  Constant     1.58477e+05   1.37493e+02   5.42180e+00  -2.11979e-07\n",
      "   2  Mean        -5.07183e-03   7.36880e-03   3.68964e-04  -1.66008e-02\n",
      "   3  Sigma        1.07850e+01   5.76596e-03   6.69429e-06  -2.49791e-01\n"
     ]
    },
    {
     "name": "stderr",
     "output_type": "stream",
     "text": [
      "Info in <TCanvas::MakeDefCanvas>:  created default TCanvas with name c1\n"
     ]
    }
   ],
   "source": [
    "xmax=500\n",
    "f1 = ROOT.TF1('f1','gaus',-xmax,xmax)\n",
    "f1_res = projY.Fit(f1, 'RS')\n",
    "print(f1_res)\n",
    "p0 = f1.GetParameter(0)\n",
    "p1 = f1.GetParameter(1)\n",
    "p2 = f1.GetParameter(2)"
   ]
  },
  {
   "cell_type": "code",
   "execution_count": 13,
   "id": "1d862f85-744d-4a29-ac70-c833564eb84d",
   "metadata": {},
   "outputs": [],
   "source": [
    "#projY.Draw()\n",
    "#f1_res.Draw('same')\n",
    "#c1 = ROOT.TCanvas()\n",
    "#c1.SetLogy()\n",
    "#c1.Draw()"
   ]
  },
  {
   "cell_type": "code",
   "execution_count": 14,
   "id": "ff5061ce-45ee-4c9b-9fa6-621753b707dc",
   "metadata": {},
   "outputs": [
    {
     "name": "stdout",
     "output_type": "stream",
     "text": [
      "<class 'float'>\n",
      "<cppyy.LowLevelView object at 0x7f4b5309b8f0> 142629.31629324268 21.56997709023961 10.784988545119806\n"
     ]
    }
   ],
   "source": [
    "r=0.1\n",
    "f2 = ROOT.TF1('f2','[0] * exp(-x*x/(2*[1]*[1])) + [2] * exp(-x*x/(2*[3]*[3])) + [4] * exp(-x*x/(2*[5]*[5])) + [6] * exp(-x*x/(2*[7]*[7]))',-xmax,xmax)\n",
    "print(type(r))\n",
    "f2.SetParameters(p0*(1-r),p2*2,p0*r,20,p0*(1-r*r),p2*5,p0*(1-r*r*r),p2*10)\n",
    "\n",
    "print(f1.GetParameters(),f2.GetParameter(0), f2.GetParameter(1),p2)"
   ]
  },
  {
   "cell_type": "code",
   "execution_count": 15,
   "id": "9df1f187-083b-4fe9-8ba9-30d116212f38",
   "metadata": {},
   "outputs": [],
   "source": [
    "#c1 = ROOT.TCanvas()\n",
    "#projY.Draw()\n",
    "#f2.SetLineColor(ROOT.kGreen)\n",
    "#f2.Draw('same')\n",
    "#c1.SetLogy()\n",
    "#projY.GetXaxis().SetRangeUser(-400,400)\n",
    "#c1.Draw()"
   ]
  },
  {
   "cell_type": "code",
   "execution_count": 16,
   "id": "ae47ce96-158f-41bf-a8e5-c975c6e5ebaf",
   "metadata": {},
   "outputs": [
    {
     "name": "stdout",
     "output_type": "stream",
     "text": [
      " FCN=4141.56 FROM MIGRAD    STATUS=CONVERGED     569 CALLS         570 TOTAL\n",
      "                     EDM=2.4758e-07    STRATEGY= 1  ERROR MATRIX UNCERTAINTY   1.0 per cent\n",
      "  EXT PARAMETER                                   STEP         FIRST   \n",
      "  NO.   NAME      VALUE            ERROR          SIZE      DERIVATIVE \n",
      "   1  p0           8.38534e+04   3.12749e+01  -3.63015e-06  -3.74054e+00\n",
      "   2  p1           3.31220e+01   1.82165e-03   2.76767e-06   5.65453e-01\n",
      "   3  p2           1.55225e+05   1.12893e+02  -1.08621e+00   3.52263e-06\n",
      "   4  p3           1.08928e+01   6.46866e-05   2.66285e-05** at limit **\n",
      "   5  p4          -8.30979e+04   2.80356e+01  -2.31041e-01   6.28416e-05\n",
      "   6  p5           3.31474e+01   3.62813e-04   2.05768e-07   2.36287e+02\n",
      "   7  p6           2.36372e+00   1.18540e-01   1.57312e-03  -7.29032e-03\n",
      "   8  p7           3.23659e+02   1.58907e-06   5.09155e-09  -1.97384e-01\n"
     ]
    },
    {
     "name": "stderr",
     "output_type": "stream",
     "text": [
      "Info in <ROOT::Math::ParameterSettings>: lower/upper bounds outside current parameter value. The value will be set to (low+up)/2 \n"
     ]
    }
   ],
   "source": [
    "f2.SetParLimits(0,p0*0.5,p0*5)\n",
    "#f2.SetParLimits(2,0,p0*0.5)\n",
    "y1=3\n",
    "y2=30\n",
    "f2.SetParLimits(3,p2*1.01,p2*y1)\n",
    "f2.SetParLimits(5,p2*(y1+.01),p2*y2)\n",
    "f2.SetParLimits(7,p2*(y2+.01),p2*y2*10)\n",
    "f2_res = projY.Fit(f2, 'RS')\n",
    "#print(f1_res)\n",
    "#print(f2_res)"
   ]
  },
  {
   "cell_type": "code",
   "execution_count": 17,
   "id": "48fcc580-b90e-44d4-9377-26b3edf0eace",
   "metadata": {},
   "outputs": [
    {
     "name": "stdout",
     "output_type": "stream",
     "text": [
      "\n",
      "****************************************\n",
      "Minimizer is Minuit / Migrad\n",
      "Chi2                      =      10518.5\n",
      "NDf                       =          329\n",
      "Edm                       =  8.04412e-09\n",
      "NCalls                    =           67\n",
      "Constant                  =       158477   +/-   137.493     \n",
      "Mean                      =  -0.00507183   +/-   0.0073688   \n",
      "Sigma                     =       10.785   +/-   0.00576596   \t (limited)\n",
      "\n",
      "\n",
      "****************************************\n",
      "Minimizer is Minuit / Migrad\n",
      "Chi2                      =      4141.56\n",
      "NDf                       =          324\n",
      "Edm                       =   2.4758e-07\n",
      "NCalls                    =          570\n",
      "p0                        =      83853.4   +/-   31.2749      \t (limited)\n",
      "p1                        =       33.122   +/-   0.00182165  \n",
      "p2                        =       155225   +/-   112.893     \n",
      "p3                        =      10.8928   +/-   6.46866e-05  \t (limited)\n",
      "p4                        =     -83097.9   +/-   28.0356     \n",
      "p5                        =      33.1474   +/-   0.000362813  \t (limited)\n",
      "p6                        =      2.36372   +/-   0.11854     \n",
      "p7                        =      323.659   +/-   1.58907e-06  \t (limited)\n",
      "\n"
     ]
    },
    {
     "data": {
      "image/png": "[encoded data removed]",
      "text/plain": [
       "<IPython.core.display.Image object>"
      ]
     },
     "metadata": {},
     "output_type": "display_data"
    }
   ],
   "source": [
    "c1 = ROOT.TCanvas()\n",
    "projY.Draw()\n",
    "f2.SetLineColor(ROOT.kBlack)\n",
    "f2.Draw('same')\n",
    "f1.Draw('same')\n",
    "projY.GetXaxis().SetRangeUser(-600,600)\n",
    "c1.SetLogy()\n",
    "c1.Draw()\n",
    "print(f1_res)\n",
    "print(f2_res)"
   ]
  },
  {
   "cell_type": "code",
   "execution_count": null,
   "id": "53634c47-51ba-4851-b82f-ac8b52c3dae2",
   "metadata": {},
   "outputs": [],
   "source": []
  },
  {
   "cell_type": "code",
   "execution_count": 18,
   "id": "6c906f62-8244-4712-9e0e-f78626b6edc8",
   "metadata": {},
   "outputs": [],
   "source": [
    "#cc2 = ROOT.TCanvas()\n",
    "#targ.Draw()\n",
    "#cc2.Draw()"
   ]
  },
  {
   "cell_type": "code",
   "execution_count": 37,
   "id": "87a83fdf-9b1d-4c6d-a80e-9fd420e8e117",
   "metadata": {},
   "outputs": [
    {
     "data": {
      "image/png": "[encoded data removed]",
      "text/plain": [
       "<IPython.core.display.Image object>"
      ]
     },
     "metadata": {},
     "output_type": "display_data"
    }
   ],
   "source": [
    "cc2 = ROOT.TCanvas()\n",
    "#targX=targ.Clone()\n",
    "projX = targ.ProjectionX(\"x\",targ.GetYaxis().FindBin(-2),targ.GetYaxis().FindBin(2))\n",
    "projX.Draw()\n",
    "cc2.Draw()\n",
    "cc2.SetLogy()"
   ]
  },
  {
   "cell_type": "code",
   "execution_count": 54,
   "id": "a014328a-af83-4c24-a001-47bb90d8b98c",
   "metadata": {},
   "outputs": [
    {
     "name": "stdout",
     "output_type": "stream",
     "text": [
      "\n",
      "****************************************\n",
      "Minimizer is Minuit / Migrad\n",
      "Chi2                      =      3561.42\n",
      "NDf                       =          330\n",
      "Edm                       =   2.1294e-07\n",
      "NCalls                    =           64\n",
      "Constant                  =       159056   +/-   112.418     \n",
      "Mean                      =   0.00670935   +/-   0.00883772  \n",
      "Sigma                     =        15.57   +/-   0.0065569    \t (limited)\n",
      "\n",
      " FCN=3561.42 FROM MIGRAD    STATUS=CONVERGED      63 CALLS          64 TOTAL\n",
      "                     EDM=2.1294e-07    STRATEGY= 1      ERROR MATRIX ACCURATE \n",
      "  EXT PARAMETER                                   STEP         FIRST   \n",
      "  NO.   NAME      VALUE            ERROR          SIZE      DERIVATIVE \n",
      "   1  Constant     1.59056e+05   1.12418e+02   2.63082e+00   5.79810e-06\n",
      "   2  Mean         6.70935e-03   8.83772e-03   2.57561e-04  -2.28650e-02\n",
      "   3  Sigma        1.55700e+01   6.55690e-03   3.23865e-06   4.00902e-01\n"
     ]
    }
   ],
   "source": [
    "xmax=500\n",
    "f1 = ROOT.TF1('f1','gaus',-xmax,xmax)\n",
    "f1_res = projX.Fit(f1, 'RS')\n",
    "print(f1_res)\n",
    "p0 = f1.GetParameter(0)\n",
    "p1 = f1.GetParameter(1)\n",
    "p2 = f1.GetParameter(2)"
   ]
  },
  {
   "cell_type": "code",
   "execution_count": 55,
   "id": "439802c3-6697-471b-bb72-b1e8f232c866",
   "metadata": {},
   "outputs": [
    {
     "name": "stdout",
     "output_type": "stream",
     "text": [
      "<class 'float'>\n",
      "159056.04407954967 143150.4396715947 15.570046717592556 159056.04407954967 0.0067093457619991186 15.570046717592556\n"
     ]
    }
   ],
   "source": [
    "r=0.1\n",
    "xmax=500\n",
    "f2 = ROOT.TF1('f2','[0] * exp(-x*x/(2*[1]*[1])) + [2] * exp(-x*x/(2*[3]*[3])) + [4] * exp(-x*x/(2*[5]*[5])) + [6] * exp(-x*x/(2*[7]*[7]))',-xmax,xmax)\n",
    "print(type(r))\n",
    "f2.SetParameters(p0*(1-r),p2,p0*r,20,p0*(1-r*r),p2,p0*(1-r*r*r),p2*10)\n",
    "\n",
    "print(f1.GetParameter(0),f2.GetParameter(0), f2.GetParameter(1),p0,p1,p2)"
   ]
  },
  {
   "cell_type": "code",
   "execution_count": 58,
   "id": "d7ca48f3-cfe6-400a-ae1b-c776ce53236f",
   "metadata": {},
   "outputs": [
    {
     "name": "stdout",
     "output_type": "stream",
     "text": [
      " FCN=298.513 FROM MIGRAD    STATUS=CONVERGED     949 CALLS         950 TOTAL\n",
      "                     EDM=6.86816e-07    STRATEGY= 1  ERROR MATRIX UNCERTAINTY   0.9 per cent\n",
      "  EXT PARAMETER                                   STEP         FIRST   \n",
      "  NO.   NAME      VALUE            ERROR          SIZE      DERIVATIVE \n",
      "   1  p0           1.58598e+05   1.14113e+02  -6.66305e-08   5.39531e-01\n",
      "   2  p1          -1.53512e+01   8.80919e-03   5.98626e-06   4.04220e-02\n",
      "   3  p2           1.51684e+03   5.36023e+01  -1.85329e-02  -4.46131e-06\n",
      "   4  p3           2.73447e+01   1.82136e-04  -1.59963e-08   3.28757e+02\n",
      "   5  p4           5.22820e+01   4.98193e+00   4.92653e-07   1.01383e+00\n",
      "   6  p5           4.82671e+01   3.70245e-08  -4.42974e-11** at limit **\n",
      "   7  p6           2.12330e+00   1.25861e-01  -2.58804e-07  -1.73093e+01\n",
      "   8  p7           3.12958e+02   6.01014e-07  -2.10998e-11** at limit **\n"
     ]
    },
    {
     "name": "stderr",
     "output_type": "stream",
     "text": [
      "Info in <ROOT::Math::ParameterSettings>: lower/upper bounds outside current parameter value. The value will be set to (low+up)/2 \n"
     ]
    }
   ],
   "source": [
    "f2.SetParLimits(0,p0*0.5,p0*2)\n",
    "f2.SetParLimits(2,0.1,p0*0.5)\n",
    "x1=3\n",
    "x2=20\n",
    "f2.SetParLimits(1,p2*0.1,p2*5)\n",
    "f2.SetParLimits(3,p2*1.01,p2*x1)\n",
    "f2.SetParLimits(4,0.1,p0)\n",
    "f2.SetParLimits(5,p2*(x1+0.1),p2*x2)\n",
    "f2.SetParLimits(6,0.1,p0)\n",
    "f2.SetParLimits(7,p2*(x2+0.1),p2*x2*20)\n",
    "f2_res = projX.Fit(f2, 'RS')\n",
    "#print(f1_res)\n",
    "#print(f2_res)"
   ]
  },
  {
   "cell_type": "code",
   "execution_count": 57,
   "id": "fb867f2a-6d41-4703-96db-f0c3c67de678",
   "metadata": {},
   "outputs": [
    {
     "name": "stdout",
     "output_type": "stream",
     "text": [
      "\n",
      "****************************************\n",
      "Minimizer is Minuit / Migrad\n",
      "Chi2                      =      3561.42\n",
      "NDf                       =          330\n",
      "Edm                       =   2.1294e-07\n",
      "NCalls                    =           64\n",
      "Constant                  =       159056   +/-   112.418     \n",
      "Mean                      =   0.00670935   +/-   0.00883772  \n",
      "Sigma                     =        15.57   +/-   0.0065569    \t (limited)\n",
      "\n",
      "\n",
      "****************************************\n",
      "         Invalid FitResult  (status = 4 )\n",
      "****************************************\n",
      "Minimizer is Minuit / Migrad\n",
      "Chi2                      =  4.34182e+09\n",
      "NDf                       =          325\n",
      "Edm                       =  3.87595e+09\n",
      "NCalls                    =          302\n",
      "p0                        =       318102   +/-   147349       \t (limited)\n",
      "p1                        =     -14.0423   +/-   1           \n",
      "p2                        =  1.09809e+06   +/-   8.18524     \n",
      "p3                        =      37.7481   +/-   19.902       \t (limited)\n",
      "p4                        =      -537794   +/-   3.04612     \n",
      "p5                        =      48.2703   +/-   162.191      \t (limited)\n",
      "p6                        =      6300.24   +/-   1.00292     \n",
      "p7                        =      312.976   +/-   3641.62      \t (limited)\n",
      "\n"
     ]
    },
    {
     "data": {
      "image/png": "[encoded data removed]",
      "text/plain": [
       "<IPython.core.display.Image object>"
      ]
     },
     "metadata": {},
     "output_type": "display_data"
    }
   ],
   "source": [
    "c1 = ROOT.TCanvas()\n",
    "projX.Draw()\n",
    "f2.SetLineColor(ROOT.kBlack)\n",
    "f2.Draw('same')\n",
    "f1.Draw('same')\n",
    "projX.GetXaxis().SetRangeUser(-600,600)\n",
    "c1.SetLogy()\n",
    "c1.Draw()\n",
    "print(f1_res)\n",
    "print(f2_res)"
   ]
  },
  {
   "cell_type": "code",
   "execution_count": 24,
   "id": "c218368d-f31a-4df4-88e0-7fece0071408",
   "metadata": {},
   "outputs": [
    {
     "data": {
      "text/plain": [
       "3.6339827066394636e-07"
      ]
     },
     "execution_count": 24,
     "metadata": {},
     "output_type": "execute_result"
    }
   ],
   "source": [
    "1/(f2.GetParameter(2)*ROOT.sqrt(6.28))"
   ]
  },
  {
   "cell_type": "code",
   "execution_count": 25,
   "id": "c73e022a-aa8f-4d62-a93a-346a1b7d41e8",
   "metadata": {},
   "outputs": [],
   "source": [
    "Gdata = projY.GetIntegral()\n",
    "#c1 = ROOT.TCanvas()\n",
    "\n",
    "#c1.Draw()"
   ]
  },
  {
   "cell_type": "code",
   "execution_count": 26,
   "id": "7d885fab-32a0-4c37-b0f6-f88b9bb03eb8",
   "metadata": {},
   "outputs": [
    {
     "name": "stdout",
     "output_type": "stream",
     "text": [
      "\n",
      "****************************************\n",
      "Minimizer is Minuit / Migrad\n",
      "Chi2                      =      3561.42\n",
      "NDf                       =          330\n",
      "Edm                       =   2.1294e-07\n",
      "NCalls                    =           64\n",
      "Constant                  =       159056   +/-   112.418     \n",
      "Mean                      =   0.00670935   +/-   0.00883772  \n",
      "Sigma                     =        15.57   +/-   0.0065569    \t (limited)\n",
      "\n",
      "\n",
      "****************************************\n",
      "Minimizer is Minuit / Migrad\n",
      "Chi2                      =      690.229\n",
      "NDf                       =          325\n",
      "Edm                       =  3.10292e-08\n",
      "NCalls                    =          623\n",
      "p0                        =       159329   +/-   112.646      \t (limited)\n",
      "p1                        =      15.4733   +/-   0.00693547  \n",
      "p2                        =      1247.91   +/-   61.9048     \n",
      "p3                        =      46.1687   +/-   0.000247086  \t (limited)\n",
      "p4                        =     -925.819   +/-   53.5502     \n",
      "p5                        =      48.2685   +/-   2.78911e-06  \t (limited)\n",
      "p6                        =      2.48247   +/-   0.133296    \n",
      "p7                        =      312.959   +/-   1.80538e-05  \t (limited)\n",
      "\n",
      " FCN=690.229 FROM MIGRAD    STATUS=CONVERGED     622 CALLS         623 TOTAL\n",
      "                     EDM=3.10292e-08    STRATEGY= 1  ERROR MATRIX UNCERTAINTY   1.4 per cent\n",
      "  EXT PARAMETER                                   STEP         FIRST   \n",
      "  NO.   NAME      VALUE            ERROR          SIZE      DERIVATIVE \n",
      "   1  p0           1.59329e+05   1.12646e+02   2.69072e-07  -2.77090e-04\n",
      "   2  p1           1.54733e+01   6.93547e-03   2.04980e-06  -6.34846e-03\n",
      "   3  p2           1.24791e+03   6.19048e+01  -5.45565e-02   3.63175e-05\n",
      "   4  p3           4.61687e+01   2.47086e-04   5.34150e-08   5.88574e+01\n",
      "   5  p4          -9.25819e+02   5.35502e+01   4.68116e-02  -2.45935e-05\n",
      "   6  p5           4.82685e+01   2.78911e-06   5.43911e-12   6.87300e+00\n",
      "   7  p6           2.48247e+00   1.33296e-01  -1.36977e-04   4.13097e-04\n",
      "   8  p7           3.12959e+02   1.80538e-05   3.30549e-10** at limit **\n"
     ]
    },
    {
     "data": {
      "image/png": "[encoded data removed]",
      "text/plain": [
       "<IPython.core.display.Image object>"
      ]
     },
     "metadata": {},
     "output_type": "display_data"
    }
   ],
   "source": [
    "projX = targ.ProjectionX(\"x\",targ.GetYaxis().FindBin(-2),targ.GetYaxis().FindBin(2))\n",
    "f3 = ROOT.TF1(\"f3\",\"1/ pow(x,[0])\",-xmax,xmax)\n",
    "f3_res = projX.Fit(f2, 'RS')\n",
    "c1 = ROOT.TCanvas()\n",
    "projX.Draw()\n",
    "f1.SetLineColor(ROOT.kBlack)\n",
    "f3.Draw('same')\n",
    "f1.Draw('same')\n",
    "projX.GetXaxis().SetRangeUser(-600,600)\n",
    "c1.SetLogy()\n",
    "c1.Draw()\n",
    "print(f1_res)\n",
    "print(f3_res)"
   ]
  },
  {
   "cell_type": "code",
   "execution_count": null,
   "id": "0aaed28f-01fe-4d9e-9b6c-c7839d9f45a9",
   "metadata": {},
   "outputs": [],
   "source": []
  },
  {
   "cell_type": "code",
   "execution_count": null,
   "id": "eee45f8e-e448-4cd1-9d79-d0441309d48d",
   "metadata": {},
   "outputs": [],
   "source": []
  }
 ],
 "metadata": {
  "kernelspec": {
   "display_name": "Python 3",
   "language": "python",
   "name": "python3"
  },
  "language_info": {
   "codemirror_mode": {
    "name": "ipython",
    "version": 3
   },
   "file_extension": ".py",
   "mimetype": "text/x-python",
   "name": "python",
   "nbconvert_exporter": "python",
   "pygments_lexer": "ipython3",
   "version": "3.6.8"
  }
 },
 "nbformat": 4,
 "nbformat_minor": 5
}
