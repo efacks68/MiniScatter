{
 "cells": [
  {
   "cell_type": "code",
   "execution_count": 1,
   "id": "175daf8b-f599-42f9-acf4-71e405fac3c8",
   "metadata": {},
   "outputs": [
    {
     "name": "stdout",
     "output_type": "stream",
     "text": [
      "Welcome to JupyROOT 6.24/06\n"
     ]
    }
   ],
   "source": [
    "import numpy as np\n",
    "import sys, os, ROOT"
   ]
  },
  {
   "cell_type": "code",
   "execution_count": 2,
   "id": "683a8c0b-92d0-4101-82f1-36df5cd151b8",
   "metadata": {},
   "outputs": [],
   "source": [
    "loadParts=True\n",
    "ifplot=False\n",
    "engplot=False\n",
    "import matplotlib.pyplot as plt"
   ]
  },
  {
   "cell_type": "code",
   "execution_count": 3,
   "id": "e60283bb-5c1d-421c-be2f-c170b291547f",
   "metadata": {
    "tags": []
   },
   "outputs": [],
   "source": [
    "def numLines(beamFile):\n",
    "    import csv\n",
    "    with open(beamFile+\".csv\") as csv_file:\n",
    "        csv_reader = csv.reader(csv_file, delimiter=',')\n",
    "        N = 0\n",
    "        for row in csv_reader:\n",
    "            N += 1\n",
    "        csv_file.close()\n",
    "    from datetime import datetime\n",
    "    dt = datetime.now()\n",
    "    print(\"There are \",N,\"lines\"+dt.strftime(\"%H-%M-%S\"))\n",
    "    return N"
   ]
  },
  {
   "cell_type": "code",
   "execution_count": 4,
   "id": "32201590-5508-4bb7-8eb0-9df3b0e6aeb8",
   "metadata": {},
   "outputs": [],
   "source": [
    "def converter(hIn):\n",
    "    xax = np.zeros(hIn.GetXaxis().GetNbins()+1)\n",
    "    for i in range(len(xax)-1):\n",
    "        xax[i] = hIn.GetXaxis().GetBinLowEdge(i+1)\n",
    "    xax[-1] = hIn.GetXaxis().GetBinUpEdge(hIn.GetXaxis().GetNbins())\n",
    "    \n",
    "    yax = np.zeros(hIn.GetYaxis().GetNbins()+1)\n",
    "    for i in range(len(yax)-1):\n",
    "        yax[i] = hIn.GetYaxis().GetBinLowEdge(i+1)\n",
    "    yax[-1] = hIn.GetYaxis().GetBinUpEdge(hIn.GetYaxis().GetNbins())\n",
    "    \n",
    "    #print(xax)\n",
    "    #print(yax)\n",
    "    \n",
    "    hOut = np.zeros( (len(yax),len(xax)) )\n",
    "    #print (hOut)\n",
    "\n",
    "    for xi in range(hIn.GetXaxis().GetNbins()):\n",
    "        for yi in range(hIn.GetYaxis().GetNbins()):\n",
    "            bx = hIn.GetBin(xi+1,yi+1)\n",
    "            hOut[yi,xi] = hIn.GetBinContent(bx)\n",
    "    \n",
    "    #print(hOut)\n",
    "    plt.imshow(hOut,origin='lower')\n",
    "    \n",
    "    return (hOut,xax,yax)"
   ]
  },
  {
   "cell_type": "code",
   "execution_count": 5,
   "id": "bd95f343-1f42-4cf0-abd9-ced11a7506a0",
   "metadata": {},
   "outputs": [],
   "source": [
    "\n",
    "Twiss = [0.11315,1006.80,-60.44,0.12155,129.72,-7.72]\n",
    "thick = 0\n",
    "energy=570\n",
    "Engcut = 95.0\n",
    "material=[\"G4_Al\"]\n",
    "beam=\"proton\"\n",
    "beamAngle=0\n",
    "N=1e5\n",
    "zoff = \"*-50\"\n",
    "file =  \"PBW_570MeV_beta1007,130m_RMamp0,0mm_N1.4e+07_NpB500_NPls1e+03\"\n",
    "PBIP = False #slows down, only use when needed\n",
    "picPWD = \"/uio/hume/student-u52/ericdf/Documents/UiO/Forske/ESSProjects/PBWScattering/Pictures/\"\n",
    "csvPWD = \"/scratch2/ericdf/PBWScatter/CSVs/\" #put all CSVs in Scratch to save my disk space!\n",
    "beamFile = csvPWD + file\n",
    "if not os.path.isfile(beamFile+\".csv\"):\n",
    "    raise Exception(\"CSV not found!\")\n",
    "physList =\"QGSP_BERT_EMZ\" # \"QGSP_BERT_EMZ\" or \"FTFP_BERT_EMZ\"\n",
    "options  = {'noText':False, 'noBox':False, 'wide':True, 'physList':physList, 'dependence':\"Twiss\",\n",
    "                            'xlim':450, 'ylim':500, 'maxim':0, 'saveHist':False,\n",
    "                            'PBIP':False, 'beamClass':\"ESS\", 'Nb':10, 'failure':0,\n",
    "                            'magFails':2, 'saveRaster':False }\n",
    "envXAngle = 0\n",
    "envYAngle = 0\n",
    "beamXAngle = envXAngle\n",
    "beamYAngle = envYAngle"
   ]
  },
  {
   "cell_type": "code",
   "execution_count": 6,
   "id": "37a864a7-4712-4896-a4d6-4de41047d170",
   "metadata": {},
   "outputs": [
    {
     "name": "stdout",
     "output_type": "stream",
     "text": [
      "There are  14385000 lines11-55-23\n"
     ]
    }
   ],
   "source": [
    "#constants for below use\n",
    "QUIET     = False #Reduced output, doesn't show events\n",
    "saveParts = False\n",
    "\n",
    "#particle characteristic values\n",
    "if beam == \"proton\":\n",
    "    partA = 938.27209 #[MeV/c2]\n",
    "    partZ = 1\n",
    "elif beam == \"electron\":\n",
    "    partA = 0.511 #[MeV/c2]\n",
    "    partZ = 1\n",
    "c = 2.99792e8 #[m/s]\n",
    "MeV = 1e6*1.602e-19 \n",
    "um = 1e-6 #[m] #need to convert to real units as the equations use real units.\n",
    "m = 1 #[m]\n",
    "mm = 1e-3 #[m]\n",
    "ummrad = um*1e-3\n",
    "gamma_rel = 1 + energy/partA #from PrintTwissParameters\n",
    "beta_rel = np.sqrt(gamma_rel*gamma_rel -1 )/gamma_rel\n",
    "\n",
    "#Setup MiniScatter -- modify the path to where you built MiniScatter!\n",
    "MiniScatter_path=\"../../MiniScatter/build/.\"\n",
    "sys.path.append(MiniScatter_path) #uncomment this if this is your first time running this.\n",
    "#print(os.getcwd())\n",
    "if os.uname()[1] == \"tensor.uio.no\":\n",
    "    if os.getcwd() != \"/uio/hume/student-u52/ericdf/Documents/UiO/Forske/ESSProjects/PBWScattering/MiniScatter/build/\":\n",
    "        os.chdir(\"/uio/hume/student-u52/ericdf/Documents/UiO/Forske/ESSProjects/PBWScattering/MiniScatter/build/\")\n",
    "elif os.uname()[1] == \"mbarrios-XPS-13-9300\":\n",
    "    if os.getcwd() != \"/home/efackelman/Documents/UiO/Forske/ESSProjects/PBWScattering/MiniScatter/build/\":\n",
    "        os.chdir(\"/home/efackelman/Documents/UiO/Forske/ESSProjects/PBWScattering/MiniScatter/build/\")\n",
    "else: print(\"Help! Unknown build directory!, simulation.py l 50\")\n",
    "#print(os.getcwd())\n",
    "\n",
    "import miniScatterDriver\n",
    "#import miniScatterScanner\n",
    "#import miniScatterPlots\n",
    "\n",
    "### Basic simulation parameters ###\n",
    "TRYLOAD = True  #Try to load already existing data instead of recomputing, only if using getData_TryLoad function.\n",
    "NUM_THREADS = 8 #Number of parallel threads to use for scans\n",
    "#Where to store temporary data for scans (a fast file system, NOT EOS/AFS)\n",
    "TMPFOLDER = \"/tmp/miniScatter/SimpleDemo_thicknessScan\"\n",
    "\n",
    "#When making multiple scans, it's nice to first create a `baseSimSetup` and then modify it for each simulation\n",
    "# Note: each argument here corresponds roughly to a command line argument.\n",
    "# Look inside miniScatterDriver.runScatter() to see how.\n",
    "\n",
    "baseSimSetup = {}\n",
    "#baseSimSetup[\"PHYS\"] = \"QGSP_BERT__SS\" #Use the __SS physics lists for thin foils due to checking each atom cross section\n",
    "baseSimSetup[\"PHYS\"]  = options['physList'] #better for scattering through 1mm sheets\n",
    "\n",
    "#Particle Beam definitions\n",
    "#baseSimSetup[\"BEAM_RCUT\"] = 3.0\n",
    "#Where to start the beam [mm]\n",
    "#baseSimSetup[\"ZOFFSET_BACKTRACK\"] = True\n",
    "baseSimSetup[\"N\"]         = N #need N regardless of beam origin\n",
    "baseSimSetup[\"ZOFFSET\"]   = zoff\n",
    "\n",
    "#Use a distribution defined by Twiss parameters for ESS beam ~where PBW is\n",
    "# 3 variables = symmetric, 6 variables = asymetric\n",
    "EPSX   = Twiss[0] #[um]\n",
    "BETAX  = Twiss[1] #[m]\n",
    "ALPHAX = Twiss[2] #[mm-mrad]\n",
    "EPSY   = Twiss[3] #[um]\n",
    "BETAY  = Twiss[4] #[m]\n",
    "ALPHAY = Twiss[5] #[mm-mrad]\n",
    "\n",
    "#For loading particles\n",
    "if loadParts == True:\n",
    "    #picPWD = \"/uio/hume/student-u52/ericdf/Documents/UiO/Forske/ESSProjects/PBWScattering/Pictures/\"\n",
    "    #beamFile = \"PBW_570MeV_eX113um,eY122um_bX941m,bY120m_aX-59mm,aY-7mm_N1.4e+05_2.9e+02us_cyrille\"\n",
    "    #from plotFit import numLines\n",
    "    parts = numLines(beamFile)\n",
    "    baseSimSetup[\"N\"]        = parts #change to match file particles. Used for file name\n",
    "    baseSimSetup[\"BEAMFILE\"] = beamFile+\".csv\" # number of particles >= N\n",
    "    baseSimSetup[\"ENERGY\"]   = energy #570 #[MeV] #ESS beam energy update 15.8\n",
    "else:\n",
    "    baseSimSetup[\"BEAM\"]    = beam\n",
    "    baseSimSetup[\"ENERGY\"] = energy #570 #[MeV] #ESS beam energy update 15.8\n",
    "    baseSimSetup[\"COVAR\"] = (EPSX,BETAX,ALPHAX,EPSY,BETAY,ALPHAY) #only for without \"--beamFile\"\n",
    "\n",
    "#Get rid of Normalized Emittance!\n",
    "Igemtx = EPSX/(beta_rel*gamma_rel)\n",
    "Igemty = EPSY/(beta_rel*gamma_rel)\n",
    "\n",
    "#Beam particle type\n",
    "Rcut = 1000.0\n",
    "Engcut = 0.9\n",
    "baseSimSetup[\"WORLDSIZE\"] = Rcut #[mm] Make the world wider for seeing where particles go\n",
    "baseSimSetup[\"POSLIM\"] = Rcut #XY histogram Position Limit for a few, check RootFileWriter.cc\n",
    "#Beam Angle\n",
    "#Defined by the beam size at BPM94 (TBD) compared to size at BPM93 (~0)\n",
    "if beamXAngle != 0 or beamYAngle != 0:\n",
    "    dBPM93to94 = 3031 #[mm]\n",
    "    #beamAngle = np.arctan(sizeAtBPM94/dBPM93to94) #rad?\n",
    "    modXThick = thick / np.cos(beamXAngle) \n",
    "    modYThick = thick / np.sin(beamYAngle)\n",
    "    print(beamXAngle,modXThick,beamYAngle,modYThick)\n",
    "#Some more output settings\n",
    "baseSimSetup[\"QUICKMODE\"] = False #Include slow plots\n",
    "baseSimSetup[\"MINIROOT\"]  = False #Skip TTRees in the .root files\n",
    "baseSimSetup[\"ANASCATTER\"] = True #don't do Analytical Scatter Angle Test\n",
    "baseSimSetup[\"EDEP_DZ\"]   = 1.0 #Z bin width for energy deposit histogram\n",
    "baseSimSetup[\"CUTOFF_RADIUS\"] = Rcut #[mm]Larger radial cutoff #Decreased 10 May\n",
    "baseSimSetup[\"CUTOFF_ENERGYFRACTION\"] = Engcut #Minimum percent of full Energy to use in cutoff calculations\n",
    "#print(baseSimSetup)\n",
    "\n",
    "#Define material nickname\n",
    "#radiation lengths are from https://pdg.lbl.gov/2019/AtomicNuclearProperties/\n",
    "if material == \"G4_Galactic\":\n",
    "    mat = \"Vac\"\n",
    "    radLen = 1e24 #[mm] basically infinity\n",
    "    atomZ = 0.1\n",
    "    atomA = 0.1\n",
    "elif material == \"G4_Al\":\n",
    "    mat = \"Al\"\n",
    "    radLen = 88.97 #[mm]\n",
    "    atomZ = 13\n",
    "    atomA = 26.981\n",
    "elif material == \"G4_AIR\":\n",
    "    mat = \"Air\"\n",
    "    radLen = 3.122e5 #[mm] -taken from 80% N2 gas(3.260e5mm) and 20% O2 gas (2.571e5mm)\n",
    "    atomZ = 2 #the lbl page says Z/A = 0.49919, so 2/4 is close enough\n",
    "    atomA = 4\n",
    "elif material == \"G4_Au\":\n",
    "    mat = \"Au\"\n",
    "    radLen = 3.344\n",
    "    atomZ = 79\n",
    "    atomA = 196.966\n",
    "\n",
    "if thick!=0.0:\n",
    "    baseSimSetup[\"THICK\"] = thick\n",
    "    baseSimSetup[\"MAT\"] = material\n",
    "    #Valid choices: G4_Al, G4_Au, G4_C, G4_Cu, G4_Pb, G4_Ti, G4_Si, G4_W, G4_U, G4_Fe, G4_MYLAR, G4_KAPTON,\n",
    "    #G4_STAINLESS-STEEL, G4_WATER,G4_SODIUM_IODIDE, G4_Galactic, G4_AIR, Sapphire, ChromoxPure, ChromoxScreen\n",
    "\n",
    "    #Detector distance from target center [mm] Default is 50mm behind Target\n",
    "    #For multiple detector locations, make a list, e.g. [-5,5,5000] but they stack in TTree.\n",
    "    baseSimSetup[\"DIST\"] = [4400] #Detector location. only at ESS Target location\n",
    "    if loadParts:\n",
    "        import re\n",
    "        name = re.sub(\".+(PBW)\",mat,beamFile)\n",
    "        #print(name)\n",
    "        outname = name + \"_run\"\n",
    "    else:\n",
    "        outname = \"simplePBW_\"+str(baseSimSetup[\"THICK\"])+\"mm\"+mat+\"_{:.0f}MeV_emtx{:.0f}um\".format(baseSimSetup[\"ENERGY\"],Twiss[1]*1e3)\n",
    "\n",
    "else:\n",
    "    baseSimSetup[\"THICK\"] = 0.0\n",
    "    baseSimSetup[\"DIST\"] = [4400] #Detector locations. At ESS Target location \n",
    "    baseSimSetup[\"MAGNET\"] = []\n",
    "    #How to construct a magnet for miniScatterDriver, as per kyrsjo/MiniScatter/blob/master/examples/SiRi DeltaE-E detector.ipynb\n",
    "    #Specialized PBW magnet!\n",
    "    m1 = {}\n",
    "    m1[\"pos\"]      = 24.125 #[mm] Minimum position is 24.125mm for r=88m,t=4.25,arcPhi=120!!\n",
    "    m1[\"type\"]     = \"PBW\"\n",
    "    m1[\"length\"]   = 0 #[mm] Must be 0!\n",
    "    m1[\"gradient\"] = 0.0\n",
    "    m1[\"keyval\"] = {}\n",
    "    m1[\"keyval\"][\"material\"]   = material\n",
    "    m1[\"keyval\"][\"radius\"]     = 88.0 #[mm]\n",
    "    m1[\"keyval\"][\"al1Thick\"]   = 1.0 #[mm]\n",
    "    m1[\"keyval\"][\"waterThick\"] = 2.0 #[mm]\n",
    "    m1[\"keyval\"][\"al2Thick\"]   = 1.25 #[mm]\n",
    "    baseSimSetup[\"MAGNET\"].append(m1)\n",
    "\n",
    "    m1Len = baseSimSetup[\"MAGNET\"][0][\"keyval\"][\"al1Thick\"]\n",
    "    m3Len = baseSimSetup[\"MAGNET\"][0][\"keyval\"][\"al2Thick\"]\n",
    "    mat = \"Real\"\n",
    "    radLenAl = 88.97 #[mm] Al\n",
    "    radLenH2O = 360.8 #[mm] liquid Water \n",
    "    #from https://cds.cern.ch/record/1279627/files/PH-EP-Tech-Note-2010-013.pdf\n",
    "\n",
    "    if loadParts:\n",
    "        #outname = \"PBW_{:.0f}MeV_eX{:.0f}um,eY{:.0f}um_bX{:.0f}m,bY{:.0f}m_aX{:.0f},aY{:.0f}_N{:.0e}_mult16\".format(baseSimSetup[\"ENERGY\"],EPSX*1e3,EPSY*1e3,BETAX,BETAY,ALPHAX,ALPHAY,baseSimSetup[\"N\"])\n",
    "        outname = beamFile+\"_runW\"\n",
    "    else:\n",
    "        outname = \"PBW_{:.0f}MeV_eX{:.0f}um,eY{:.0f}um_bX{:.0f}m,bY{:.0f}m_aX{:.0f},aY{:.0f}_t{:.0f}mm_N{:.0e}\".format(baseSimSetup[\"ENERGY\"],EPSX*1e3,EPSY*1e3,BETAX,BETAY,ALPHAX,ALPHAY,thick,baseSimSetup[\"N\"])\n",
    "        #outname = \"PBW_{:.0f}MeV_eX{:.0f}_N{:.0e}_{:.0f}mmRcut\".format(baseSimSetup[\"ENERGY\"],EPSX*1e3,baseSimSetup[\"N\"],Rcut)\n",
    "        #outname = \"PBW_{:.0f}MeV_eX{:.0f}_N{:.0e}_{:.2f}mmAl1{:.2f}mmAl2\".format(baseSimSetup[\"ENERGY\"],EPSX*1e3,baseSimSetup[\"N\"],m1Len,m3Len)\n",
    "        #outname = \"PBW_{:.0f}MeV_ESS\".format(baseSimSetup[\"ENERGY\"])\n",
    "\n",
    "    if options['PBIP']:\n",
    "        outname = outname + \"_PBIP\"\n",
    "        #PBIP Magnet\n",
    "        m2 = {}\n",
    "        m2[\"pos\"] = 1874.0 #[mm]\n",
    "        m2[\"type\"] = \"COLLIMATORRECT\"\n",
    "        m2[\"length\"]   = 450.0 #[mm]\n",
    "        m2[\"gradient\"] = 0.0\n",
    "        m2[\"keyval\"] = {}\n",
    "        m2[\"keyval\"][\"material\"] = \"G4_Al\"\n",
    "        m2[\"keyval\"][\"holeWidth\"]   = 200.0 #[mm]\n",
    "        m2[\"keyval\"][\"holeHeight\"]   = 80.0 #[mm]\n",
    "        m2[\"keyval\"][\"absorberWidth\"]    = 950.0 #[mm]\n",
    "        m2[\"keyval\"][\"absorberHeight\"]   = 950.0 #[mm]\n",
    "        baseSimSetup[\"MAGNET\"].append(m2)\n",
    "\n",
    "if options['physList'] == \"QGSP_BERT_EMZ\":\n",
    "    outname = outname + \"_QBZ\"\n",
    "elif options['physList'] == \"FTFP_BERT_EMZ\":\n",
    "    outname = outname + \"_FBZ\"\n",
    "\n",
    "#Store the .root files in a subfolder from where this script is running,\n",
    "# normally MiniScatter/examples, in order to keep things together\n",
    "\n",
    "#Remove upper directories that may have come with beamFile for appending outname to scratch folder\n",
    "import re\n",
    "if re.search(\"/PBW_\",outname):\n",
    "    #print(\"\\n\",outname,\"\\n\")\n",
    "    outname = re.sub(\".+(?=(PBW_))\",\"\",outname)\n",
    "    #print(\"removed\",outname)\n",
    "\n",
    "#Find which folder root file is in\n",
    "if os.uname()[1] == \"mbarrios-XPS-13-9300\":\n",
    "    baseSimSetup[\"OUTFOLDER\"] = os.path.join(\"/home/efackelman/Documents/UiO/Forske/ESSProjects/PBWScattering/scatterPBWFiles/\")\n",
    "elif os.uname()[1] == \"tensor.uio.no\":\n",
    "    if Twiss[1] >= 1:\n",
    "        baseSimSetup[\"OUTFOLDER\"] = os.path.join(\"/scratch2/ericdf/PBWScatter/ESS/\")\n",
    "    elif Twiss[1] < 1:\n",
    "        baseSimSetup[\"OUTFOLDER\"] = os.path.join(\"/scratch2/ericdf/PBWScatter/pencil/\")\n",
    "    else:\n",
    "        baseSimSetup[\"OUTFOLDER\"] = os.path.join(\"/scratch2/ericdf/PBWScatter/\")\n",
    "else: print(\"Help! Unknown build directory!, simulation.py l 243\")\n",
    "\n",
    "#print(baseSimSetup[\"OUTFOLDER\"])\n",
    "#put in Scratch2 of tensor for faster processing, as per Kyrre\n",
    "\n",
    "#copy so it is if running multiple scans in a Jupyter notebook\n",
    "simSetup_simple1 = baseSimSetup.copy()\n",
    "\n",
    "#print(outname,\"\\n\")\n",
    "simSetup_simple1[\"OUTNAME\"] = outname #\"PBW_570MeV_pencil_N1e+05\"#\n",
    "\n",
    "####Redundant??? ----------\n",
    "#Variables for automation\n",
    "if os.uname()[1] == \"mbarrios-XPS-13-9300\":\n",
    "    savepath = \"/home/efackelman/Documents/UiO/Forske/ESSProjects/PBWScattering/scatterPBWFiles/\"\n",
    "elif os.uname()[1] == \"tensor.uio.no\":\n",
    "    #savepath = \"/scratch2/ericdf/PBWScatter/\"\n",
    "    savepath = \"/uio/hume/student-u52/ericdf/Documents/UiO/Forske/ESSProjects/PBWScattering/Pictures/\" #Eric's files location\n",
    "savename=savepath+outname #base savename for plots downstream, brings directly to my directory\n",
    "savedfile=os.path.join(simSetup_simple1[\"OUTFOLDER\"],simSetup_simple1[\"OUTNAME\"])+\".root\"\n",
    "\n",
    "#print(simSetup_simple1)"
   ]
  },
  {
   "cell_type": "code",
   "execution_count": 7,
   "id": "3e77fc91-c945-44a0-8a2f-e4db7681c9c3",
   "metadata": {},
   "outputs": [
    {
     "name": "stdout",
     "output_type": "stream",
     "text": [
      "Found a file at '/scratch2/ericdf/PBWScatter/ESS/PBW_570MeV_beta1007,130m_RMamp0,0mm_N1.4e+07_NpB500_NPls1e+03_runW_QBZ.root', loading!\n"
     ]
    }
   ],
   "source": [
    "(twiss_PBW, numPart_PBW, objects_PBW) = \\\n",
    "    miniScatterDriver.getData_tryLoad(simSetup_simple1, tryload=TRYLOAD,getObjects=[\"tracker_cutoff_xy_PDG2212\"])"
   ]
  },
  {
   "cell_type": "code",
   "execution_count": 8,
   "id": "feaf85ba-117b-4779-a0da-5082a81a2501",
   "metadata": {},
   "outputs": [],
   "source": [
    "#cc1 = ROOT.TCanvas()\n",
    "targ=objects_PBW[\"tracker_cutoff_xy_PDG2212\"]\n",
    "#targ.Draw()\n",
    "#cc1.Draw()"
   ]
  },
  {
   "cell_type": "code",
   "execution_count": 9,
   "id": "fed0c4dc-2782-4105-ba17-5379758c4664",
   "metadata": {},
   "outputs": [
    {
     "name": "stdout",
     "output_type": "stream",
     "text": [
      "Y Axis\n"
     ]
    }
   ],
   "source": [
    "print(\"Y Axis\")"
   ]
  },
  {
   "cell_type": "code",
   "execution_count": 30,
   "id": "d0833508-d228-442b-81ad-96e33e4fdbe4",
   "metadata": {},
   "outputs": [
    {
     "data": {
      "image/png": "[encoded data removed]",
      "text/plain": [
       "<IPython.core.display.Image object>"
      ]
     },
     "metadata": {},
     "output_type": "display_data"
    }
   ],
   "source": [
    "#targY = targ.Clone()\n",
    "projY = targ.ProjectionY(\"y\",targ.GetYaxis().FindBin(-2),targ.GetYaxis().FindBin(2))\n",
    "cc1 = ROOT.TCanvas()\n",
    "projY.Draw()\n",
    "projY.GetXaxis().SetRangeUser(-600,600)\n",
    "cc1.Draw()\n",
    "cc1.SetLogy()"
   ]
  },
  {
   "cell_type": "code",
   "execution_count": 31,
   "id": "be0964d9-f81c-445a-b198-18b1cab8be72",
   "metadata": {},
   "outputs": [
    {
     "name": "stdout",
     "output_type": "stream",
     "text": [
      "\n",
      "****************************************\n",
      "Minimizer is Minuit / Migrad\n",
      "Chi2                      =      10518.5\n",
      "NDf                       =          329\n",
      "Edm                       =  8.04412e-09\n",
      "NCalls                    =           67\n",
      "Constant                  =       158477   +/-   137.493     \n",
      "Mean                      =  -0.00507183   +/-   0.0073688   \n",
      "Sigma                     =       10.785   +/-   0.00576596   \t (limited)\n",
      "\n",
      " FCN=10518.5 FROM MIGRAD    STATUS=CONVERGED      66 CALLS          67 TOTAL\n",
      "                     EDM=8.04412e-09    STRATEGY= 1      ERROR MATRIX ACCURATE \n",
      "  EXT PARAMETER                                   STEP         FIRST   \n",
      "  NO.   NAME      VALUE            ERROR          SIZE      DERIVATIVE \n",
      "   1  Constant     1.58477e+05   1.37493e+02   5.42180e+00  -2.11979e-07\n",
      "   2  Mean        -5.07183e-03   7.36880e-03   3.68964e-04  -1.66008e-02\n",
      "   3  Sigma        1.07850e+01   5.76596e-03   6.69429e-06  -2.49791e-01\n"
     ]
    }
   ],
   "source": [
    "xmax=500\n",
    "f1 = ROOT.TF1('f1','gaus',-xmax,xmax)\n",
    "f1_res = projY.Fit(f1, 'RS')\n",
    "print(f1_res)\n",
    "p0 = f1.GetParameter(0)\n",
    "p1 = f1.GetParameter(1)\n",
    "p2 = f1.GetParameter(2)"
   ]
  },
  {
   "cell_type": "code",
   "execution_count": 32,
   "id": "1d862f85-744d-4a29-ac70-c833564eb84d",
   "metadata": {},
   "outputs": [
    {
     "data": {
      "image/png": "[encoded data removed]",
      "text/plain": [
       "<IPython.core.display.Image object>"
      ]
     },
     "metadata": {},
     "output_type": "display_data"
    }
   ],
   "source": [
    "c1 = ROOT.TCanvas()\n",
    "projY.Draw()\n",
    "f1_res.Draw('same')\n",
    "c1.SetLogy()\n",
    "c1.Draw()"
   ]
  },
  {
   "cell_type": "code",
   "execution_count": 36,
   "id": "ff5061ce-45ee-4c9b-9fa6-621753b707dc",
   "metadata": {},
   "outputs": [
    {
     "name": "stdout",
     "output_type": "stream",
     "text": [
      "<class 'float'>\n",
      "<cppyy.LowLevelView object at 0x7f68641508f0> 142629.31629324268 21.56997709023961 10.784988545119806\n"
     ]
    }
   ],
   "source": [
    "r=0.1\n",
    "#f2 = ROOT.TF1('f2','[0] * exp(-x*x/(2*[1]*[1])) + [2] * exp(-x*x/(2*[3]*[3])) + [4] * exp(-x*x/(2*[5]*[5])) + [6] * exp(-x*x/(2*[7]*[7]))',-xmax,xmax)\n",
    "f2 = ROOT.TF1('f2','[0] * exp(-x*x/(2*[1]*[1])) + [2] * exp(-x*x/(2*[3]*[3])) + [4] * exp(-x*x/(2*[5]*[5]))',-xmax,xmax)\n",
    "#f2 = ROOT.TF1('f2','[0] * exp(-x*x/(2*[1]*[1])) + [2] * exp(-x*x/(2*[3]*[3]))',-xmax,xmax)\n",
    "#f2 = ROOT.TF1('f2','[0] * exp(-x*x/(2*[1]*[1]))',-xmax,xmax)\n",
    "\n",
    "\n",
    "print(type(r))\n",
    "f2.SetParameters(p0*(1-r),p2*2,p0*r,20,p0*(1-r*r),p2*5)#,p0*(1-r*r*r),p2*10)\n",
    "\n",
    "print(f1.GetParameters(),f2.GetParameter(0), f2.GetParameter(1),p2)"
   ]
  },
  {
   "cell_type": "code",
   "execution_count": 14,
   "id": "9df1f187-083b-4fe9-8ba9-30d116212f38",
   "metadata": {},
   "outputs": [],
   "source": [
    "#c1 = ROOT.TCanvas()\n",
    "#projY.Draw()\n",
    "#f2.SetLineColor(ROOT.kGreen)\n",
    "#f2.Draw('same')\n",
    "#c1.SetLogy()\n",
    "#projY.GetXaxis().SetRangeUser(-400,400)\n",
    "#c1.Draw()"
   ]
  },
  {
   "cell_type": "code",
   "execution_count": 37,
   "id": "ae47ce96-158f-41bf-a8e5-c975c6e5ebaf",
   "metadata": {},
   "outputs": [
    {
     "name": "stdout",
     "output_type": "stream",
     "text": [
      " FCN=531.93 FROM MIGRAD    STATUS=CONVERGED    1316 CALLS        1317 TOTAL\n",
      "                     EDM=1.99929e-07    STRATEGY= 1  ERROR MATRIX UNCERTAINTY   2.6 per cent\n",
      "  EXT PARAMETER                                   STEP         FIRST   \n",
      "  NO.   NAME      VALUE            ERROR          SIZE      DERIVATIVE \n",
      "   1  p0           1.55404e+05   4.42711e+02  -1.39062e-06  -8.40072e-01\n",
      "   2  p1           1.02897e+01   1.80074e-02   1.15835e-05   1.89526e-02\n",
      "   3  p2           6.23572e+03   4.61891e+02  -2.31255e-01   6.03248e-06\n",
      "   4  p3           1.81595e+01   3.14840e-01   1.55693e-05   1.71897e-02\n",
      "   5  p4           1.01439e+02   1.48649e+01   6.33515e-04   1.77060e-04\n",
      "   6  p5           4.77589e+01   1.88539e+00  -4.11229e-06   8.96679e-02\n"
     ]
    }
   ],
   "source": [
    "f2.SetParLimits(0,p0*0.5,p0*5)\n",
    "#f2.SetParLimits(2,0,p0*0.5)\n",
    "y1=3\n",
    "y2=30\n",
    "f2.SetParLimits(3,p2*1.01,p2*y1)\n",
    "f2.SetParLimits(5,p2*(y1+.01),p2*y2)\n",
    "#f2.SetParLimits(7,p2*(y2+.01),p2*y2*10)\n",
    "f2_res = projY.Fit(f2, 'RS')\n",
    "#print(f1_res)\n",
    "#print(f2_res)"
   ]
  },
  {
   "cell_type": "code",
   "execution_count": 46,
   "id": "48fcc580-b90e-44d4-9377-26b3edf0eace",
   "metadata": {},
   "outputs": [
    {
     "name": "stdout",
     "output_type": "stream",
     "text": [
      "\n",
      "****************************************\n",
      "Minimizer is Minuit / Migrad\n",
      "Chi2                      =       531.93\n",
      "NDf                       =          326\n",
      "Edm                       =  1.99929e-07\n",
      "NCalls                    =         1317\n",
      "p0                        =       155404   +/-   442.711      \t (limited)\n",
      "p1                        =      10.2897   +/-   0.0180074   \n",
      "p2                        =      6235.72   +/-   461.891     \n",
      "p3                        =      18.1595   +/-   0.31484      \t (limited)\n",
      "p4                        =      101.439   +/-   14.8649     \n",
      "p5                        =      47.7589   +/-   1.88539      \t (limited)\n",
      "\n"
     ]
    },
    {
     "data": {
      "image/png": "[encoded data removed]",
      "text/plain": [
       "<IPython.core.display.Image object>"
      ]
     },
     "metadata": {},
     "output_type": "display_data"
    }
   ],
   "source": [
    "cy1 = ROOT.TCanvas()\n",
    "projY.Draw()\n",
    "f2.SetLineColor(ROOT.kBlack)\n",
    "f2.Draw('same')\n",
    "f1.SetLineColor(ROOT.kRed)\n",
    "f1.Draw('same')\n",
    "projY.GetXaxis().SetRangeUser(-50,50)\n",
    "cy1.SetLogy()\n",
    "cy1.Draw()\n",
    "#print(f1_res)\n",
    "print(f2_res)"
   ]
  },
  {
   "cell_type": "code",
   "execution_count": 44,
   "id": "53634c47-51ba-4851-b82f-ac8b52c3dae2",
   "metadata": {},
   "outputs": [
    {
     "name": "stdout",
     "output_type": "stream",
     "text": [
      "1077036.0 4304235.83071231 4284260.929155616\n",
      "19974.90155669395\n",
      "3227199.83071231\n"
     ]
    }
   ],
   "source": [
    "print(projY.Integral(-xmax,xmax),f2.Integral(-xmax,xmax),f1.Integral(-xmax,xmax))\n",
    "print(   f2.Integral(-xmax,xmax)-f1.Integral(-xmax,xmax))\n",
    "print(   f2.Integral(-xmax,xmax)-projY.Integral(-xmax,xmax))"
   ]
  },
  {
   "cell_type": "code",
   "execution_count": 18,
   "id": "6c906f62-8244-4712-9e0e-f78626b6edc8",
   "metadata": {},
   "outputs": [],
   "source": [
    "#cc2 = ROOT.TCanvas()\n",
    "#targ.Draw()\n",
    "#cc2.Draw()"
   ]
  },
  {
   "cell_type": "markdown",
   "id": "80d7b1ad-b0dd-4d8c-ac2e-c3dabe707cbc",
   "metadata": {},
   "source": [
    "X Axis"
   ]
  },
  {
   "cell_type": "code",
   "execution_count": 19,
   "id": "87a83fdf-9b1d-4c6d-a80e-9fd420e8e117",
   "metadata": {},
   "outputs": [
    {
     "data": {
      "image/png": "[encoded data removed]",
      "text/plain": [
       "<IPython.core.display.Image object>"
      ]
     },
     "metadata": {},
     "output_type": "display_data"
    }
   ],
   "source": [
    "cc2 = ROOT.TCanvas()\n",
    "#targX=targ.Clone()\n",
    "projX = targ.ProjectionX(\"x\",targ.GetYaxis().FindBin(-2),targ.GetYaxis().FindBin(2))\n",
    "projX.Draw()\n",
    "cc2.Draw()\n",
    "cc2.SetLogy()"
   ]
  },
  {
   "cell_type": "code",
   "execution_count": 20,
   "id": "a014328a-af83-4c24-a001-47bb90d8b98c",
   "metadata": {},
   "outputs": [
    {
     "name": "stdout",
     "output_type": "stream",
     "text": [
      "\n",
      "****************************************\n",
      "Minimizer is Minuit / Migrad\n",
      "Chi2                      =      3561.42\n",
      "NDf                       =          330\n",
      "Edm                       =   2.1294e-07\n",
      "NCalls                    =           64\n",
      "Constant                  =       159056   +/-   112.418     \n",
      "Mean                      =   0.00670935   +/-   0.00883772  \n",
      "Sigma                     =        15.57   +/-   0.0065569    \t (limited)\n",
      "\n",
      " FCN=3561.42 FROM MIGRAD    STATUS=CONVERGED      63 CALLS          64 TOTAL\n",
      "                     EDM=2.1294e-07    STRATEGY= 1      ERROR MATRIX ACCURATE \n",
      "  EXT PARAMETER                                   STEP         FIRST   \n",
      "  NO.   NAME      VALUE            ERROR          SIZE      DERIVATIVE \n",
      "   1  Constant     1.59056e+05   1.12418e+02   2.63082e+00   5.79810e-06\n",
      "   2  Mean         6.70935e-03   8.83772e-03   2.57561e-04  -2.28650e-02\n",
      "   3  Sigma        1.55700e+01   6.55690e-03   3.23865e-06   4.00902e-01\n"
     ]
    }
   ],
   "source": [
    "xmax=500\n",
    "fx1 = ROOT.TF1('fx1','gaus',-xmax,xmax)\n",
    "fx1_res = projX.Fit(fx1, 'RS')\n",
    "print(fx1_res)\n",
    "px0 = fx1.GetParameter(0)\n",
    "px1 = fx1.GetParameter(1)\n",
    "px2 = fx1.GetParameter(2)"
   ]
  },
  {
   "cell_type": "code",
   "execution_count": 21,
   "id": "439802c3-6697-471b-bb72-b1e8f232c866",
   "metadata": {},
   "outputs": [
    {
     "name": "stdout",
     "output_type": "stream",
     "text": [
      "<class 'float'>\n",
      "159056.04407954967 143150.4396715947 15.570046717592556 159056.04407954967 0.0067093457619991186 15.570046717592556\n"
     ]
    }
   ],
   "source": [
    "r=0.1\n",
    "xmax=500\n",
    "#f2 = ROOT.TF1('f2','[0] * exp(-x*x/(2*[1]*[1])) + [2] * exp(-x*x/(2*[3]*[3])) + [4] * exp(-x*x/(2*[5]*[5]))',-xmax,xmax) # + [6] * exp(-x*x/(2*[7]*[7]))\n",
    "fx2 = ROOT.TF1('fx2','[0] * exp(-x*x/(2*[1]*[1])) + [2] * exp(-x*x/(2*[3]*[3]))',-xmax,xmax) # + [4] * exp(-x*x/(2*[5]*[5])) + [6] * exp(-x*x/(2*[7]*[7]))\n",
    "\n",
    "print(type(r))\n",
    "fx2.SetParameters(px0*(1-r),px2,px0*r,20,px0*(1-r*r),px2)#,px0*(1-r*r*r),px2*10)\n",
    "\n",
    "print(fx1.GetParameter(0),fx2.GetParameter(0), fx2.GetParameter(1),px0,px1,px2)"
   ]
  },
  {
   "cell_type": "code",
   "execution_count": 22,
   "id": "d7ca48f3-cfe6-400a-ae1b-c776ce53236f",
   "metadata": {},
   "outputs": [
    {
     "name": "stdout",
     "output_type": "stream",
     "text": [
      " FCN=785.84 FROM MIGRAD    STATUS=CONVERGED     300 CALLS         301 TOTAL\n",
      "                     EDM=7.34712e-08    STRATEGY= 1      ERROR MATRIX ACCURATE \n",
      "  EXT PARAMETER                                   STEP         FIRST   \n",
      "  NO.   NAME      VALUE            ERROR          SIZE      DERIVATIVE \n",
      "   1  p0           1.59084e+05   1.23016e+02   1.11195e-05   3.04093e-01\n",
      "   2  p1           1.53920e+01   1.12125e-02   2.46848e-06  -5.00973e-01\n",
      "   3  p2           9.52949e+02   8.63717e+01   2.42015e-05  -4.06710e-02\n",
      "   4  p3           3.15834e+01   5.90897e-01   1.06212e-04  -9.45323e-03\n"
     ]
    }
   ],
   "source": [
    "fx2.SetParLimits(0,px0*0.5,px0*2)\n",
    "fx2.SetParLimits(2,0.1,px0*0.5)\n",
    "x1=3\n",
    "x2=20\n",
    "fx2.SetParLimits(1,px2*0.1,px2*5)\n",
    "fx2.SetParLimits(3,px2*1.01,px2*x1)\n",
    "fx2.SetParLimits(4,0.1,px0)\n",
    "fx2.SetParLimits(5,px2*(x1+0.1),px2*x2)\n",
    "#f2.SetParLimits(6,0.1,p0)\n",
    "#f2.SetParLimits(7,p2*(x2+0.1),p2*x2*20)\n",
    "fx2_res = projX.Fit(fx2, 'RS')\n",
    "#print(f1_res)\n",
    "#print(f2_res)"
   ]
  },
  {
   "cell_type": "code",
   "execution_count": 23,
   "id": "fb867f2a-6d41-4703-96db-f0c3c67de678",
   "metadata": {},
   "outputs": [
    {
     "name": "stdout",
     "output_type": "stream",
     "text": [
      "\n",
      "****************************************\n",
      "Minimizer is Minuit / Migrad\n",
      "Chi2                      =      3561.42\n",
      "NDf                       =          330\n",
      "Edm                       =   2.1294e-07\n",
      "NCalls                    =           64\n",
      "Constant                  =       159056   +/-   112.418     \n",
      "Mean                      =   0.00670935   +/-   0.00883772  \n",
      "Sigma                     =        15.57   +/-   0.0065569    \t (limited)\n",
      "\n",
      "\n",
      "****************************************\n",
      "Minimizer is Minuit / Migrad\n",
      "Chi2                      =       785.84\n",
      "NDf                       =          329\n",
      "Edm                       =  7.34712e-08\n",
      "NCalls                    =          301\n",
      "p0                        =       159084   +/-   123.016      \t (limited)\n",
      "p1                        =       15.392   +/-   0.0112125    \t (limited)\n",
      "p2                        =      952.949   +/-   86.3717      \t (limited)\n",
      "p3                        =      31.5834   +/-   0.590897     \t (limited)\n",
      "\n"
     ]
    },
    {
     "data": {
      "image/png": "[encoded data removed]",
      "text/plain": [
       "<IPython.core.display.Image object>"
      ]
     },
     "metadata": {},
     "output_type": "display_data"
    }
   ],
   "source": [
    "cx2 = ROOT.TCanvas()\n",
    "projX.Draw()\n",
    "fx2.SetLineColor(ROOT.kBlack)\n",
    "fx2.Draw('same')\n",
    "fx1.Draw('same')\n",
    "projX.GetXaxis().SetRangeUser(-150,150)\n",
    "cx2.SetLogy()\n",
    "cx2.Draw()\n",
    "print(fx1_res)\n",
    "print(fx2_res)"
   ]
  },
  {
   "cell_type": "code",
   "execution_count": 24,
   "id": "073b93f0-4790-4812-94eb-352b218a2248",
   "metadata": {},
   "outputs": [
    {
     "name": "stdout",
     "output_type": "stream",
     "text": [
      "1553661.0 6213241.108775375\n",
      "-4659580.108775375\n"
     ]
    }
   ],
   "source": [
    "print(projX.Integral(-xmax,xmax),fx2.Integral(-xmax,xmax))\n",
    "print(projX.Integral(-xmax,xmax)-fx2.Integral(-xmax,xmax))"
   ]
  },
  {
   "cell_type": "code",
   "execution_count": null,
   "id": "833f6dcc-33e8-40a0-bfa4-9c76d450356a",
   "metadata": {},
   "outputs": [],
   "source": []
  },
  {
   "cell_type": "code",
   "execution_count": null,
   "id": "00be0cd4-87a2-45b1-b863-ba7c6c5fe3aa",
   "metadata": {},
   "outputs": [],
   "source": []
  },
  {
   "cell_type": "code",
   "execution_count": null,
   "id": "5b7c7365-5a1c-4d5a-bff0-9c9976526f14",
   "metadata": {},
   "outputs": [],
   "source": []
  },
  {
   "cell_type": "code",
   "execution_count": 25,
   "id": "c218368d-f31a-4df4-88e0-7fece0071408",
   "metadata": {},
   "outputs": [
    {
     "data": {
      "text/plain": [
       "6.399320511424216e-05"
      ]
     },
     "execution_count": 25,
     "metadata": {},
     "output_type": "execute_result"
    }
   ],
   "source": [
    "1/(f2.GetParameter(2)*ROOT.sqrt(6.28))"
   ]
  },
  {
   "cell_type": "code",
   "execution_count": 26,
   "id": "c73e022a-aa8f-4d62-a93a-346a1b7d41e8",
   "metadata": {},
   "outputs": [],
   "source": [
    "Gdata = projY.GetIntegral()\n",
    "#c1 = ROOT.TCanvas()\n",
    "\n",
    "#c1.Draw()"
   ]
  },
  {
   "cell_type": "code",
   "execution_count": 27,
   "id": "7d885fab-32a0-4c37-b0f6-f88b9bb03eb8",
   "metadata": {},
   "outputs": [
    {
     "name": "stdout",
     "output_type": "stream",
     "text": [
      "\n",
      "****************************************\n",
      "Minimizer is Minuit / Migrad\n",
      "Chi2                      =      10518.5\n",
      "NDf                       =          329\n",
      "Edm                       =  8.04412e-09\n",
      "NCalls                    =           67\n",
      "Constant                  =       158477   +/-   137.493     \n",
      "Mean                      =  -0.00507183   +/-   0.0073688   \n",
      "Sigma                     =       10.785   +/-   0.00576596   \t (limited)\n",
      "\n",
      "\n",
      "****************************************\n",
      "Minimizer is Minuit / Migrad\n",
      "Chi2                      =      383.906\n",
      "NDf                       =          327\n",
      "Edm                       =  5.84408e-07\n",
      "NCalls                    =         1188\n",
      "p0                        =       158784   +/-   144.676      \t (limited)\n",
      "p1                        =      15.3561   +/-   0.0125732   \n",
      "p2                        =      1384.61   +/-   129.08      \n",
      "p3                        =       29.016   +/-   0.5172       \t (limited)\n",
      "p4                        =      3.10569   +/-   0.341924    \n",
      "p5                        =      233.126   +/-   24.3896      \t (limited)\n",
      "\n",
      " FCN=383.906 FROM MIGRAD    STATUS=CONVERGED    1187 CALLS        1188 TOTAL\n",
      "                     EDM=5.84408e-07    STRATEGY= 1      ERROR MATRIX ACCURATE \n",
      "  EXT PARAMETER                                   STEP         FIRST   \n",
      "  NO.   NAME      VALUE            ERROR          SIZE      DERIVATIVE \n",
      "   1  p0           1.58784e+05   1.44676e+02   3.90541e-06  -3.61364e-01\n",
      "   2  p1           1.53561e+01   1.25732e-02   5.09793e-05  -6.53225e-02\n",
      "   3  p2           1.38461e+03   1.29080e+02   2.02994e-01  -3.42100e-05\n",
      "   4  p3           2.90160e+01   5.17200e-01   1.26990e-04  -4.94588e-02\n",
      "   5  p4           3.10569e+00   3.41924e-01   1.43675e-03  -4.12282e-03\n",
      "   6  p5           2.33126e+02   2.43896e+01   7.85590e-04   8.88927e-03\n"
     ]
    },
    {
     "data": {
      "image/png": "[encoded data removed]",
      "text/plain": [
       "<IPython.core.display.Image object>"
      ]
     },
     "metadata": {},
     "output_type": "display_data"
    }
   ],
   "source": [
    "projX = targ.ProjectionX(\"x\",targ.GetYaxis().FindBin(-2),targ.GetYaxis().FindBin(2))\n",
    "f3 = ROOT.TF1(\"f3\",\"1/ pow(x,[0])\",-xmax,xmax)\n",
    "f3_res = projX.Fit(f2, 'RS')\n",
    "c1 = ROOT.TCanvas()\n",
    "projX.Draw()\n",
    "f1.SetLineColor(ROOT.kBlack)\n",
    "f3.Draw('same')\n",
    "f1.Draw('same')\n",
    "projX.GetXaxis().SetRangeUser(-600,600)\n",
    "c1.SetLogy()\n",
    "c1.Draw()\n",
    "print(f1_res)\n",
    "print(f3_res)"
   ]
  },
  {
   "cell_type": "code",
   "execution_count": null,
   "id": "0aaed28f-01fe-4d9e-9b6c-c7839d9f45a9",
   "metadata": {},
   "outputs": [],
   "source": []
  },
  {
   "cell_type": "code",
   "execution_count": null,
   "id": "eee45f8e-e448-4cd1-9d79-d0441309d48d",
   "metadata": {},
   "outputs": [],
   "source": []
  }
 ],
 "metadata": {
  "kernelspec": {
   "display_name": "Python 3",
   "language": "python",
   "name": "python3"
  },
  "language_info": {
   "codemirror_mode": {
    "name": "ipython",
    "version": 3
   },
   "file_extension": ".py",
   "mimetype": "text/x-python",
   "name": "python",
   "nbconvert_exporter": "python",
   "pygments_lexer": "ipython3",
   "version": "3.6.8"
  }
 },
 "nbformat": 4,
 "nbformat_minor": 5
}
