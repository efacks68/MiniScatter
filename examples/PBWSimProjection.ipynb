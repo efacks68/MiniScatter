{
 "cells": [
  {
   "cell_type": "code",
   "execution_count": 1,
   "id": "175daf8b-f599-42f9-acf4-71e405fac3c8",
   "metadata": {},
   "outputs": [
    {
     "name": "stdout",
     "output_type": "stream",
     "text": [
      "Welcome to JupyROOT 6.24/06\n"
     ]
    }
   ],
   "source": [
    "import numpy as np\n",
    "import sys, os, ROOT"
   ]
  },
  {
   "cell_type": "code",
   "execution_count": 2,
   "id": "683a8c0b-92d0-4101-82f1-36df5cd151b8",
   "metadata": {},
   "outputs": [],
   "source": [
    "loadParts=True\n",
    "ifplot=False\n",
    "engplot=False\n",
    "import matplotlib.pyplot as plt"
   ]
  },
  {
   "cell_type": "code",
   "execution_count": 3,
   "id": "e60283bb-5c1d-421c-be2f-c170b291547f",
   "metadata": {
    "tags": []
   },
   "outputs": [],
   "source": [
    "def numLines(beamFile):\n",
    "    import csv\n",
    "    with open(beamFile+\".csv\") as csv_file:\n",
    "        csv_reader = csv.reader(csv_file, delimiter=',')\n",
    "        N = 0\n",
    "        for row in csv_reader:\n",
    "            N += 1\n",
    "        csv_file.close()\n",
    "    from datetime import datetime\n",
    "    dt = datetime.now()\n",
    "    print(\"There are \",N,\"lines\"+dt.strftime(\"%H-%M-%S\"))\n",
    "    return N"
   ]
  },
  {
   "cell_type": "code",
   "execution_count": 4,
   "id": "32201590-5508-4bb7-8eb0-9df3b0e6aeb8",
   "metadata": {},
   "outputs": [],
   "source": [
    "def converter(hIn):\n",
    "    xax = np.zeros(hIn.GetXaxis().GetNbins()+1)\n",
    "    for i in range(len(xax)-1):\n",
    "        xax[i] = hIn.GetXaxis().GetBinLowEdge(i+1)\n",
    "    xax[-1] = hIn.GetXaxis().GetBinUpEdge(hIn.GetXaxis().GetNbins())\n",
    "    \n",
    "    yax = np.zeros(hIn.GetYaxis().GetNbins()+1)\n",
    "    for i in range(len(yax)-1):\n",
    "        yax[i] = hIn.GetYaxis().GetBinLowEdge(i+1)\n",
    "    yax[-1] = hIn.GetYaxis().GetBinUpEdge(hIn.GetYaxis().GetNbins())\n",
    "    \n",
    "    #print(xax)\n",
    "    #print(yax)\n",
    "    \n",
    "    hOut = np.zeros( (len(yax),len(xax)) )\n",
    "    #print (hOut)\n",
    "\n",
    "    for xi in range(hIn.GetXaxis().GetNbins()):\n",
    "        for yi in range(hIn.GetYaxis().GetNbins()):\n",
    "            bx = hIn.GetBin(xi+1,yi+1)\n",
    "            hOut[yi,xi] = hIn.GetBinContent(bx)\n",
    "    \n",
    "    #print(hOut)\n",
    "    plt.imshow(hOut,origin='lower')\n",
    "    \n",
    "    return (hOut,xax,yax)"
   ]
  },
  {
   "cell_type": "code",
   "execution_count": 5,
   "id": "bd95f343-1f42-4cf0-abd9-ced11a7506a0",
   "metadata": {},
   "outputs": [],
   "source": [
    "\n",
    "Twiss = [0.11315,1006.80,-60.44,0.12155,129.72,-7.72]\n",
    "thick = 0\n",
    "energy=570\n",
    "Engcut = 95.0\n",
    "material=[\"G4_Al\"]\n",
    "beam=\"proton\"\n",
    "beamAngle=0\n",
    "N=1e5\n",
    "zoff = \"*-50\"\n",
    "file =  \"PBW_570MeV_beta1007,130m_RMamp0,0mm_N1.4e+07_NpB500_NPls1e+03\"\n",
    "PBIP = False #slows down, only use when needed\n",
    "picPWD = \"/uio/hume/student-u52/ericdf/Documents/UiO/Forske/ESSProjects/PBWScattering/Pictures/\"\n",
    "csvPWD = \"/scratch2/ericdf/PBWScatter/CSVs/\" #put all CSVs in Scratch to save my disk space!\n",
    "beamFile = csvPWD + file\n",
    "if not os.path.isfile(beamFile+\".csv\"):\n",
    "    raise Exception(\"CSV not found!\")\n",
    "physList =\"QGSP_BERT_EMZ\" # \"QGSP_BERT_EMZ\" or \"FTFP_BERT_EMZ\"\n",
    "options  = {'noText':False, 'noBox':False, 'wide':True, 'physList':physList, 'dependence':\"Twiss\",\n",
    "                            'xlim':450, 'ylim':500, 'maxim':0, 'saveHist':False,\n",
    "                            'PBIP':False, 'beamClass':\"ESS\", 'Nb':10, 'failure':0,\n",
    "                            'magFails':2, 'saveRaster':False }\n",
    "envXAngle = 0\n",
    "envYAngle = 0\n",
    "beamXAngle = envXAngle\n",
    "beamYAngle = envYAngle"
   ]
  },
  {
   "cell_type": "code",
   "execution_count": 6,
   "id": "37a864a7-4712-4896-a4d6-4de41047d170",
   "metadata": {},
   "outputs": [
    {
     "name": "stdout",
     "output_type": "stream",
     "text": [
      "There are  14385000 lines16-19-10\n"
     ]
    }
   ],
   "source": [
    "#constants for below use\n",
    "QUIET     = False #Reduced output, doesn't show events\n",
    "saveParts = False\n",
    "\n",
    "#particle characteristic values\n",
    "if beam == \"proton\":\n",
    "    partA = 938.27209 #[MeV/c2]\n",
    "    partZ = 1\n",
    "elif beam == \"electron\":\n",
    "    partA = 0.511 #[MeV/c2]\n",
    "    partZ = 1\n",
    "c = 2.99792e8 #[m/s]\n",
    "MeV = 1e6*1.602e-19 \n",
    "um = 1e-6 #[m] #need to convert to real units as the equations use real units.\n",
    "m = 1 #[m]\n",
    "mm = 1e-3 #[m]\n",
    "ummrad = um*1e-3\n",
    "gamma_rel = 1 + energy/partA #from PrintTwissParameters\n",
    "beta_rel = np.sqrt(gamma_rel*gamma_rel -1 )/gamma_rel\n",
    "\n",
    "#Setup MiniScatter -- modify the path to where you built MiniScatter!\n",
    "MiniScatter_path=\"../../MiniScatter/build/.\"\n",
    "sys.path.append(MiniScatter_path) #uncomment this if this is your first time running this.\n",
    "#print(os.getcwd())\n",
    "if os.uname()[1] == \"tensor.uio.no\":\n",
    "    if os.getcwd() != \"/uio/hume/student-u52/ericdf/Documents/UiO/Forske/ESSProjects/PBWScattering/MiniScatter/build/\":\n",
    "        os.chdir(\"/uio/hume/student-u52/ericdf/Documents/UiO/Forske/ESSProjects/PBWScattering/MiniScatter/build/\")\n",
    "elif os.uname()[1] == \"mbarrios-XPS-13-9300\":\n",
    "    if os.getcwd() != \"/home/efackelman/Documents/UiO/Forske/ESSProjects/PBWScattering/MiniScatter/build/\":\n",
    "        os.chdir(\"/home/efackelman/Documents/UiO/Forske/ESSProjects/PBWScattering/MiniScatter/build/\")\n",
    "else: print(\"Help! Unknown build directory!, simulation.py l 50\")\n",
    "#print(os.getcwd())\n",
    "\n",
    "import miniScatterDriver\n",
    "#import miniScatterScanner\n",
    "#import miniScatterPlots\n",
    "\n",
    "### Basic simulation parameters ###\n",
    "TRYLOAD = True  #Try to load already existing data instead of recomputing, only if using getData_TryLoad function.\n",
    "NUM_THREADS = 8 #Number of parallel threads to use for scans\n",
    "#Where to store temporary data for scans (a fast file system, NOT EOS/AFS)\n",
    "TMPFOLDER = \"/tmp/miniScatter/SimpleDemo_thicknessScan\"\n",
    "\n",
    "#When making multiple scans, it's nice to first create a `baseSimSetup` and then modify it for each simulation\n",
    "# Note: each argument here corresponds roughly to a command line argument.\n",
    "# Look inside miniScatterDriver.runScatter() to see how.\n",
    "\n",
    "baseSimSetup = {}\n",
    "#baseSimSetup[\"PHYS\"] = \"QGSP_BERT__SS\" #Use the __SS physics lists for thin foils due to checking each atom cross section\n",
    "baseSimSetup[\"PHYS\"]  = options['physList'] #better for scattering through 1mm sheets\n",
    "\n",
    "#Particle Beam definitions\n",
    "#baseSimSetup[\"BEAM_RCUT\"] = 3.0\n",
    "#Where to start the beam [mm]\n",
    "#baseSimSetup[\"ZOFFSET_BACKTRACK\"] = True\n",
    "baseSimSetup[\"N\"]         = N #need N regardless of beam origin\n",
    "baseSimSetup[\"ZOFFSET\"]   = zoff\n",
    "\n",
    "#Use a distribution defined by Twiss parameters for ESS beam ~where PBW is\n",
    "# 3 variables = symmetric, 6 variables = asymetric\n",
    "EPSX   = Twiss[0] #[um]\n",
    "BETAX  = Twiss[1] #[m]\n",
    "ALPHAX = Twiss[2] #[mm-mrad]\n",
    "EPSY   = Twiss[3] #[um]\n",
    "BETAY  = Twiss[4] #[m]\n",
    "ALPHAY = Twiss[5] #[mm-mrad]\n",
    "\n",
    "#For loading particles\n",
    "if loadParts == True:\n",
    "    #picPWD = \"/uio/hume/student-u52/ericdf/Documents/UiO/Forske/ESSProjects/PBWScattering/Pictures/\"\n",
    "    #beamFile = \"PBW_570MeV_eX113um,eY122um_bX941m,bY120m_aX-59mm,aY-7mm_N1.4e+05_2.9e+02us_cyrille\"\n",
    "    #from plotFit import numLines\n",
    "    parts = numLines(beamFile)\n",
    "    baseSimSetup[\"N\"]        = parts #change to match file particles. Used for file name\n",
    "    baseSimSetup[\"BEAMFILE\"] = beamFile+\".csv\" # number of particles >= N\n",
    "    baseSimSetup[\"ENERGY\"]   = energy #570 #[MeV] #ESS beam energy update 15.8\n",
    "else:\n",
    "    baseSimSetup[\"BEAM\"]    = beam\n",
    "    baseSimSetup[\"ENERGY\"] = energy #570 #[MeV] #ESS beam energy update 15.8\n",
    "    baseSimSetup[\"COVAR\"] = (EPSX,BETAX,ALPHAX,EPSY,BETAY,ALPHAY) #only for without \"--beamFile\"\n",
    "\n",
    "#Get rid of Normalized Emittance!\n",
    "Igemtx = EPSX/(beta_rel*gamma_rel)\n",
    "Igemty = EPSY/(beta_rel*gamma_rel)\n",
    "\n",
    "#Beam particle type\n",
    "Rcut = 1000.0\n",
    "Engcut = 0.9\n",
    "baseSimSetup[\"WORLDSIZE\"] = Rcut #[mm] Make the world wider for seeing where particles go\n",
    "baseSimSetup[\"POSLIM\"] = Rcut #XY histogram Position Limit for a few, check RootFileWriter.cc\n",
    "#Beam Angle\n",
    "#Defined by the beam size at BPM94 (TBD) compared to size at BPM93 (~0)\n",
    "if beamXAngle != 0 or beamYAngle != 0:\n",
    "    dBPM93to94 = 3031 #[mm]\n",
    "    #beamAngle = np.arctan(sizeAtBPM94/dBPM93to94) #rad?\n",
    "    modXThick = thick / np.cos(beamXAngle) \n",
    "    modYThick = thick / np.sin(beamYAngle)\n",
    "    print(beamXAngle,modXThick,beamYAngle,modYThick)\n",
    "#Some more output settings\n",
    "baseSimSetup[\"QUICKMODE\"] = False #Include slow plots\n",
    "baseSimSetup[\"MINIROOT\"]  = False #Skip TTRees in the .root files\n",
    "baseSimSetup[\"ANASCATTER\"] = True #don't do Analytical Scatter Angle Test\n",
    "baseSimSetup[\"EDEP_DZ\"]   = 1.0 #Z bin width for energy deposit histogram\n",
    "baseSimSetup[\"CUTOFF_RADIUS\"] = Rcut #[mm]Larger radial cutoff #Decreased 10 May\n",
    "baseSimSetup[\"CUTOFF_ENERGYFRACTION\"] = Engcut #Minimum percent of full Energy to use in cutoff calculations\n",
    "#print(baseSimSetup)\n",
    "\n",
    "#Define material nickname\n",
    "#radiation lengths are from https://pdg.lbl.gov/2019/AtomicNuclearProperties/\n",
    "if material == \"G4_Galactic\":\n",
    "    mat = \"Vac\"\n",
    "    radLen = 1e24 #[mm] basically infinity\n",
    "    atomZ = 0.1\n",
    "    atomA = 0.1\n",
    "elif material == \"G4_Al\":\n",
    "    mat = \"Al\"\n",
    "    radLen = 88.97 #[mm]\n",
    "    atomZ = 13\n",
    "    atomA = 26.981\n",
    "elif material == \"G4_AIR\":\n",
    "    mat = \"Air\"\n",
    "    radLen = 3.122e5 #[mm] -taken from 80% N2 gas(3.260e5mm) and 20% O2 gas (2.571e5mm)\n",
    "    atomZ = 2 #the lbl page says Z/A = 0.49919, so 2/4 is close enough\n",
    "    atomA = 4\n",
    "elif material == \"G4_Au\":\n",
    "    mat = \"Au\"\n",
    "    radLen = 3.344\n",
    "    atomZ = 79\n",
    "    atomA = 196.966\n",
    "\n",
    "if thick!=0.0:\n",
    "    baseSimSetup[\"THICK\"] = thick\n",
    "    baseSimSetup[\"MAT\"] = material\n",
    "    #Valid choices: G4_Al, G4_Au, G4_C, G4_Cu, G4_Pb, G4_Ti, G4_Si, G4_W, G4_U, G4_Fe, G4_MYLAR, G4_KAPTON,\n",
    "    #G4_STAINLESS-STEEL, G4_WATER,G4_SODIUM_IODIDE, G4_Galactic, G4_AIR, Sapphire, ChromoxPure, ChromoxScreen\n",
    "\n",
    "    #Detector distance from target center [mm] Default is 50mm behind Target\n",
    "    #For multiple detector locations, make a list, e.g. [-5,5,5000] but they stack in TTree.\n",
    "    baseSimSetup[\"DIST\"] = [4400] #Detector location. only at ESS Target location\n",
    "    if loadParts:\n",
    "        import re\n",
    "        name = re.sub(\".+(PBW)\",mat,beamFile)\n",
    "        #print(name)\n",
    "        outname = name + \"_run\"\n",
    "    else:\n",
    "        outname = \"simplePBW_\"+str(baseSimSetup[\"THICK\"])+\"mm\"+mat+\"_{:.0f}MeV_emtx{:.0f}um\".format(baseSimSetup[\"ENERGY\"],Twiss[1]*1e3)\n",
    "\n",
    "else:\n",
    "    baseSimSetup[\"THICK\"] = 0.0\n",
    "    baseSimSetup[\"DIST\"] = [4400] #Detector locations. At ESS Target location \n",
    "    baseSimSetup[\"MAGNET\"] = []\n",
    "    #How to construct a magnet for miniScatterDriver, as per kyrsjo/MiniScatter/blob/master/examples/SiRi DeltaE-E detector.ipynb\n",
    "    #Specialized PBW magnet!\n",
    "    m1 = {}\n",
    "    m1[\"pos\"]      = 24.125 #[mm] Minimum position is 24.125mm for r=88m,t=4.25,arcPhi=120!!\n",
    "    m1[\"type\"]     = \"PBW\"\n",
    "    m1[\"length\"]   = 0 #[mm] Must be 0!\n",
    "    m1[\"gradient\"] = 0.0\n",
    "    m1[\"keyval\"] = {}\n",
    "    m1[\"keyval\"][\"material\"]   = material\n",
    "    m1[\"keyval\"][\"radius\"]     = 88.0 #[mm]\n",
    "    m1[\"keyval\"][\"al1Thick\"]   = 1.0 #[mm]\n",
    "    m1[\"keyval\"][\"waterThick\"] = 2.0 #[mm]\n",
    "    m1[\"keyval\"][\"al2Thick\"]   = 1.25 #[mm]\n",
    "    baseSimSetup[\"MAGNET\"].append(m1)\n",
    "\n",
    "    m1Len = baseSimSetup[\"MAGNET\"][0][\"keyval\"][\"al1Thick\"]\n",
    "    m3Len = baseSimSetup[\"MAGNET\"][0][\"keyval\"][\"al2Thick\"]\n",
    "    mat = \"Real\"\n",
    "    radLenAl = 88.97 #[mm] Al\n",
    "    radLenH2O = 360.8 #[mm] liquid Water \n",
    "    #from https://cds.cern.ch/record/1279627/files/PH-EP-Tech-Note-2010-013.pdf\n",
    "\n",
    "    if loadParts:\n",
    "        #outname = \"PBW_{:.0f}MeV_eX{:.0f}um,eY{:.0f}um_bX{:.0f}m,bY{:.0f}m_aX{:.0f},aY{:.0f}_N{:.0e}_mult16\".format(baseSimSetup[\"ENERGY\"],EPSX*1e3,EPSY*1e3,BETAX,BETAY,ALPHAX,ALPHAY,baseSimSetup[\"N\"])\n",
    "        outname = beamFile+\"_runW\"\n",
    "    else:\n",
    "        outname = \"PBW_{:.0f}MeV_eX{:.0f}um,eY{:.0f}um_bX{:.0f}m,bY{:.0f}m_aX{:.0f},aY{:.0f}_t{:.0f}mm_N{:.0e}\".format(baseSimSetup[\"ENERGY\"],EPSX*1e3,EPSY*1e3,BETAX,BETAY,ALPHAX,ALPHAY,thick,baseSimSetup[\"N\"])\n",
    "        #outname = \"PBW_{:.0f}MeV_eX{:.0f}_N{:.0e}_{:.0f}mmRcut\".format(baseSimSetup[\"ENERGY\"],EPSX*1e3,baseSimSetup[\"N\"],Rcut)\n",
    "        #outname = \"PBW_{:.0f}MeV_eX{:.0f}_N{:.0e}_{:.2f}mmAl1{:.2f}mmAl2\".format(baseSimSetup[\"ENERGY\"],EPSX*1e3,baseSimSetup[\"N\"],m1Len,m3Len)\n",
    "        #outname = \"PBW_{:.0f}MeV_ESS\".format(baseSimSetup[\"ENERGY\"])\n",
    "\n",
    "    if options['PBIP']:\n",
    "        outname = outname + \"_PBIP\"\n",
    "        #PBIP Magnet\n",
    "        m2 = {}\n",
    "        m2[\"pos\"] = 1874.0 #[mm]\n",
    "        m2[\"type\"] = \"COLLIMATORRECT\"\n",
    "        m2[\"length\"]   = 450.0 #[mm]\n",
    "        m2[\"gradient\"] = 0.0\n",
    "        m2[\"keyval\"] = {}\n",
    "        m2[\"keyval\"][\"material\"] = \"G4_Al\"\n",
    "        m2[\"keyval\"][\"holeWidth\"]   = 200.0 #[mm]\n",
    "        m2[\"keyval\"][\"holeHeight\"]   = 80.0 #[mm]\n",
    "        m2[\"keyval\"][\"absorberWidth\"]    = 950.0 #[mm]\n",
    "        m2[\"keyval\"][\"absorberHeight\"]   = 950.0 #[mm]\n",
    "        baseSimSetup[\"MAGNET\"].append(m2)\n",
    "\n",
    "if options['physList'] == \"QGSP_BERT_EMZ\":\n",
    "    outname = outname + \"_QBZ\"\n",
    "elif options['physList'] == \"FTFP_BERT_EMZ\":\n",
    "    outname = outname + \"_FBZ\"\n",
    "\n",
    "#Store the .root files in a subfolder from where this script is running,\n",
    "# normally MiniScatter/examples, in order to keep things together\n",
    "\n",
    "#Remove upper directories that may have come with beamFile for appending outname to scratch folder\n",
    "import re\n",
    "if re.search(\"/PBW_\",outname):\n",
    "    #print(\"\\n\",outname,\"\\n\")\n",
    "    outname = re.sub(\".+(?=(PBW_))\",\"\",outname)\n",
    "    #print(\"removed\",outname)\n",
    "\n",
    "#Find which folder root file is in\n",
    "if os.uname()[1] == \"mbarrios-XPS-13-9300\":\n",
    "    baseSimSetup[\"OUTFOLDER\"] = os.path.join(\"/home/efackelman/Documents/UiO/Forske/ESSProjects/PBWScattering/scatterPBWFiles/\")\n",
    "elif os.uname()[1] == \"tensor.uio.no\":\n",
    "    if Twiss[1] >= 1:\n",
    "        baseSimSetup[\"OUTFOLDER\"] = os.path.join(\"/scratch2/ericdf/PBWScatter/ESS/\")\n",
    "    elif Twiss[1] < 1:\n",
    "        baseSimSetup[\"OUTFOLDER\"] = os.path.join(\"/scratch2/ericdf/PBWScatter/pencil/\")\n",
    "    else:\n",
    "        baseSimSetup[\"OUTFOLDER\"] = os.path.join(\"/scratch2/ericdf/PBWScatter/\")\n",
    "else: print(\"Help! Unknown build directory!, simulation.py l 243\")\n",
    "\n",
    "#print(baseSimSetup[\"OUTFOLDER\"])\n",
    "#put in Scratch2 of tensor for faster processing, as per Kyrre\n",
    "\n",
    "#copy so it is if running multiple scans in a Jupyter notebook\n",
    "simSetup_simple1 = baseSimSetup.copy()\n",
    "\n",
    "#print(outname,\"\\n\")\n",
    "simSetup_simple1[\"OUTNAME\"] = outname #\"PBW_570MeV_pencil_N1e+05\"#\n",
    "\n",
    "####Redundant??? ----------\n",
    "#Variables for automation\n",
    "if os.uname()[1] == \"mbarrios-XPS-13-9300\":\n",
    "    savepath = \"/home/efackelman/Documents/UiO/Forske/ESSProjects/PBWScattering/scatterPBWFiles/\"\n",
    "elif os.uname()[1] == \"tensor.uio.no\":\n",
    "    #savepath = \"/scratch2/ericdf/PBWScatter/\"\n",
    "    savepath = \"/uio/hume/student-u52/ericdf/Documents/UiO/Forske/ESSProjects/PBWScattering/Pictures/\" #Eric's files location\n",
    "savename=savepath+outname #base savename for plots downstream, brings directly to my directory\n",
    "savedfile=os.path.join(simSetup_simple1[\"OUTFOLDER\"],simSetup_simple1[\"OUTNAME\"])+\".root\"\n",
    "\n",
    "#print(simSetup_simple1)"
   ]
  },
  {
   "cell_type": "code",
   "execution_count": 7,
   "id": "3e77fc91-c945-44a0-8a2f-e4db7681c9c3",
   "metadata": {},
   "outputs": [
    {
     "name": "stdout",
     "output_type": "stream",
     "text": [
      "Found a file at '/scratch2/ericdf/PBWScatter/ESS/PBW_570MeV_beta1007,130m_RMamp0,0mm_N1.4e+07_NpB500_NPls1e+03_runW_QBZ.root', loading!\n"
     ]
    }
   ],
   "source": [
    "(twiss_PBW, numPart_PBW, objects_PBW) = \\\n",
    "    miniScatterDriver.getData_tryLoad(simSetup_simple1, tryload=TRYLOAD,getObjects=[\"tracker_cutoff_xy_PDG2212\"])\n",
    "targ=objects_PBW[\"tracker_cutoff_xy_PDG2212\"]"
   ]
  },
  {
   "cell_type": "code",
   "execution_count": 8,
   "id": "feaf85ba-117b-4779-a0da-5082a81a2501",
   "metadata": {},
   "outputs": [],
   "source": [
    "#cc1 = ROOT.TCanvas()\n",
    "targ=objects_PBW[\"tracker_cutoff_xy_PDG2212\"]\n",
    "#targ.Draw()\n",
    "#cc1.Draw()"
   ]
  },
  {
   "cell_type": "markdown",
   "id": "412841b2-bd31-4066-b57b-6aebe766884f",
   "metadata": {},
   "source": [
    "print(\"Y Axis\")"
   ]
  },
  {
   "cell_type": "code",
   "execution_count": 39,
   "id": "17f7b9b9-9843-4a67-a9ab-fb7132995850",
   "metadata": {},
   "outputs": [],
   "source": [
    "def gaussianFit(hist,axis,width,maxim,options,name,y1,y2):\n",
    "    import ROOT\n",
    "    targ=hist\n",
    "    if   axis == \"y\" or axis == \"Y\": \n",
    "        proj = targ.ProjectionY(axis,targ.GetYaxis().FindBin(-width),targ.GetYaxis().FindBin(width))\n",
    "    elif axis == \"x\" or axis == \"X\":\n",
    "        proj = targ.ProjectionX(axis,targ.GetXaxis().FindBin(-width),targ.GetXaxis().FindBin(width))\n",
    "\n",
    "    #cc1 = ROOT.TCanvas()\n",
    "    #proj.Draw()\n",
    "    #if axis == \"y\": proj.GetXaxis().SetRangeUser(-600,600)\n",
    "    #cc1.Draw()\n",
    "    #cc1.SetLogy()\n",
    "    f1 = ROOT.TF1('f1','gaus',-maxim,maxim)\n",
    "    f1_res = proj.Fit(f1, 'RS')\n",
    "    #print(f1_res)\n",
    "    p0 = f1.GetParameter(0)\n",
    "    p1 = f1.GetParameter(1)\n",
    "    p2 = f1.GetParameter(2)\n",
    "    #print(\"\\n\",p0,p1,p2,\"\\n\")\n",
    "\n",
    "    #if axis == \"y\": print(proj.Integral(proj.GetXaxis().FindBin(-50),projY.GetXaxis().FindBin(50),'width')-f1.Integral(-50,50))\n",
    "\n",
    "    r=0.1 #selected because:?\n",
    "    f2 = ROOT.TF1('f2','[0] * exp(-x*x/(2*[1]*[1])) + [2] * exp(-x*x/(2*[3]*[3])) + [4] * exp(-x*x/(2*[5]*[5])) + [6] * exp(-x*x/(2*[7]*[7]))',-maxim,maxim)\n",
    "    #f2 = ROOT.TF1('f2','[0] * exp(-x*x/(2*[1]*[1])) + [2] * exp(-x*x/(2*[3]*[3])) + [4] * exp(-x*x/(2*[5]*[5]))',-maxim,maxim)\n",
    "    #f2 = ROOT.TF1('f2','[0] * exp(-x*x/(2*[1]*[1])) + [2] * exp(-x*x/(2*[3]*[3]))',-maxim,maxim)\n",
    "    #f2 = ROOT.TF1('f2','[0] * exp(-x*x/(2*[1]*[1]))',-maxim,maxim)\n",
    "\n",
    "\n",
    "    #print(type(r))\n",
    "    #Sets initial values as suggested by Kyrre\n",
    "    f2.SetParameters(p0*(1-r),p2*2,p0*r,20,p0*(1-r*r),p2*5,p0*(1-r*r),p2*10)\n",
    "\n",
    "    print(f2.GetParameter(6),f2.GetParameter(0), f2.GetParameter(1),p2)\n",
    "\n",
    "\n",
    "    #print(\"\\n\",p0,p1,p2,\"\\n\")\n",
    "    f2.SetParLimits(0,p0*0.5,p0*5) #p0=8e4,7e5\n",
    "    #f2.SetParLimits(2,0,p0*0.5) #\n",
    "    f2.SetParLimits(3,p2*1.01,p2*y1) #p3=11,32\n",
    "    f2.SetParLimits(5,p2*(y1+.01),p2*y2) #p5=32,300\n",
    "    #f2.SetParLimits(7,p2*(y1),p2*y2*100) #p7 =300,3000\n",
    "    f2_res = proj.Fit(f2, 'RS')\n",
    "    #print(f1_res)\n",
    "    #print(f2_res)\n",
    "\n",
    "    x=600\n",
    "    if options['saveFits']:\n",
    "        c1 = ROOT.TCanvas()\n",
    "        proj.Draw()\n",
    "        f2.SetLineColor(ROOT.kBlack)\n",
    "        f2.Draw('same')\n",
    "        #f1.SetLineColor(ROOT.kRed)\n",
    "        #f1.Draw('same')\n",
    "        if axis == \"y\" or axis == \"Y\": proj.GetXaxis().SetRangeUser(-x,x)\n",
    "        elif axis ==\"x\" or axis == \"X\": proj.GetXaxis().SetRangeUser(-x,x)\n",
    "        c1.SetLogy()\n",
    "        c1.Print(name+\"_\"+axis+\"GaussFit.pdf\")\n",
    "    #print(f1_res)\n",
    "   # print(\"f2_res\",f2_res)\n",
    "\n",
    "    #print(projY.Integral(projY.GetXaxis().FindBin(-x),projY.GetXaxis().FindBin(x),'width'),fy1.Integral(-x,x),fy2.Integral(-x,x))\n",
    "    #print(f2.Integral(-x,x)-f1.Integral(-x,x))\n",
    "    if axis == \"y\" or axis == \"Y\": difference = proj.Integral(proj.GetXaxis().FindBin(-x),proj.GetXaxis().FindBin(x),'width')  -  f2.Integral(-x,x)\n",
    "    if axis == \"x\" or axis == \"X\": difference = proj.Integral(proj.GetXaxis().FindBin(-x),proj.GetXaxis().FindBin(x),'width')  -  f2.Integral(-x,x)\n",
    "   # print(difference) #need better name\n",
    "\n",
    "   # w = np.zeros(maxim)\n",
    "   # diff = np.zeros(maxim)\n",
    "   # for i in range(maxim):\n",
    "   #     w[i] = i\n",
    "   #     diff[i] = projY.Integral(projY.GetXaxis().FindBin(-i),projY.GetXaxis().FindBin(i),'width')  -  fy2.Integral(-i,i)\n",
    "   #     if i == maxim-1: print(diff[i])\n",
    "    #plt.plot(diff)\n",
    "    #plt.title(\"Y Axis Difference\")\n",
    "    #plt.yscale(\"log\")\n",
    "    coeffs = [f2.GetParameter(0),f2.GetParameter(1),f2.GetParameter(2),f2.GetParameter(3),f2.GetParameter(4),f2.GetParameter(5),f2.GetParameter(6),f2.GetParameter(7)]\n",
    "    print(axis,difference,coeffs)\n",
    "\n",
    "    return difference, coeffs"
   ]
  },
  {
   "cell_type": "code",
   "execution_count": 40,
   "id": "36e2b3e8-4055-4c28-a82c-01e268106bfc",
   "metadata": {},
   "outputs": [
    {
     "name": "stdout",
     "output_type": "stream",
     "text": [
      "156892.24792256695 142629.31629324268 21.56997709023961 10.784988545119806\n",
      "y 1063.6782068731263 [155322.73590329953, 10.286813248008201, 6322.364470032965, 18.091929067680724, -56104.58964889317, 46.91965407093777, 56210.02259415741, 46.92026662112715]\n",
      " FCN=10518.5 FROM MIGRAD    STATUS=CONVERGED      66 CALLS          67 TOTAL\n",
      "                     EDM=8.04412e-09    STRATEGY= 1      ERROR MATRIX ACCURATE \n",
      "  EXT PARAMETER                                   STEP         FIRST   \n",
      "  NO.   NAME      VALUE            ERROR          SIZE      DERIVATIVE \n",
      "   1  Constant     1.58477e+05   1.37493e+02   5.42180e+00  -2.11979e-07\n",
      "   2  Mean        -5.07183e-03   7.36880e-03   3.68964e-04  -1.66008e-02\n",
      "   3  Sigma        1.07850e+01   5.76596e-03   6.69429e-06  -2.49791e-01\n",
      " FCN=532.062 FROM HESSE     STATUS=NOT POSDEF     61 CALLS        1701 TOTAL\n",
      "                     EDM=3.82753e-06    STRATEGY= 1      ERR MATRIX NOT POS-DEF\n",
      "  EXT PARAMETER                APPROXIMATE        STEP         FIRST   \n",
      "  NO.   NAME      VALUE            ERROR          SIZE      DERIVATIVE \n",
      "   1  p0           1.55323e+05   3.07473e+02   1.16060e-06   7.56000e-01\n",
      "   2  p1           1.02868e+01   1.33587e-02   1.07702e-05   3.35633e-02\n",
      "   3  p2           6.32236e+03   3.13037e+02   9.96420e-02   6.19571e-06\n",
      "   4  p3           1.80919e+01   1.98086e-01   1.71446e-05   6.27585e-02\n",
      "   5  p4          -5.61046e+04   2.98931e+01   1.33764e-02   1.68816e-04\n",
      "   6  p5           4.69197e+01   7.93108e-03   2.34624e-07  -2.81303e+01\n",
      "   7  p6           5.62100e+04   2.98931e+01   1.34015e-02   1.68818e-04\n",
      "   8  p7           4.69203e+01   7.92364e-03   1.11867e-05   1.86905e-02\n"
     ]
    }
   ],
   "source": [
    "options = {'saveFits':False}\n",
    "diffy,coeffsy = gaussianFit(objects_PBW[\"tracker_cutoff_xy_PDG2212\"],\"y\",2,500,options,savename,2,30)\n",
    "#diffx,coeffsx = gaussianFit(objects_PBW[\"tracker_cutoff_xy_PDG2212\"],\"x\",2,500,options,savename,2,10)\n",
    "#print(diffy,diffx)\n"
   ]
  },
  {
   "cell_type": "code",
   "execution_count": 41,
   "id": "c9c91c7b-410e-42a8-ba1b-f09975a73576",
   "metadata": {},
   "outputs": [],
   "source": [
    "#cc2 = ROOT.TCanvas()\n",
    "#targ.Draw()\n",
    "#cc2.Draw()\n",
    "\n",
    "#X Axis"
   ]
  },
  {
   "cell_type": "code",
   "execution_count": 12,
   "id": "87a83fdf-9b1d-4c6d-a80e-9fd420e8e117",
   "metadata": {},
   "outputs": [
    {
     "data": {
      "image/png": "[encoded data removed]",
      "text/plain": [
       "<IPython.core.display.Image object>"
      ]
     },
     "metadata": {},
     "output_type": "display_data"
    }
   ],
   "source": [
    "cc2 = ROOT.TCanvas()\n",
    "#targX=targ.Clone()\n",
    "projX = targ.ProjectionX(\"x\",targ.GetYaxis().FindBin(-2),targ.GetYaxis().FindBin(2))\n",
    "projX.Draw()\n",
    "cc2.Draw()\n",
    "cc2.SetLogy()"
   ]
  },
  {
   "cell_type": "code",
   "execution_count": 13,
   "id": "a014328a-af83-4c24-a001-47bb90d8b98c",
   "metadata": {},
   "outputs": [
    {
     "name": "stdout",
     "output_type": "stream",
     "text": [
      "\n",
      "****************************************\n",
      "Minimizer is Minuit / Migrad\n",
      "Chi2                      =      3561.42\n",
      "NDf                       =          330\n",
      "Edm                       =   2.1294e-07\n",
      "NCalls                    =           64\n",
      "Constant                  =       159056   +/-   112.418     \n",
      "Mean                      =   0.00670935   +/-   0.00883772  \n",
      "Sigma                     =        15.57   +/-   0.0065569    \t (limited)\n",
      "\n",
      " FCN=3561.42 FROM MIGRAD    STATUS=CONVERGED      63 CALLS          64 TOTAL\n",
      "                     EDM=2.1294e-07    STRATEGY= 1      ERROR MATRIX ACCURATE \n",
      "  EXT PARAMETER                                   STEP         FIRST   \n",
      "  NO.   NAME      VALUE            ERROR          SIZE      DERIVATIVE \n",
      "   1  Constant     1.59056e+05   1.12418e+02   2.63082e+00   5.79810e-06\n",
      "   2  Mean         6.70935e-03   8.83772e-03   2.57561e-04  -2.28650e-02\n",
      "   3  Sigma        1.55700e+01   6.55690e-03   3.23865e-06   4.00902e-01\n"
     ]
    }
   ],
   "source": [
    "xmax=500\n",
    "fx1 = ROOT.TF1('fx1','gaus',-xmax,xmax)\n",
    "fx1_res = projX.Fit(fx1, 'RS')\n",
    "print(fx1_res)\n",
    "px0 = fx1.GetParameter(0)\n",
    "px1 = fx1.GetParameter(1)\n",
    "px2 = fx1.GetParameter(2)"
   ]
  },
  {
   "cell_type": "code",
   "execution_count": 14,
   "id": "439802c3-6697-471b-bb72-b1e8f232c866",
   "metadata": {},
   "outputs": [
    {
     "name": "stdout",
     "output_type": "stream",
     "text": [
      "<class 'float'>\n",
      "159056.04407954967 143150.4396715947 15.570046717592556 159056.04407954967 0.0067093457619991186 15.570046717592556\n"
     ]
    }
   ],
   "source": [
    "r=0.1\n",
    "xmax=500\n",
    "fx2 = ROOT.TF1('f2','[0] * exp(-x*x/(2*[1]*[1])) + [2] * exp(-x*x/(2*[3]*[3])) + [4] * exp(-x*x/(2*[5]*[5]) )+ [6] * exp(-x*x/(2*[7]*[7]))',-xmax,xmax) # \n",
    "#fx2 = ROOT.TF1('fx2','[0] * exp(-x*x/(2*[1]*[1])) + [2] * exp(-x*x/(2*[3]*[3])) + [4] * exp(-x*x/(2*[5]*[5]))',-xmax,xmax) #  + [6] * exp(-x*x/(2*[7]*[7]))\n",
    "\n",
    "print(type(r))\n",
    "fx2.SetParameters(px0*(1-r),px2,px0*r,20,px0*(1-r*r),px2)#,px0*(1-r*r*r),px2*10)\n",
    "fx2.SetParameters(px0*(1-r),px2,px0*r,16,px0*(1-r*r),px2,px0*(1-r*r),px2*10)\n",
    "\n",
    "print(fx1.GetParameter(0),fx2.GetParameter(0), fx2.GetParameter(1),px0,px1,px2)"
   ]
  },
  {
   "cell_type": "code",
   "execution_count": 15,
   "id": "d7ca48f3-cfe6-400a-ae1b-c776ce53236f",
   "metadata": {},
   "outputs": [
    {
     "name": "stdout",
     "output_type": "stream",
     "text": [
      " FCN=255.619 FROM MIGRAD    STATUS=CALL LIMIT   2136 CALLS        2137 TOTAL\n",
      "                     EDM=0.36598    STRATEGY= 1  ERROR MATRIX UNCERTAINTY  26.0 per cent\n",
      "  EXT PARAMETER                APPROXIMATE        STEP         FIRST   \n",
      "  NO.   NAME      VALUE            ERROR          SIZE      DERIVATIVE \n",
      "   1  p0           9.53243e+04   1.78057e+03   9.81606e-04  -1.76836e+02\n",
      "   2  p1           1.63045e+01   3.03559e-02   8.99820e-04  -3.40948e+01\n",
      "   3  p2           3.94707e+02   3.63013e+01  -4.21256e-01  -2.30254e-02\n",
      "   4  p3           3.65072e+01   6.74469e-01   3.59454e-05   2.64384e+01\n",
      "   5  p4           6.51158e+04   1.87062e+03   3.11261e+01   3.19419e-03\n",
      "   6  p5           1.39791e+01   4.21865e-02  -2.28909e-03  -1.00653e+01\n",
      "   7  p6           2.10834e+00   1.16427e-01  -2.30757e-02  -3.03895e+00\n",
      "   8  p7           3.34515e+02   1.58109e-04  -1.55780e-09  -1.02417e+00\n"
     ]
    },
    {
     "name": "stderr",
     "output_type": "stream",
     "text": [
      "Info in <ROOT::Math::ParameterSettings>: lower/upper bounds outside current parameter value. The value will be set to (low+up)/2 \n",
      "Warning in <Fit>: Abnormal termination of minimization.\n"
     ]
    }
   ],
   "source": [
    "x1=3\n",
    "x2=20\n",
    "fx2.SetParLimits(0,px0*0.5,px0*2)\n",
    "#fx2.SetParLimits(1,px2*0.1,px2*5)\n",
    "#fx2.SetParLimits(2,0.1,px0*0.5)\n",
    "fx2.SetParLimits(3,px2*1.01,px2*x1*2)\n",
    "#fx2.SetParLimits(4,1,px0)\n",
    "#fx2.SetParLimits(5,px2*(x1+0.1),px2*x2)\n",
    "#fx2.SetParLimits(6,0.1,px0)\n",
    "fx2.SetParLimits(7,px2*(x2+0.1),px2*x2*20)\n",
    "fx2_res = projX.Fit(fx2, 'RS')\n",
    "#print(f1_res)\n",
    "#print(f2_res)"
   ]
  },
  {
   "cell_type": "code",
   "execution_count": 16,
   "id": "fb867f2a-6d41-4703-96db-f0c3c67de678",
   "metadata": {},
   "outputs": [
    {
     "name": "stdout",
     "output_type": "stream",
     "text": [
      "\n",
      "****************************************\n",
      "Minimizer is Minuit / Migrad\n",
      "Chi2                      =      3561.42\n",
      "NDf                       =          330\n",
      "Edm                       =   2.1294e-07\n",
      "NCalls                    =           64\n",
      "Constant                  =       159056   +/-   112.418     \n",
      "Mean                      =   0.00670935   +/-   0.00883772  \n",
      "Sigma                     =        15.57   +/-   0.0065569    \t (limited)\n",
      "\n",
      "\n",
      "****************************************\n",
      "         Invalid FitResult  (status = 4 )\n",
      "****************************************\n",
      "Minimizer is Minuit / Migrad\n",
      "Chi2                      =      255.619\n",
      "NDf                       =          325\n",
      "Edm                       =      0.36598\n",
      "NCalls                    =         2137\n",
      "p0                        =      95324.3   +/-   1780.57      \t (limited)\n",
      "p1                        =      16.3045   +/-   0.0303559   \n",
      "p2                        =      394.707   +/-   36.3013     \n",
      "p3                        =      36.5072   +/-   0.674469     \t (limited)\n",
      "p4                        =      65115.8   +/-   1870.62     \n",
      "p5                        =      13.9791   +/-   0.0421865   \n",
      "p6                        =      2.10834   +/-   0.116427    \n",
      "p7                        =      334.515   +/-   0.000158109  \t (limited)\n",
      "\n"
     ]
    },
    {
     "data": {
      "image/png": "[encoded data removed]",
      "text/plain": [
       "<IPython.core.display.Image object>"
      ]
     },
     "metadata": {},
     "output_type": "display_data"
    }
   ],
   "source": [
    "#cx2 = ROOT.TCanvas()\n",
    "#projX.Draw()\n",
    "#fx2.SetLineColor(ROOT.kBlack)\n",
    "#fx2.Draw('same')\n",
    "#fx1.Draw('same')\n",
    "y=500\n",
    "#projX.GetXaxis().SetRangeUser(-y,y)\n",
    "#projX.GetYaxis().SetRangeUser(0,1e5)\n",
    "#cx2.SetLogx()\n",
    "#cx2.Draw()\n",
    "\n",
    "cc3 = ROOT.TCanvas()\n",
    "projX.Draw()\n",
    "cc3.Draw()\n",
    "fx2.SetLineColor(ROOT.kBlack)\n",
    "fx2.Draw('same')\n",
    "projX.GetXaxis().SetRangeUser(-y,y)\n",
    "cc3.SetLogy()\n",
    "print(fx1_res)\n",
    "print(fx2_res)"
   ]
  },
  {
   "cell_type": "code",
   "execution_count": 17,
   "id": "e9c5e439-30fd-432b-9b53-c04e4dac5afa",
   "metadata": {},
   "outputs": [
    {
     "data": {
      "text/plain": [
       "-348.2489613564685"
      ]
     },
     "execution_count": 17,
     "metadata": {},
     "output_type": "execute_result"
    }
   ],
   "source": [
    "projX.Integral(projX.GetXaxis().FindBin(-y),projX.GetYaxis().FindBin(y),'width')  -  fx2.Integral(-y,y)"
   ]
  },
  {
   "cell_type": "code",
   "execution_count": 18,
   "id": "14621f30-efef-426f-8eae-00f29e086748",
   "metadata": {
    "jp-MarkdownHeadingCollapsed": true,
    "tags": []
   },
   "outputs": [
    {
     "name": "stdout",
     "output_type": "stream",
     "text": [
      "0.0 6207690.081237013 6215160.2489613565\n",
      "7470.167724343017\n",
      "-6215160.2489613565\n"
     ]
    }
   ],
   "source": [
    "print(projX.Integral(projX.GetYaxis().FindBin(-y),projX.GetYaxis().FindBin(y),'width'),fx1.Integral(-y,y),fx2.Integral(-y,y))\n",
    "print(   fx2.Integral(-y,y)-fx1.Integral(-y,y))\n",
    "print(   projX.Integral(projX.GetYaxis().FindBin(-y),projX.GetYaxis().FindBin(y),'width')-fx2.Integral(-y,y))"
   ]
  },
  {
   "cell_type": "markdown",
   "id": "45799245-b355-4dae-9fae-8eb26c6bd7ce",
   "metadata": {},
   "source": [
    "### "
   ]
  },
  {
   "cell_type": "markdown",
   "id": "0cb0efc9-1e9f-4116-82dc-53b8f67e7f07",
   "metadata": {},
   "source": [
    " "
   ]
  },
  {
   "cell_type": "code",
   "execution_count": null,
   "id": "5b7c7365-5a1c-4d5a-bff0-9c9976526f14",
   "metadata": {},
   "outputs": [],
   "source": []
  },
  {
   "cell_type": "code",
   "execution_count": 19,
   "id": "c218368d-f31a-4df4-88e0-7fece0071408",
   "metadata": {},
   "outputs": [
    {
     "ename": "NameError",
     "evalue": "name 'f2' is not defined",
     "output_type": "error",
     "traceback": [
      "\u001b[0;31m---------------------------------------------------------------------------\u001b[0m",
      "\u001b[0;31mNameError\u001b[0m                                 Traceback (most recent call last)",
      "\u001b[0;32m<ipython-input-19-9b95610bd46f>\u001b[0m in \u001b[0;36m<module>\u001b[0;34m\u001b[0m\n\u001b[0;32m----> 1\u001b[0;31m \u001b[0;36m1\u001b[0m\u001b[0;34m/\u001b[0m\u001b[0;34m(\u001b[0m\u001b[0mf2\u001b[0m\u001b[0;34m.\u001b[0m\u001b[0mGetParameter\u001b[0m\u001b[0;34m(\u001b[0m\u001b[0;36m2\u001b[0m\u001b[0;34m)\u001b[0m\u001b[0;34m*\u001b[0m\u001b[0mROOT\u001b[0m\u001b[0;34m.\u001b[0m\u001b[0msqrt\u001b[0m\u001b[0;34m(\u001b[0m\u001b[0;36m6.28\u001b[0m\u001b[0;34m)\u001b[0m\u001b[0;34m)\u001b[0m\u001b[0;34m\u001b[0m\u001b[0;34m\u001b[0m\u001b[0m\n\u001b[0m",
      "\u001b[0;31mNameError\u001b[0m: name 'f2' is not defined"
     ]
    }
   ],
   "source": [
    "1/(f2.GetParameter(2)*ROOT.sqrt(6.28))"
   ]
  },
  {
   "cell_type": "code",
   "execution_count": null,
   "id": "c73e022a-aa8f-4d62-a93a-346a1b7d41e8",
   "metadata": {},
   "outputs": [],
   "source": [
    "Gdata = projY.GetIntegral()\n",
    "#c1 = ROOT.TCanvas()\n",
    "\n",
    "#c1.Draw()"
   ]
  },
  {
   "cell_type": "code",
   "execution_count": null,
   "id": "7d885fab-32a0-4c37-b0f6-f88b9bb03eb8",
   "metadata": {},
   "outputs": [],
   "source": [
    "projX = targ.ProjectionX(\"x\",targ.GetYaxis().FindBin(-2),targ.GetYaxis().FindBin(2))\n",
    "f3 = ROOT.TF1(\"f3\",\"1/ pow(x,[0])\",-xmax,xmax)\n",
    "f3_res = projX.Fit(f2, 'RS')\n",
    "c1 = ROOT.TCanvas()\n",
    "projX.Draw()\n",
    "f1.SetLineColor(ROOT.kBlack)\n",
    "f3.Draw('same')\n",
    "f1.Draw('same')\n",
    "projX.GetXaxis().SetRangeUser(-600,600)\n",
    "c1.SetLogy()\n",
    "c1.Draw()\n",
    "print(f1_res)\n",
    "print(f3_res)"
   ]
  },
  {
   "cell_type": "code",
   "execution_count": null,
   "id": "0aaed28f-01fe-4d9e-9b6c-c7839d9f45a9",
   "metadata": {},
   "outputs": [],
   "source": []
  },
  {
   "cell_type": "code",
   "execution_count": null,
   "id": "eee45f8e-e448-4cd1-9d79-d0441309d48d",
   "metadata": {},
   "outputs": [],
   "source": []
  },
  {
   "cell_type": "code",
   "execution_count": null,
   "id": "3c6511da-03d3-4a75-bc02-eed1d588dce2",
   "metadata": {},
   "outputs": [],
   "source": []
  },
  {
   "cell_type": "code",
   "execution_count": null,
   "id": "9a74225b-e74d-4288-9d75-c7747043c280",
   "metadata": {},
   "outputs": [],
   "source": []
  },
  {
   "cell_type": "code",
   "execution_count": null,
   "id": "e398d30f-1cd3-4de9-bf5d-c580e80959f2",
   "metadata": {},
   "outputs": [],
   "source": [
    "#Removed from above:"
   ]
  },
  {
   "cell_type": "code",
   "execution_count": null,
   "id": "4a175d2a-bdc6-4c1d-b158-517c03ce4447",
   "metadata": {},
   "outputs": [],
   "source": [
    "#c1 = ROOT.TCanvas()\n",
    "#projY.Draw()\n",
    "#f1_res.Draw('same')\n",
    "#c1.SetLogy()\n",
    "#c1.Draw()"
   ]
  }
 ],
 "metadata": {
  "kernelspec": {
   "display_name": "Python 3",
   "language": "python",
   "name": "python3"
  },
  "language_info": {
   "codemirror_mode": {
    "name": "ipython",
    "version": 3
   },
   "file_extension": ".py",
   "mimetype": "text/x-python",
   "name": "python",
   "nbconvert_exporter": "python",
   "pygments_lexer": "ipython3",
   "version": "3.6.8"
  }
 },
 "nbformat": 4,
 "nbformat_minor": 5
}
